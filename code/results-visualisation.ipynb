{
 "cells": [
  {
   "cell_type": "markdown",
   "metadata": {},
   "source": [
    "## Visualizing taxi trajectories with MovingPandas\n",
    "\n",
    "In an efort to analyze our trajectory more closely, MovingPandas is a good tool. In order for the dataset to work with MovingPandas however, we need to make some changes.\n",
    "After the dataset is on the right format, we are able to retrieve information about speed, distance, direction, acceleration, and perform stop detection. Among other things."
   ]
  },
  {
   "cell_type": "code",
   "execution_count": 9,
   "metadata": {},
   "outputs": [],
   "source": [
    "import datetime as dt\n",
    "import pandas as pd\n",
    "import geopandas as gpd\n",
    "import movingpandas as mpd\n",
    "import holoviews as hv\n",
    "import shapely as shp\n",
    "import hvplot.pandas \n",
    "import os\n",
    "import re\n",
    "\n",
    "import global_variables"
   ]
  },
  {
   "cell_type": "markdown",
   "metadata": {},
   "source": [
    "### Some helper functions\n",
    "We need to create a DataFrame with one point + timestamp per row before we can use MovingPandas to create Trajectories"
   ]
  },
  {
   "cell_type": "code",
   "execution_count": 10,
   "metadata": {},
   "outputs": [],
   "source": [
    "def unixtime_to_datetime(unix_time):\n",
    "    return dt.datetime.fromtimestamp(unix_time)\n",
    " \n",
    "def compute_datetime(row):\n",
    "    unix_time = row['TIMESTAMP']\n",
    "    # Adding time to each point\n",
    "    offset = row['running_number'] * dt.timedelta(seconds=15)\n",
    "    return unixtime_to_datetime(unix_time) + offset\n",
    " \n",
    "def create_point(xy):\n",
    "    try: \n",
    "        return shp.Point(xy)\n",
    "    except TypeError:  # when there are nan values in the input data\n",
    "        return None"
   ]
  },
  {
   "cell_type": "markdown",
   "metadata": {},
   "source": [
    "### Folder to use"
   ]
  },
  {
   "cell_type": "code",
   "execution_count": 11,
   "metadata": {},
   "outputs": [],
   "source": [
    "path_to_results_folder = f\"experiments/results/{global_variables.CHOSEN_SUBSET_NAME}\""
   ]
  },
  {
   "cell_type": "markdown",
   "metadata": {},
   "source": [
    "### Create dataframe"
   ]
  },
  {
   "cell_type": "code",
   "execution_count": 12,
   "metadata": {},
   "outputs": [],
   "source": [
    "def plot_result(path_to_file):\n",
    "    # Interactive map gets a bit slow above 100 rows\n",
    "    # Crashes with an index error if nrows > 265 \n",
    "    df = pd.read_csv(path_to_file) # , skiprows=[i for i in range(1, 10)]\n",
    "    df.POLYLINE = df.POLYLINE.apply(eval)  # string to list\n",
    "\n",
    "    #Explode POLYLINE to make each point a separate row. Then, explode timestamp and calculate the timestamp for each point. Drop the old columns and now the DF is suited for MPD\n",
    "    new_df = df.explode('POLYLINE')\n",
    "    new_df['geometry'] = new_df['POLYLINE'].apply(create_point)\n",
    "    new_df['running_number'] = new_df.groupby('TRIP_ID').cumcount()\n",
    "    new_df['datetime'] = new_df.apply(lambda row: compute_datetime(row), axis=1)\n",
    "    new_df.drop(columns=['POLYLINE', 'TIMESTAMP', 'running_number'], inplace=True)\n",
    "\n",
    "    #Plotting the trajectories with hvplot to create an interactive map.\n",
    "    trajs = mpd.TrajectoryCollection(gpd.GeoDataFrame(new_df, crs=4326), traj_id_col='TRIP_ID', t='datetime')\n",
    "\n",
    "    # Add hover_cols if we want to display TRIP_ID when hovering over each trajectory\n",
    "\n",
    "    plot = trajs.hvplot(title='Taxi Trajectory Data', tiles='CartoLight', x = 'x', y = 'y', hover_cols=['TRIP_ID'])\n",
    "\n",
    "    hvplot.show(plot)\n"
   ]
  },
  {
   "cell_type": "code",
   "execution_count": 13,
   "metadata": {},
   "outputs": [
    {
     "name": "stdout",
     "output_type": "stream",
     "text": [
      "ALL MATCHES PRINTED:\n",
      "test\n",
      "Launching server at http://localhost:32807\n",
      "test\n",
      "Launching server at http://localhost:36081\n",
      "test\n",
      "Launching server at http://localhost:45789\n",
      "test\n",
      "Launching server at http://localhost:33499\n",
      "test\n",
      "Launching server at http://localhost:35629\n",
      "test\n",
      "Launching server at http://localhost:44111\n",
      "test\n",
      "Launching server at http://localhost:45549\n",
      "test\n",
      "Launching server at http://localhost:44607\n",
      "test\n",
      "Launching server at http://localhost:34243\n",
      "test\n",
      "Launching server at http://localhost:46365\n",
      "test\n",
      "Launching server at http://localhost:42273\n",
      "test\n",
      "Launching server at http://localhost:39119\n",
      "test\n",
      "Launching server at http://localhost:41621\n",
      "test\n",
      "Launching server at http://localhost:40459\n",
      "test\n",
      "Launching server at http://localhost:34101\n",
      "test\n",
      "Launching server at http://localhost:41237\n",
      "test\n",
      "Launching server at http://localhost:45711\n",
      "test\n",
      "Launching server at http://localhost:42067\n",
      "test\n",
      "Launching server at http://localhost:41865\n",
      "test\n",
      "Launching server at http://localhost:34781\n",
      "test\n",
      "Launching server at http://localhost:36365\n",
      "test\n",
      "Launching server at http://localhost:37227\n",
      "test\n",
      "Launching server at http://localhost:46207\n",
      "test\n",
      "Launching server at http://localhost:45227\n",
      "test\n",
      "Launching server at http://localhost:32875\n",
      "test\n",
      "Launching server at http://localhost:34619\n",
      "test\n",
      "Launching server at http://localhost:44489\n",
      "ALL NON_MATCHES PRINTED:\n"
     ]
    },
    {
     "name": "stderr",
     "output_type": "stream",
     "text": [
      "ERROR:bokeh.server.views.ws:Refusing websocket connection from Origin 'https://apps.hpc.ntnu.no';                       use --allow-websocket-origin=apps.hpc.ntnu.no or set BOKEH_ALLOW_WS_ORIGIN=apps.hpc.ntnu.no to permit this; currently we allow origins {'localhost:32807'}\n",
      "WARNING:tornado.access:403 GET /ws (127.0.0.1) 1.01ms\n"
     ]
    }
   ],
   "source": [
    "match_list = [file for file in os.listdir(path_to_results_folder) if re.match(r'\\b' + re.escape(\"match-\") + r'[^\\\\]*\\.csv$', file)]\n",
    "not_match_list = [file for file in os.listdir(path_to_results_folder) if re.match(r'\\b' + re.escape(\"not-match-\") + r'[^\\\\]*\\.csv$', file)]\n",
    "\n",
    "print(\"ALL MATCHES PRINTED:\")\n",
    "for file in match_list:\n",
    "    print(\"test\")\n",
    "    plot_result(f\"{path_to_results_folder}/{file}\")\n",
    "\n",
    "print(\"ALL NON_MATCHES PRINTED:\")\n",
    "for file in not_match_list:\n",
    "    plot_result(f\"{path_to_results_folder}/{file}\")"
   ]
  },
  {
   "cell_type": "markdown",
   "metadata": {},
   "source": [
    "### Citation\n",
    "\n",
    "MovingPandas:\n",
    "Graser, A. (2019). MovingPandas: Efficient Structures for Movement Data in Python. GI_Forum ‒ Journal of Geographic Information Science 2019, 1-2019, 54-68. doi:10.1553/giscience2019_01_s54.\n",
    "\n",
    "Inspiration and code:\n",
    "Graser, A. (2023). Free and Open Source GIS Ramblings - How to use Kaggle’s Taxi Trajectory Data in MovingPandas.\n",
    "https://anitagraser.com/2023/05/12/how-to-use-kaggles-taxi-trajectory-data-in-movingpandas/"
   ]
  }
 ],
 "metadata": {
  "kernelspec": {
   "display_name": "Python 3",
   "language": "python",
   "name": "python3"
  },
  "language_info": {
   "codemirror_mode": {
    "name": "ipython",
    "version": 3
   },
   "file_extension": ".py",
   "mimetype": "text/x-python",
   "name": "python",
   "nbconvert_exporter": "python",
   "pygments_lexer": "ipython3",
   "version": "3.12.1"
  }
 },
 "nbformat": 4,
 "nbformat_minor": 2
}
