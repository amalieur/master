{
 "cells": [
  {
   "attachments": {},
   "cell_type": "markdown",
   "metadata": {},
   "source": [
    "# Notebook for the compuation of the hash-based similarities\n",
    "\n",
    "Containing methods and functionality for computing and measuring similarities from the hashes"
   ]
  },
  {
   "cell_type": "code",
   "execution_count": 1,
   "metadata": {},
   "outputs": [],
   "source": [
    "import os\n",
    "import shutil\n",
    "import numpy as np\n",
    "import pandas as pd\n",
    "\n",
    "from utils import file_handler as fh\n",
    "from utils import metafile_handler as mfh\n",
    "\n",
    "from utils.similarity_measures import edit_distance as ed\n"
   ]
  },
  {
   "cell_type": "code",
   "execution_count": 12,
   "metadata": {},
   "outputs": [],
   "source": [
    "PORTO_DATA = \"../data\\hashed_data\\grid\\porto\\\\\"\n"
   ]
  },
  {
   "cell_type": "code",
   "execution_count": 13,
   "metadata": {},
   "outputs": [
    {
     "ename": "ValueError",
     "evalue": "could not convert string to float: \"['AJas'\"",
     "output_type": "error",
     "traceback": [
      "\u001b[1;31m---------------------------------------------------------------------------\u001b[0m",
      "\u001b[1;31mValueError\u001b[0m                                Traceback (most recent call last)",
      "Cell \u001b[1;32mIn [13], line 3\u001b[0m\n\u001b[0;32m      1\u001b[0m meta_file \u001b[39m=\u001b[39m \u001b[39m\"\u001b[39m\u001b[39m../data/hashed_data/grid/porto/META-50.TXT\u001b[39m\u001b[39m\"\u001b[39m\n\u001b[0;32m      2\u001b[0m files \u001b[39m=\u001b[39m mfh\u001b[39m.\u001b[39mread_meta_file(meta_file)\n\u001b[1;32m----> 3\u001b[0m trajectories \u001b[39m=\u001b[39m fh\u001b[39m.\u001b[39;49mload_trajectory_files(files,PORTO_DATA)\n",
      "File \u001b[1;32mc:\\Users\\bafla\\Desktop\\Projects\\master\\code\\utils\\file_handler.py:51\u001b[0m, in \u001b[0;36mload_trajectory_files\u001b[1;34m(files, folder_path)\u001b[0m\n\u001b[0;32m     49\u001b[0m \u001b[39mfor\u001b[39;00m file_name \u001b[39min\u001b[39;00m file_list:\n\u001b[0;32m     50\u001b[0m     key \u001b[39m=\u001b[39m os\u001b[39m.\u001b[39mpath\u001b[39m.\u001b[39msplitext(file_name)[\u001b[39m0\u001b[39m]\n\u001b[1;32m---> 51\u001b[0m     trajectory \u001b[39m=\u001b[39m read_trajectory_file(folder_path \u001b[39m+\u001b[39;49m file_name)\n\u001b[0;32m     53\u001b[0m     trajectories[key] \u001b[39m=\u001b[39m trajectory\n\u001b[0;32m     55\u001b[0m \u001b[39mreturn\u001b[39;00m trajectories\n",
      "File \u001b[1;32mc:\\Users\\bafla\\Desktop\\Projects\\master\\code\\utils\\file_handler.py:24\u001b[0m, in \u001b[0;36mread_trajectory_file\u001b[1;34m(file_path)\u001b[0m\n\u001b[0;32m     22\u001b[0m \u001b[39mtry\u001b[39;00m:\n\u001b[0;32m     23\u001b[0m     \u001b[39mwith\u001b[39;00m \u001b[39mopen\u001b[39m(file_path,\u001b[39m'\u001b[39m\u001b[39mr\u001b[39m\u001b[39m'\u001b[39m) \u001b[39mas\u001b[39;00m file:\n\u001b[1;32m---> 24\u001b[0m         trajectory \u001b[39m=\u001b[39m [ \u001b[39mlist\u001b[39m(\u001b[39mmap\u001b[39m(\u001b[39mfloat\u001b[39m, line\u001b[39m.\u001b[39mrstrip()\u001b[39m.\u001b[39msplit(\u001b[39m\"\u001b[39m\u001b[39m,\u001b[39m\u001b[39m\"\u001b[39m))) \u001b[39mfor\u001b[39;00m line \u001b[39min\u001b[39;00m file ]\n\u001b[0;32m     25\u001b[0m         file\u001b[39m.\u001b[39mclose()\n\u001b[0;32m     26\u001b[0m \u001b[39mexcept\u001b[39;00m \u001b[39mFileNotFoundError\u001b[39;00m:\n",
      "File \u001b[1;32mc:\\Users\\bafla\\Desktop\\Projects\\master\\code\\utils\\file_handler.py:24\u001b[0m, in \u001b[0;36m<listcomp>\u001b[1;34m(.0)\u001b[0m\n\u001b[0;32m     22\u001b[0m \u001b[39mtry\u001b[39;00m:\n\u001b[0;32m     23\u001b[0m     \u001b[39mwith\u001b[39;00m \u001b[39mopen\u001b[39m(file_path,\u001b[39m'\u001b[39m\u001b[39mr\u001b[39m\u001b[39m'\u001b[39m) \u001b[39mas\u001b[39;00m file:\n\u001b[1;32m---> 24\u001b[0m         trajectory \u001b[39m=\u001b[39m [ \u001b[39mlist\u001b[39;49m(\u001b[39mmap\u001b[39;49m(\u001b[39mfloat\u001b[39;49m, line\u001b[39m.\u001b[39;49mrstrip()\u001b[39m.\u001b[39;49msplit(\u001b[39m\"\u001b[39;49m\u001b[39m,\u001b[39;49m\u001b[39m\"\u001b[39;49m))) \u001b[39mfor\u001b[39;00m line \u001b[39min\u001b[39;00m file ]\n\u001b[0;32m     25\u001b[0m         file\u001b[39m.\u001b[39mclose()\n\u001b[0;32m     26\u001b[0m \u001b[39mexcept\u001b[39;00m \u001b[39mFileNotFoundError\u001b[39;00m:\n",
      "\u001b[1;31mValueError\u001b[0m: could not convert string to float: \"['AJas'\""
     ]
    }
   ],
   "source": [
    "meta_file = \"../data/hashed_data/grid/porto/META-50.TXT\"\n",
    "files = mfh.read_meta_file(meta_file)\n",
    "trajectories = fh.load_trajectory_hashes(files, PORTO_DATA)"
   ]
  }
 ],
 "metadata": {
  "kernelspec": {
   "display_name": "Python 3",
   "language": "python",
   "name": "python3"
  },
  "language_info": {
   "codemirror_mode": {
    "name": "ipython",
    "version": 3
   },
   "file_extension": ".py",
   "mimetype": "text/x-python",
   "name": "python",
   "nbconvert_exporter": "python",
   "pygments_lexer": "ipython3",
   "version": "3.10.7"
  },
  "orig_nbformat": 4,
  "vscode": {
   "interpreter": {
    "hash": "6a8cebea5680a70624bfb085291ac11ac025ad85fe214511868677846ba38b53"
   }
  }
 },
 "nbformat": 4,
 "nbformat_minor": 2
}
