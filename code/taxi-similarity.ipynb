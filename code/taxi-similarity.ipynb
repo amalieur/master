{
 "cells": [
  {
   "cell_type": "markdown",
   "metadata": {},
   "source": [
    "# File to do Porto Taxi Trajectory Similiarity"
   ]
  },
  {
   "cell_type": "markdown",
   "metadata": {},
   "source": [
    "### Step 1\n",
    "\n",
    "Open the code/global_variables.py file, [or just click here](global_variables.py). And edit the values to fit the given experiment, the name of the chosen subset (\"subset-*size*) and the size of the subset. As well as the coordinates of the geographical area.\n"
   ]
  },
  {
   "cell_type": "markdown",
   "metadata": {},
   "source": [
    "### Step 2\n",
    "\n",
    "Make sure you have the needed files/folders for the chosen subset.\n",
    " - in data/raw_data there must be a .csv file with the subset of the chosen size. If not, it must be uploaded.\n",
    " - in data/chosen_data there must be a folder with the same name as global_variables.CHOSEN_SUBSET_NAME. If not, create this empty folder.\n",
    " - in data/hashed_data there must be a folder with the same name as global_variables.CHOSEN_SUBSET_NAME. If not, create this empty folder."
   ]
  },
  {
   "cell_type": "markdown",
   "metadata": {},
   "source": [
    "### Step 3\n",
    "\n",
    "Run the cells in [code/porto-data.ipynb](porto-data.ipynb), or just run the cell below.\n",
    "This will load the data from the chosen subset into the folder data/chosen_data/subset-'size', each row in the dataset is written in its own text file. I also creates a META-file which contains the name of all the text files in the subset.\n",
    "\n",
    "(Might requires to install nbformat: \"pip install nbformat\")"
   ]
  },
  {
   "cell_type": "code",
   "execution_count": 1,
   "metadata": {},
   "outputs": [
    {
     "name": "stdout",
     "output_type": "stream",
     "text": [
      "Check the folder: data/chosen_data/subset-subset-100. Files should have been generated.\n"
     ]
    }
   ],
   "source": [
    "%run \"porto-data.ipynb\""
   ]
  },
  {
   "cell_type": "markdown",
   "metadata": {},
   "source": [
    "### Step 4\n",
    "\n",
    "Run the cells in [code/lsh-grid.ipynb](lsh-grid.ipynb), or just run the cell below. This will represent each of the rows/trajectories as an hash, and create a text file for each hashed trajectory in the folder data/hashed_data/subset-'size', as well as a META file."
   ]
  },
  {
   "cell_type": "code",
   "execution_count": 2,
   "metadata": {},
   "outputs": [
    {
     "name": "stdout",
     "output_type": "stream",
     "text": [
      "       Average runtime  Minimum runtime  Maximum runtime\n",
      "porto         0.021477         0.021013         0.022953\n",
      "                 Average runtime  Minimum runtime  Maximum runtime\n",
      "porto_naive             4.180326         4.131812          4.22105\n",
      "porto_quadrants         2.111735         1.977048          2.29845\n",
      "porto_kd_tree           2.121689         2.065953          2.19822\n",
      "Check the folder: data/hashed_data/subset-100. Files should have been generated.\n"
     ]
    }
   ],
   "source": [
    "%run \"lsh-grid.ipynb\""
   ]
  },
  {
   "cell_type": "markdown",
   "metadata": {},
   "source": [
    "### Step 5\n",
    "Calculate similarities by running the following code"
   ]
  },
  {
   "cell_type": "code",
   "execution_count": 3,
   "metadata": {},
   "outputs": [
    {
     "name": "stdout",
     "output_type": "stream",
     "text": [
      "Check ../code/experiments/similarities/, it should be a file here named grid_porto-subset-100.csv which contains the similarities in the dataset.\n",
      " Check ../code/experiments/timing/, it should be a file here named similarity_runtimes_grid_porto-{global_variables.CHOSEN_SUBSET_NAME}.csv which contains the time spent to do the hash similarity(?)\n"
     ]
    }
   ],
   "source": [
    "%run similarities-only-grid.ipynb"
   ]
  },
  {
   "cell_type": "markdown",
   "metadata": {},
   "source": [
    "### Step 6\n",
    "\n",
    "Run the code below to see the clustering of the trajectories. Decide the number of clusters you want by updating number_of_trajectories."
   ]
  },
  {
   "cell_type": "code",
   "execution_count": 4,
   "metadata": {},
   "outputs": [],
   "source": [
    "#Change this to the number of clusters you want (if wanted number is more than 30: update in def plot_clusters() in hierarchical_clustering.py)\n",
    "number_of_clusters = 10"
   ]
  },
  {
   "cell_type": "code",
   "execution_count": 5,
   "metadata": {},
   "outputs": [
    {
     "name": "stdout",
     "output_type": "stream",
     "text": [
      "[0 8 1 4 0 2 3 5 9 5 1 6 0 9 1 1 4 9 0 6 9 2 6 0 0 1 6 5 9 1 1 1 3 0 9 6 5\n",
      " 1 6 0 2 6 2 6 6 9 4 8 7 9 0 0 2 6 2 0 0 4 8 0 9 0 9 1 1 9 6 2 8 2 5 5 9 0\n",
      " 0 4 0 1 1 0 0 1 0 0 9 0 5 9 4 8 6 0 6 0 9 1 1 1 0 1]\n",
      "TEST123\n",
      "['P_AAAA', 'P_AAAB', 'P_AAAC', 'P_AAAD', 'P_AAAE', 'P_AAAF', 'P_AAAG', 'P_AAAH', 'P_AAAI', 'P_AAAJ', 'P_AAAK', 'P_AAAL', 'P_AAAM', 'P_AAAN', 'P_AAAO', 'P_AAAP', 'P_AAAQ', 'P_AAAR', 'P_AAAS', 'P_AAAT', 'P_AAAU', 'P_AAAV', 'P_AAAW', 'P_AAAX', 'P_AAAY', 'P_AAAZ', 'P_AABA', 'P_AABB', 'P_AABC', 'P_AABD', 'P_AABE', 'P_AABF', 'P_AABG', 'P_AABH', 'P_AABI', 'P_AABJ', 'P_AABK', 'P_AABL', 'P_AABM', 'P_AABN', 'P_AABO', 'P_AABP', 'P_AABQ', 'P_AABR', 'P_AABS', 'P_AABT', 'P_AABU', 'P_AABV', 'P_AABW', 'P_AABX', 'P_AABY', 'P_AABZ', 'P_AACA', 'P_AACB', 'P_AACC', 'P_AACD', 'P_AACE', 'P_AACF', 'P_AACG', 'P_AACH', 'P_AACI', 'P_AACJ', 'P_AACK', 'P_AACL', 'P_AACM', 'P_AACN', 'P_AACO', 'P_AACP', 'P_AACQ', 'P_AACR', 'P_AACS', 'P_AACT', 'P_AACU', 'P_AACV', 'P_AACW', 'P_AACX', 'P_AACY', 'P_AACZ', 'P_AADA', 'P_AADB', 'P_AADC', 'P_AADD', 'P_AADE', 'P_AADF', 'P_AADG', 'P_AADH', 'P_AADI', 'P_AADJ', 'P_AADK', 'P_AADL', 'P_AADM', 'P_AADN', 'P_AADO', 'P_AADP', 'P_AADQ', 'P_AADR', 'P_AADS', 'P_AADT', 'P_AADU', 'P_AADV']\n",
      "{0: ['P_AAAA', 'P_AAAE', 'P_AAAM', 'P_AAAS', 'P_AAAX', 'P_AAAY', 'P_AABH', 'P_AABN', 'P_AABY', 'P_AABZ', 'P_AACD', 'P_AACE', 'P_AACH', 'P_AACJ', 'P_AACV', 'P_AACW', 'P_AACY', 'P_AADB', 'P_AADC', 'P_AADE', 'P_AADF', 'P_AADH', 'P_AADN', 'P_AADP', 'P_AADU'], 1: ['P_AAAC', 'P_AAAK', 'P_AAAO', 'P_AAAP', 'P_AAAZ', 'P_AABD', 'P_AABE', 'P_AABF', 'P_AABL', 'P_AACL', 'P_AACM', 'P_AACZ', 'P_AADA', 'P_AADD', 'P_AADR', 'P_AADS', 'P_AADT', 'P_AADV'], 2: ['P_AAAF', 'P_AAAV', 'P_AABO', 'P_AABQ', 'P_AACA', 'P_AACC', 'P_AACP', 'P_AACR'], 3: ['P_AAAG', 'P_AABG'], 4: ['P_AAAD', 'P_AAAQ', 'P_AABU', 'P_AACF', 'P_AACX', 'P_AADK'], 5: ['P_AAAH', 'P_AAAJ', 'P_AABB', 'P_AABK', 'P_AACS', 'P_AACT', 'P_AADI'], 6: ['P_AAAL', 'P_AAAT', 'P_AAAW', 'P_AABA', 'P_AABJ', 'P_AABM', 'P_AABP', 'P_AABR', 'P_AABS', 'P_AACB', 'P_AACO', 'P_AADM', 'P_AADO'], 7: ['P_AABW'], 8: ['P_AAAB', 'P_AABV', 'P_AACG', 'P_AACQ', 'P_AADL'], 9: ['P_AAAI', 'P_AAAN', 'P_AAAR', 'P_AAAU', 'P_AABC', 'P_AABI', 'P_AABT', 'P_AABX', 'P_AACI', 'P_AACK', 'P_AACN', 'P_AACU', 'P_AADG', 'P_AADJ', 'P_AADQ']}\n"
     ]
    },
    {
     "name": "stderr",
     "output_type": "stream",
     "text": [
      "/cluster/home/andrehva/.conda/envs/masteroppgave/lib/python3.12/site-packages/scipy/cluster/hierarchy.py:796: ClusterWarning: The symmetric non-negative hollow observation matrix looks suspiciously like an uncondensed distance matrix\n",
      "  return linkage(y, method='ward', metric='euclidean')\n"
     ]
    }
   ],
   "source": [
    "from experiments.hierarchical_clustering import HCA\n",
    "from experiments import davies_bouldin as DB \n",
    "from sklearn import metrics as mcs\n",
    "\n",
    "# Porto Grid similarities\n",
    "#TODO: remove city\n",
    "PortoGrid = HCA(\"Porto\", f\"../code/experiments/similarities/grid_porto-{global_variables.CHOSEN_SUBSET_NAME}.csv\", number_of_clusters )\n",
    "print(PortoGrid.clusters)\n",
    "#PortoGrid.plot_clusters(\"Porto - Grid\")\n",
    "clusters_dict = PortoGrid.get_cluster_dictionary()\n",
    "print(clusters_dict)"
   ]
  },
  {
   "cell_type": "code",
   "execution_count": 6,
   "metadata": {},
   "outputs": [
    {
     "name": "stdout",
     "output_type": "stream",
     "text": [
      "[[['P_AABH', 'P_AACH', 'P_AAAY', 'P_AACJ', 'P_AAAA', 'P_AAAS', 'P_AAAA', 'P_AAAX', 'P_AAAS', 'P_AADE', 'P_AAAX', 'P_AADP', 'P_AABN', 'P_AADE', 'P_AACJ', 'P_AADE', 'P_AADB', 'P_AADP', 'P_AADP', 'P_AADU', 'P_AAAY', 'P_AADC', 'P_AAAY', 'P_AADF', 'P_AAAY', 'P_AADU', 'P_AABN', 'P_AABZ', 'P_AABN', 'P_AACD', 'P_AABN', 'P_AACH', 'P_AABN', 'P_AACJ', 'P_AABY', 'P_AACJ', 'P_AABY', 'P_AACV', 'P_AABZ', 'P_AADH', 'P_AACD', 'P_AACJ', 'P_AACE', 'P_AADC', 'P_AACH', 'P_AACY', 'P_AACV', 'P_AADC', 'P_AACV', 'P_AADH', 'P_AACW', 'P_AADB', 'P_AACW', 'P_AADC', 'P_AACY', 'P_AADB', 'P_AACY', 'P_AADC', 'P_AADB', 'P_AADN', 'P_AABH', 'P_AACY'], [], [], [], [], [], [], []], [['P_AAAO', 'P_AAAZ', 'P_AAAC', 'P_AAAK', 'P_AAAK', 'P_AACM', 'P_AAAK', 'P_AACZ', 'P_AAAK', 'P_AADS', 'P_AAAP', 'P_AACM', 'P_AAAZ', 'P_AACZ', 'P_AAAZ', 'P_AADT', 'P_AABD', 'P_AACM', 'P_AABE', 'P_AACZ', 'P_AABE', 'P_AADS', 'P_AABF', 'P_AACM', 'P_AACM', 'P_AADT'], [], [], [], ['P_AADA', 'P_AADR']], [['P_AAAV', 'P_AACP'], ['P_AABO', 'P_AACC'], ['P_AABQ', 'P_AACR']], [['P_AABU', 'P_AACF', 'P_AAAD', 'P_AACX', 'P_AAAQ', 'P_AACX', 'P_AACF', 'P_AACX']], [['P_AAAJ', 'P_AADI'], ['P_AABK', 'P_AACS']], [['P_AAAL', 'P_AABA', 'P_AAAL', 'P_AABJ', 'P_AAAT', 'P_AABA', 'P_AABJ', 'P_AABM', 'P_AABM', 'P_AACO'], ['P_AABP', 'P_AABR', 'P_AABR', 'P_AADM']], [['P_AAAB', 'P_AADL']], [['P_AACK', 'P_AADJ', 'P_AAAI', 'P_AAAN', 'P_AAAI', 'P_AAAR', 'P_AAAI', 'P_AABC', 'P_AAAI', 'P_AACN', 'P_AAAI', 'P_AACU', 'P_AAAN', 'P_AACI', 'P_AAAN', 'P_AACU', 'P_AAAR', 'P_AADG', 'P_AAAR', 'P_AADQ', 'P_AADG', 'P_AADJ'], []]]\n"
     ]
    }
   ],
   "source": [
    "from experiments.frechet_for_taxi_case import find_similarity_in_clusters\n",
    "from experiments.frechet_for_taxi_case import find_similarity_in_cluster\n",
    "from experiments.frechet_for_taxi_case import frechet_similar_taxi_trajectories\n",
    "from experiments.frechet_for_taxi_case import frechet_similar_taxi_and_bus_trajectories\n",
    "\n",
    "\n",
    "result = find_similarity_in_clusters(clusters_dict)\n",
    "print(result)"
   ]
  }
 ],
 "metadata": {
  "kernelspec": {
   "display_name": "masteroppgave",
   "language": "python",
   "name": "python3"
  },
  "language_info": {
   "codemirror_mode": {
    "name": "ipython",
    "version": 3
   },
   "file_extension": ".py",
   "mimetype": "text/x-python",
   "name": "python",
   "nbconvert_exporter": "python",
   "pygments_lexer": "ipython3",
   "version": "3.12.1"
  },
  "orig_nbformat": 4
 },
 "nbformat": 4,
 "nbformat_minor": 2
}
