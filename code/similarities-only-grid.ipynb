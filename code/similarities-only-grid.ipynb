{
 "cells": [
  {
   "cell_type": "code",
   "execution_count": null,
   "metadata": {},
   "outputs": [],
   "source": [
    "from experiments.grid_resolution import plot_grid_res_layers\n",
    "\n",
    "import global_variables\n",
    "\n",
    "\n",
    "from experiments.grid_similarity import generate_grid_hash_similarity\n",
    "import os\n",
    "\n",
    "\n",
    "# Grid Porto\n",
    "similarities = generate_grid_hash_similarity(\"porto\", 1.6, 5)\n",
    "output_path = f\"../code/experiments/similarities/grid_porto-{global_variables.CHOSEN_SUBSET_NAME}.csv\"\n",
    "similarities.to_csv(os.path.abspath(output_path))\n",
    "\n",
    "print(f\"Check ../code/experiments/similarities/, it should be a file here named grid_porto-{global_variables.CHOSEN_SUBSET_NAME}.csv which contains the similarities in the dataset.\")\n"
   ]
  },
  {
   "cell_type": "code",
   "execution_count": null,
   "metadata": {},
   "outputs": [],
   "source": [
    "#from experiments.grid_similarity import measure_grid_hash_similarity_computation_time\n",
    "#from utils.figure_creator import draw_hash_similarity_runtime, draw_hash_similarity_runtime_logarithmic\n",
    "#import pandas as pd\n",
    "#import os\n",
    "#import numpy as np\n",
    "\n",
    "#output_folder = \"../code/experiments/timing/\"\n",
    "#file_name = f\"similarity_runtimes_grid_porto-{global_variables.CHOSEN_SUBSET_NAME}.csv\"\n",
    "\n",
    "#df = pd.DataFrame( index=[\"run_1\"], columns=[global_variables.CHOSEN_SUBSET_NAME])\n",
    "\n",
    "\n",
    "#print(f\"Computing {global_variables.CHOSEN_SUBSET_NAME}\", end=\"\\r\")\n",
    "#execution_times = measure_grid_hash_similarity_computation_time(\"porto\", global_variables.CHOSEN_SUBSET_SIZE, 1.6, 5, \"dtw\", parallell_jobs=1)\n",
    "#df[global_variables.CHOSEN_SUBSET_SIZE] = execution_times\n",
    "\n",
    "#df.to_csv(os.path.join(output_folder, file_name))\n",
    "#df\n",
    "#print(f\" Check ../code/experiments/timing/, it should be a file here named similarity_runtimes_grid_porto-{global_variables.CHOSEN_SUBSET_NAME}.csv which contains the time spent to do the hash similarity(?)\")"
   ]
  }
 ],
 "metadata": {
  "language_info": {
   "name": "python"
  },
  "orig_nbformat": 4
 },
 "nbformat": 4,
 "nbformat_minor": 2
}
