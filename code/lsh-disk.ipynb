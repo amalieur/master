{
 "cells": [
  {
   "attachments": {},
   "cell_type": "markdown",
   "metadata": {},
   "source": [
    "# Notebook for the creation of the disk lsh hashes for both datasets\n",
    "\n",
    "Sheet that converts the extracted data from the data/chosen_data folder to hashes that will be stored in data/hashed_data/disk"
   ]
  },
  {
   "cell_type": "code",
   "execution_count": 6,
   "metadata": {},
   "outputs": [],
   "source": [
    "# Importing nescessary modules\n",
    "import os\n",
    "import shutil\n",
    "\n",
    "from schemes.disk_lsh import DiskLSH\n",
    "from utils import metafile_handler as mfh\n",
    "\n",
    "import timeit as ti\n",
    "from tqdm import tqdm \n"
   ]
  },
  {
   "cell_type": "code",
   "execution_count": 2,
   "metadata": {},
   "outputs": [],
   "source": [
    "# Declaring global variables:\n",
    "\n",
    "SHOULD_DELETE_OLD_FILES= True\n",
    "\n",
    "OUTPUT_FOLDER_PORTO = \"../data/hashed_data/disk/porto/\"\n",
    "OUTPUT_FOLDER_ROME = \"../data/hashed_data/disk/rome/\"\n",
    "\n",
    "PORTO_DATA = \"../data/chosen_data/porto/\"\n",
    "ROME_DATA = \"../data/chosen_data/rome/\"\n",
    "\n",
    "P_MAX_LON = -8.57\n",
    "P_MIN_LON = -8.66\n",
    "P_MAX_LAT = 41.19\n",
    "P_MIN_LAT = 41.14\n",
    "\n",
    "R_MAX_LON = 12.53\n",
    "R_MIN_LON = 12.44\n",
    "R_MAX_LAT = 41.93\n",
    "R_MIN_LAT = 41.88"
   ]
  },
  {
   "cell_type": "code",
   "execution_count": 3,
   "metadata": {},
   "outputs": [],
   "source": [
    "# Run this cell to clear the chosen files in the PORTO folder\n",
    "\n",
    "if SHOULD_DELETE_OLD_FILES:\n",
    "    for filename in os.listdir(OUTPUT_FOLDER_PORTO):\n",
    "        file_path = os.path.join(OUTPUT_FOLDER_PORTO, filename)\n",
    "        try:\n",
    "            if os.path.isfile(file_path) or os.path.islink(file_path):\n",
    "                os.unlink(file_path)\n",
    "            elif os.path.isdir(file_path):\n",
    "                shutil.rmtree(file_path)\n",
    "        except Exception as e:\n",
    "            print(\"Failed to remove %s. Reason: %s\" % (file_path, e))"
   ]
  },
  {
   "cell_type": "code",
   "execution_count": 4,
   "metadata": {},
   "outputs": [],
   "source": [
    "# Run this cell to clear the chosen files in the ROME folder\n",
    "\n",
    "if SHOULD_DELETE_OLD_FILES:\n",
    "    for filename in os.listdir(OUTPUT_FOLDER_ROME):\n",
    "        file_path = os.path.join(OUTPUT_FOLDER_ROME, filename)\n",
    "        try:\n",
    "            if os.path.isfile(file_path) or os.path.islink(file_path):\n",
    "                os.unlink(file_path)\n",
    "            elif os.path.isdir(file_path):\n",
    "                shutil.rmtree(file_path)\n",
    "        except Exception as e:\n",
    "            print(\"Failed to remove %s. Reason: %s\" % (file_path, e))"
   ]
  },
  {
   "cell_type": "code",
   "execution_count": null,
   "metadata": {},
   "outputs": [],
   "source": [
    "# Create a disk-based LSH object\n",
    "\n",
    "layers = 4\n",
    "diameter = 1.5\n",
    "num_disks = 50\n",
    "meta_file = \"../data/chosen_data/porto/META-50.TXT\"\n",
    "\n",
    "DiskPorto = DiskLSH(\"Porto D1\", P_MIN_LAT, P_MAX_LAT, P_MIN_LON, P_MAX_LON, num_disks, layers, diameter, meta_file, PORTO_DATA)"
   ]
  },
  {
   "cell_type": "code",
   "execution_count": null,
   "metadata": {},
   "outputs": [],
   "source": [
    "# Generating the disk-based LSH objects hashes and saving them to file\n",
    "\n",
    "hashes = DiskPorto.compute_dataset_hashes()\n",
    "\n",
    "for key in hashes:\n",
    "    with open(f'{OUTPUT_FOLDER_PORTO}/{key}.txt', 'w') as file:\n",
    "        for hash in hashes[key]:\n",
    "            file.write(\"%s\\n\" % hash)\n",
    "        file.close\n",
    "\n",
    "# Copying meta_files as well\n",
    "meta_files = mfh.get_meta_files(PORTO_DATA)\n",
    "\n",
    "for filename in meta_files:\n",
    "    shutil.copy(PORTO_DATA + filename, OUTPUT_FOLDER_PORTO)"
   ]
  }
 ],
 "metadata": {
  "kernelspec": {
   "display_name": "Python 3",
   "language": "python",
   "name": "python3"
  },
  "language_info": {
   "codemirror_mode": {
    "name": "ipython",
    "version": 3
   },
   "file_extension": ".py",
   "mimetype": "text/x-python",
   "name": "python",
   "nbconvert_exporter": "python",
   "pygments_lexer": "ipython3",
   "version": "3.10.7"
  },
  "orig_nbformat": 4,
  "vscode": {
   "interpreter": {
    "hash": "6a8cebea5680a70624bfb085291ac11ac025ad85fe214511868677846ba38b53"
   }
  }
 },
 "nbformat": 4,
 "nbformat_minor": 2
}
