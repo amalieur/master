{
 "cells": [
  {
   "attachments": {},
   "cell_type": "markdown",
   "metadata": {},
   "source": [
    "# Notebook for the creation of the disk lsh hashes for both datasets\n",
    "\n",
    "Sheet that converts the extracted data from the data/chosen_data folder to hashes that will be stored in data/hashed_data/disk"
   ]
  },
  {
   "cell_type": "code",
   "execution_count": 18,
   "metadata": {},
   "outputs": [],
   "source": [
    "# Importing nescessary modules\n",
    "import os\n",
    "import shutil\n",
    "\n",
    "from schemes.disk_lsh import DiskLSH\n",
    "from schemes.experiments import hashing\n",
    "from utils import metafile_handler as mfh\n",
    "\n",
    "import timeit as ti\n",
    "from tqdm import tqdm \n",
    "\n",
    "from multiprocessing import Pool"
   ]
  },
  {
   "cell_type": "code",
   "execution_count": 19,
   "metadata": {},
   "outputs": [],
   "source": [
    "# Declaring global variables:\n",
    "\n",
    "SHOULD_DELETE_OLD_FILES= True\n",
    "\n",
    "OUTPUT_FOLDER_PORTO = \"../data/hashed_data/disk/porto/\"\n",
    "OUTPUT_FOLDER_ROME = \"../data/hashed_data/disk/rome/\"\n",
    "\n",
    "PORTO_DATA = \"../data/chosen_data/porto/\"\n",
    "ROME_DATA = \"../data/chosen_data/rome/\"\n",
    "\n",
    "P_MAX_LON = -8.57\n",
    "P_MIN_LON = -8.66\n",
    "P_MAX_LAT = 41.19\n",
    "P_MIN_LAT = 41.14\n",
    "\n",
    "R_MAX_LON = 12.53\n",
    "R_MIN_LON = 12.44\n",
    "R_MAX_LAT = 41.93\n",
    "R_MIN_LAT = 41.88"
   ]
  },
  {
   "attachments": {},
   "cell_type": "markdown",
   "metadata": {},
   "source": [
    "## Porto LSH\n",
    "\n",
    "Beginning with the porto set"
   ]
  },
  {
   "cell_type": "code",
   "execution_count": 20,
   "metadata": {},
   "outputs": [],
   "source": [
    "# Run this cell to clear the chosen files in the PORTO folder\n",
    "\n",
    "if SHOULD_DELETE_OLD_FILES:\n",
    "    for filename in os.listdir(OUTPUT_FOLDER_PORTO):\n",
    "        file_path = os.path.join(OUTPUT_FOLDER_PORTO, filename)\n",
    "        try:\n",
    "            if os.path.isfile(file_path) or os.path.islink(file_path):\n",
    "                os.unlink(file_path)\n",
    "            elif os.path.isdir(file_path):\n",
    "                shutil.rmtree(file_path)\n",
    "        except Exception as e:\n",
    "            print(\"Failed to remove %s. Reason: %s\" % (file_path, e))"
   ]
  },
  {
   "cell_type": "code",
   "execution_count": 21,
   "metadata": {},
   "outputs": [],
   "source": [
    "# Create a disk-based LSH object over Porto\n",
    "\n",
    "layers = 4\n",
    "diameter = 1.5\n",
    "num_disks = 50\n",
    "meta_file = \"../data/chosen_data/porto/META-1000.TXT\"\n",
    "\n",
    "DiskPorto = DiskLSH(\"Porto D1\", P_MIN_LAT, P_MAX_LAT, P_MIN_LON, P_MAX_LON, num_disks, layers, diameter, meta_file, PORTO_DATA)"
   ]
  },
  {
   "cell_type": "code",
   "execution_count": 22,
   "metadata": {},
   "outputs": [],
   "source": [
    "# Generating the disk-based LSH objects hashes and saving them to file\n",
    "\n",
    "hashes = DiskPorto.compute_dataset_hashes_with_KD_tree()\n",
    "\n",
    "for key in hashes:\n",
    "    with open(f'{OUTPUT_FOLDER_PORTO}/{key}.txt', 'w') as file:\n",
    "        for hash in hashes[key]:\n",
    "            file.write(\"%s\\n\" % hash)\n",
    "        file.close\n",
    "\n",
    "# Copying meta_files as well\n",
    "meta_files = mfh.get_meta_files(PORTO_DATA)\n",
    "\n",
    "for filename in meta_files:\n",
    "    shutil.copy(PORTO_DATA + filename, OUTPUT_FOLDER_PORTO)"
   ]
  },
  {
   "cell_type": "code",
   "execution_count": 23,
   "metadata": {},
   "outputs": [],
   "source": [
    "# Cell for methdos use to measure the hashing performance efficiency, utilises parallell programming for optimal measurements\n",
    "layers = 4\n",
    "diameter = 1.5\n",
    "num_disks = 50\n",
    "meta_file = \"../data/chosen_data/porto/META-200.TXT\"\n",
    "\n",
    "def fun_wrapper_naive(x):\n",
    "    disk = DiskLSH(\"Porto D1\", P_MIN_LAT, P_MAX_LAT, P_MIN_LON, P_MAX_LON, num_disks, layers, diameter, meta_file, PORTO_DATA)\n",
    "    return disk.measure_hash_computation(1,1)[0]\n",
    "\n",
    "def fun_wrapper_quadrants(x):\n",
    "    disk = DiskLSH(\"Porto D1\", P_MIN_LAT, P_MAX_LAT, P_MIN_LON, P_MAX_LON, num_disks, layers, diameter, meta_file, PORTO_DATA)\n",
    "    return disk.measure_hash_computation_with_quad_tree(1,1)[0]\n",
    "\n",
    "def fun_wrapper_KD_tree(x):\n",
    "    disk = DiskLSH(\"Porto D1\", P_MIN_LAT, P_MAX_LAT, P_MIN_LON, P_MAX_LON, num_disks, layers, diameter, meta_file, PORTO_DATA)\n",
    "    return disk.compute_dataset_hashes_with_KD_tree(1,1)[0]\n",
    "\n",
    "#runtimes, number = DiskPorto.measure_hash_computation_with_KD_tree(number=1, repeat=10)\n",
    "#print(runtimes)\n",
    "#print(f\"Ran the hash computation {len(runtimes)} times. Fastest runtime: {min(runtimes)}s for {number} hashes\")"
   ]
  },
  {
   "attachments": {},
   "cell_type": "markdown",
   "metadata": {},
   "source": [
    "## Rome LSH\n",
    "\n",
    "Continuing with the rome set"
   ]
  },
  {
   "cell_type": "code",
   "execution_count": 24,
   "metadata": {},
   "outputs": [],
   "source": [
    "# Run this cell to clear the chosen files in the ROME folder\n",
    "\n",
    "if SHOULD_DELETE_OLD_FILES:\n",
    "    for filename in os.listdir(OUTPUT_FOLDER_ROME):\n",
    "        file_path = os.path.join(OUTPUT_FOLDER_ROME, filename)\n",
    "        try:\n",
    "            if os.path.isfile(file_path) or os.path.islink(file_path):\n",
    "                os.unlink(file_path)\n",
    "            elif os.path.isdir(file_path):\n",
    "                shutil.rmtree(file_path)\n",
    "        except Exception as e:\n",
    "            print(\"Failed to remove %s. Reason: %s\" % (file_path, e))"
   ]
  },
  {
   "cell_type": "code",
   "execution_count": 25,
   "metadata": {},
   "outputs": [],
   "source": [
    "# Creating a disk based LSH hashing object over rome\n",
    "\n",
    "layers = 4\n",
    "diameter = 1.5\n",
    "num_disks = 50\n",
    "meta_file = \"../data/chosen_data/rome/META-1000.TXT\"\n",
    "\n",
    "DiskRome = DiskLSH(\"Porto D1\", R_MIN_LAT, R_MAX_LAT, R_MIN_LON, R_MAX_LON, num_disks, layers, diameter, meta_file, ROME_DATA)"
   ]
  },
  {
   "cell_type": "code",
   "execution_count": 26,
   "metadata": {},
   "outputs": [],
   "source": [
    "# Generating the hashes and storing them in output folder along with the meta-files\n",
    "hashes = DiskRome.compute_dataset_hashes_with_KD_tree()\n",
    "\n",
    "for key in hashes:\n",
    "    with open(f'{OUTPUT_FOLDER_ROME}/{key}.txt', 'w') as file:\n",
    "        for hash in hashes[key]:\n",
    "            file.write(\"%s\\n\" % hash)\n",
    "        file.close()\n",
    "\n",
    "# Copying meta_files as well\n",
    "meta_files = mfh.get_meta_files(ROME_DATA)\n",
    "\n",
    "for filename in meta_files:\n",
    "    shutil.copy(ROME_DATA + filename, OUTPUT_FOLDER_ROME)"
   ]
  },
  {
   "attachments": {},
   "cell_type": "markdown",
   "metadata": {},
   "source": [
    "# Measuring run-times of hash generation\n",
    "The cells below are created to measure the time-efficiency of the hash computation\n"
   ]
  },
  {
   "cell_type": "code",
   "execution_count": 27,
   "metadata": {},
   "outputs": [
    {
     "name": "stdout",
     "output_type": "stream",
     "text": [
      "[[4.328125], [4.65625], [4.46875], [4.28125], [4.609375], [5.21875], [4.640625], [4.359375], [4.46875], [4.921875]]\n",
      "Ran the hash computation 10 times. Fastest runtime: [4.28125]s\n"
     ]
    }
   ],
   "source": [
    "# Measuring Disk Naive over Porto\n",
    "with Pool() as pool:\n",
    "    result = pool.map(hashing.fun_wrapper_p_naive, [[1000, 50, 4, 2] for _ in range(10)])\n",
    "print(result)\n",
    "print(f\"Ran the hash computation {len(result)} times. Fastest runtime: {min(result)}s\")"
   ]
  },
  {
   "cell_type": "code",
   "execution_count": 28,
   "metadata": {},
   "outputs": [
    {
     "name": "stdout",
     "output_type": "stream",
     "text": [
      "[[2.5625], [2.6875], [2.265625], [2.484375], [2.0625], [2.71875], [2.4375], [2.390625], [2.21875], [2.671875]]\n",
      "Ran the hash computation 10 times. Fastest runtime: [2.0625]s\n"
     ]
    }
   ],
   "source": [
    "# Measuring Disk Quadrants over Porto\n",
    "with Pool() as pool:\n",
    "    result = pool.map(hashing.fun_wrapper_p_quadrants, [[1000, 50, 4, 2] for _ in range(10)])\n",
    "print(result)\n",
    "print(f\"Ran the hash computation {len(result)} times. Fastest runtime: {min(result)}s\")"
   ]
  },
  {
   "cell_type": "code",
   "execution_count": 29,
   "metadata": {},
   "outputs": [
    {
     "name": "stdout",
     "output_type": "stream",
     "text": [
      "[[1.296875], [1.34375], [1.484375], [1.546875], [1.109375], [1.234375], [1.359375], [1.390625], [1.21875], [1.46875]]\n",
      "Ran the hash computation 10 times. Fastest runtime: [1.109375]s\n"
     ]
    }
   ],
   "source": [
    "# Measuring Disk KD-tree over Porto\n",
    "with Pool() as pool:\n",
    "    result = pool.map(hashing.fun_wrapper_p_KD_tree, [[1000, 50, 4, 2] for _ in range(10)])\n",
    "print(result)\n",
    "print(f\"Ran the hash computation {len(result)} times. Fastest runtime: {min(result)}s\")"
   ]
  },
  {
   "cell_type": "code",
   "execution_count": 30,
   "metadata": {},
   "outputs": [
    {
     "name": "stdout",
     "output_type": "stream",
     "text": [
      "[[8.078125], [8.1875], [8.59375], [8.203125], [8.5], [8.0625], [8.34375], [8.90625], [8.109375], [8.046875]]\n",
      "Ran the hash computation 10 times. Fastest runtime: [8.046875]s\n"
     ]
    }
   ],
   "source": [
    "# Measuring Disk Naive over Rome\n",
    "with Pool() as pool:\n",
    "    result = pool.map(hashing.fun_wrapper_r_naive, [[1000, 50, 4, 2] for _ in range(10)])\n",
    "print(result)\n",
    "print(f\"Ran the hash computation {len(result)} times. Fastest runtime: {min(result)}s\")"
   ]
  },
  {
   "cell_type": "code",
   "execution_count": 31,
   "metadata": {},
   "outputs": [
    {
     "name": "stdout",
     "output_type": "stream",
     "text": [
      "[[3.703125], [3.90625], [3.765625], [4.015625], [3.5625], [3.765625], [3.578125], [4.1875], [3.921875], [3.625]]\n",
      "Ran the hash computation 10 times. Fastest runtime: [3.5625]s\n"
     ]
    }
   ],
   "source": [
    "# Measuring Disk Quadrant over Rome\n",
    "with Pool() as pool:\n",
    "    result = pool.map(hashing.fun_wrapper_r_quadrants, [[1000, 50, 4, 2] for _ in range(10)])\n",
    "print(result)\n",
    "print(f\"Ran the hash computation {len(result)} times. Fastest runtime: {min(result)}s\")"
   ]
  },
  {
   "cell_type": "code",
   "execution_count": 32,
   "metadata": {},
   "outputs": [
    {
     "name": "stdout",
     "output_type": "stream",
     "text": [
      "[[1.328125], [1.40625], [1.28125], [1.375], [1.3125], [1.375], [1.328125], [1.390625], [1.140625], [1.59375]]\n",
      "Ran the hash computation 10 times. Fastest runtime: [1.140625]s\n"
     ]
    }
   ],
   "source": [
    "# Measuring Disk KD-tree over Rome\n",
    "with Pool() as pool:\n",
    "    result = pool.map(hashing.fun_wrapper_r_KD_tree, [[1000, 50, 4, 2] for _ in range(10)])\n",
    "print(result)\n",
    "print(f\"Ran the hash computation {len(result)} times. Fastest runtime: {min(result)}s\")"
   ]
  }
 ],
 "metadata": {
  "kernelspec": {
   "display_name": "Python 3",
   "language": "python",
   "name": "python3"
  },
  "language_info": {
   "codemirror_mode": {
    "name": "ipython",
    "version": 3
   },
   "file_extension": ".py",
   "mimetype": "text/x-python",
   "name": "python",
   "nbconvert_exporter": "python",
   "pygments_lexer": "ipython3",
   "version": "3.10.7"
  },
  "orig_nbformat": 4,
  "vscode": {
   "interpreter": {
    "hash": "6a8cebea5680a70624bfb085291ac11ac025ad85fe214511868677846ba38b53"
   }
  }
 },
 "nbformat": 4,
 "nbformat_minor": 2
}
