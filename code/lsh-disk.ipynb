{
 "cells": [
  {
   "attachments": {},
   "cell_type": "markdown",
   "metadata": {},
   "source": [
    "# Notebook for the creation of the disk lsh hashes for both datasets\n",
    "\n",
    "Sheet that converts the extracted data from the data/chosen_data folder to hashes that will be stored in data/hashed_data/disk"
   ]
  },
  {
   "cell_type": "code",
   "execution_count": 12,
   "metadata": {},
   "outputs": [],
   "source": [
    "# Importing nescessary modules\n",
    "import os\n",
    "import shutil\n",
    "\n",
    "from schemes.disk_lsh import DiskLSH\n",
    "from schemes.experiments import hashing\n",
    "from utils import metafile_handler as mfh\n",
    "\n",
    "import timeit as ti\n",
    "from tqdm import tqdm \n",
    "\n",
    "from multiprocessing import Pool"
   ]
  },
  {
   "cell_type": "code",
   "execution_count": 13,
   "metadata": {},
   "outputs": [],
   "source": [
    "# Declaring global variables:\n",
    "\n",
    "SHOULD_DELETE_OLD_FILES= False\n",
    "\n",
    "OUTPUT_FOLDER_PORTO = \"../data/hashed_data/disk/porto/\"\n",
    "\n",
    "PORTO_DATA = \"../data/chosen_data/porto/\"\n",
    "\n",
    "P_MAX_LON = -8.57\n",
    "P_MIN_LON = -8.66\n",
    "P_MAX_LAT = 41.19\n",
    "P_MIN_LAT = 41.14"
   ]
  },
  {
   "attachments": {},
   "cell_type": "markdown",
   "metadata": {},
   "source": [
    "## Porto LSH\n",
    "\n",
    "Beginning with the porto set"
   ]
  },
  {
   "cell_type": "code",
   "execution_count": 14,
   "metadata": {},
   "outputs": [],
   "source": [
    "# Run this cell to clear the chosen files in the PORTO folder\n",
    "\n",
    "if SHOULD_DELETE_OLD_FILES:\n",
    "    for filename in os.listdir(OUTPUT_FOLDER_PORTO):\n",
    "        file_path = os.path.join(OUTPUT_FOLDER_PORTO, filename)\n",
    "        try:\n",
    "            if os.path.isfile(file_path) or os.path.islink(file_path):\n",
    "                os.unlink(file_path)\n",
    "            elif os.path.isdir(file_path):\n",
    "                shutil.rmtree(file_path)\n",
    "        except Exception as e:\n",
    "            print(\"Failed to remove %s. Reason: %s\" % (file_path, e))"
   ]
  },
  {
   "cell_type": "code",
   "execution_count": 15,
   "metadata": {},
   "outputs": [],
   "source": [
    "# Create a disk-based LSH object over Porto\n",
    "\n",
    "layers = 4\n",
    "diameter = 1.5\n",
    "num_disks = 50\n",
    "meta_file = \"../data/chosen_data/porto/META-1000.TXT\"\n",
    "\n",
    "DiskPorto = DiskLSH(\"Porto D1\", P_MIN_LAT, P_MAX_LAT, P_MIN_LON, P_MAX_LON, num_disks, layers, diameter, meta_file, PORTO_DATA)"
   ]
  },
  {
   "cell_type": "code",
   "execution_count": 17,
   "metadata": {},
   "outputs": [
    {
     "ename": "Exception",
     "evalue": "Cant find file ../code/data/chosen_data/porto/META-1000.TXT",
     "output_type": "error",
     "traceback": [
      "\u001b[0;31m---------------------------------------------------------------------------\u001b[0m",
      "\u001b[0;31mFileNotFoundError\u001b[0m                         Traceback (most recent call last)",
      "File \u001b[0;32m~/master/code/utils/metafile_handler.py:111\u001b[0m, in \u001b[0;36mread_meta_file\u001b[0;34m(path_to_file)\u001b[0m\n\u001b[1;32m    110\u001b[0m \u001b[39mtry\u001b[39;00m:\n\u001b[0;32m--> 111\u001b[0m     \u001b[39mwith\u001b[39;00m \u001b[39mopen\u001b[39;49m(path_to_file,\u001b[39m'\u001b[39;49m\u001b[39mr\u001b[39;49m\u001b[39m'\u001b[39;49m) \u001b[39mas\u001b[39;00m file:\n\u001b[1;32m    112\u001b[0m         trajectory_files \u001b[39m=\u001b[39m [ line\u001b[39m.\u001b[39mrstrip() \u001b[39mfor\u001b[39;00m line \u001b[39min\u001b[39;00m file ]\n",
      "\u001b[0;31mFileNotFoundError\u001b[0m: [Errno 2] No such file or directory: '../code/data/chosen_data/porto/META-1000.TXT'",
      "\nDuring handling of the above exception, another exception occurred:\n",
      "\u001b[0;31mException\u001b[0m                                 Traceback (most recent call last)",
      "Cell \u001b[0;32mIn[17], line 3\u001b[0m\n\u001b[1;32m      1\u001b[0m \u001b[39m# Generating the disk-based LSH objects hashes and saving them to file\u001b[39;00m\n\u001b[0;32m----> 3\u001b[0m hashes \u001b[39m=\u001b[39m DiskPorto\u001b[39m.\u001b[39;49mcompute_dataset_hashes_with_KD_tree()\n\u001b[1;32m      5\u001b[0m \u001b[39mfor\u001b[39;00m key \u001b[39min\u001b[39;00m hashes:\n\u001b[1;32m      6\u001b[0m     \u001b[39mwith\u001b[39;00m \u001b[39mopen\u001b[39m(\u001b[39mf\u001b[39m\u001b[39m'\u001b[39m\u001b[39m{\u001b[39;00mOUTPUT_FOLDER_PORTO\u001b[39m}\u001b[39;00m\u001b[39m/\u001b[39m\u001b[39m{\u001b[39;00mkey\u001b[39m}\u001b[39;00m\u001b[39m.txt\u001b[39m\u001b[39m'\u001b[39m, \u001b[39m'\u001b[39m\u001b[39mw\u001b[39m\u001b[39m'\u001b[39m) \u001b[39mas\u001b[39;00m file:\n",
      "File \u001b[0;32m~/master/code/schemes/disk_lsh.py:408\u001b[0m, in \u001b[0;36mDiskLSH.compute_dataset_hashes_with_KD_tree\u001b[0;34m(self)\u001b[0m\n\u001b[1;32m    406\u001b[0m \u001b[39mdef\u001b[39;00m \u001b[39mcompute_dataset_hashes_with_KD_tree\u001b[39m(\u001b[39mself\u001b[39m) \u001b[39m-\u001b[39m\u001b[39m>\u001b[39m \u001b[39mdict\u001b[39m[\u001b[39mstr\u001b[39m, \u001b[39mlist\u001b[39m]:\n\u001b[1;32m    407\u001b[0m \u001b[39m    \u001b[39m\u001b[39m\"\"\" Same as above, but utilises a KD-tree for faster computation\"\"\"\u001b[39;00m\n\u001b[0;32m--> 408\u001b[0m     files \u001b[39m=\u001b[39m mfh\u001b[39m.\u001b[39;49mread_meta_file(\u001b[39mself\u001b[39;49m\u001b[39m.\u001b[39;49mmeta_file)\n\u001b[1;32m    409\u001b[0m     trajectories \u001b[39m=\u001b[39m fh\u001b[39m.\u001b[39mload_trajectory_files(files, \u001b[39mself\u001b[39m\u001b[39m.\u001b[39mdata_path)\n\u001b[1;32m    411\u001b[0m     \u001b[39m# Beginning to hash trajectories\u001b[39;00m\n",
      "File \u001b[0;32m~/master/code/utils/metafile_handler.py:115\u001b[0m, in \u001b[0;36mread_meta_file\u001b[0;34m(path_to_file)\u001b[0m\n\u001b[1;32m    113\u001b[0m         file\u001b[39m.\u001b[39mclose()\n\u001b[1;32m    114\u001b[0m \u001b[39mexcept\u001b[39;00m \u001b[39mFileNotFoundError\u001b[39;00m:\n\u001b[0;32m--> 115\u001b[0m     \u001b[39mraise\u001b[39;00m(\u001b[39mException\u001b[39;00m(\u001b[39mf\u001b[39m\u001b[39m\"\u001b[39m\u001b[39mCant find file \u001b[39m\u001b[39m{\u001b[39;00mpath_to_file\u001b[39m}\u001b[39;00m\u001b[39m\"\u001b[39m))\n\u001b[1;32m    117\u001b[0m \u001b[39mreturn\u001b[39;00m trajectory_files\n",
      "\u001b[0;31mException\u001b[0m: Cant find file ../code/data/chosen_data/porto/META-1000.TXT"
     ]
    }
   ],
   "source": [
    "# Generating the disk-based LSH objects hashes and saving them to file\n",
    "\n",
    "hashes = DiskPorto.compute_dataset_hashes_with_KD_tree()\n",
    "\n",
    "for key in hashes:\n",
    "    with open(f'{OUTPUT_FOLDER_PORTO}/{key}.txt', 'w') as file:\n",
    "        for hash in hashes[key]:\n",
    "            file.write(\"%s\\n\" % hash)\n",
    "        file.close\n",
    "\n",
    "# Copying meta_files as well\n",
    "meta_files = mfh.get_meta_files(PORTO_DATA)\n",
    "\n",
    "for filename in meta_files:\n",
    "    shutil.copy(PORTO_DATA + filename, OUTPUT_FOLDER_PORTO)"
   ]
  },
  {
   "cell_type": "code",
   "execution_count": null,
   "metadata": {},
   "outputs": [],
   "source": [
    "# Cell for methdos use to measure the hashing performance efficiency, utilises parallell programming for optimal measurements\n",
    "layers = 4\n",
    "diameter = 1.5\n",
    "num_disks = 50\n",
    "meta_file = \"../data/chosen_data/porto/META-200.TXT\"\n",
    "\n",
    "def fun_wrapper_naive(x):\n",
    "    disk = DiskLSH(\"Porto D1\", P_MIN_LAT, P_MAX_LAT, P_MIN_LON, P_MAX_LON, num_disks, layers, diameter, meta_file, PORTO_DATA)\n",
    "    return disk.measure_hash_computation(1,1)[0]\n",
    "\n",
    "def fun_wrapper_quadrants(x):\n",
    "    disk = DiskLSH(\"Porto D1\", P_MIN_LAT, P_MAX_LAT, P_MIN_LON, P_MAX_LON, num_disks, layers, diameter, meta_file, PORTO_DATA)\n",
    "    return disk.measure_hash_computation_with_quad_tree(1,1)[0]\n",
    "\n",
    "def fun_wrapper_KD_tree(x):\n",
    "    disk = DiskLSH(\"Porto D1\", P_MIN_LAT, P_MAX_LAT, P_MIN_LON, P_MAX_LON, num_disks, layers, diameter, meta_file, PORTO_DATA)\n",
    "    return disk.compute_dataset_hashes_with_KD_tree(1,1)[0]\n",
    "\n",
    "#runtimes, number = DiskPorto.measure_hash_computation_with_KD_tree(number=1, repeat=10)\n",
    "#print(runtimes)\n",
    "#print(f\"Ran the hash computation {len(runtimes)} times. Fastest runtime: {min(runtimes)}s for {number} hashes\")"
   ]
  },
  {
   "attachments": {},
   "cell_type": "markdown",
   "metadata": {},
   "source": [
    "# Measuring run-times of hash generation\n",
    "The cells below are created to measure the time-efficiency of the hash computation\n"
   ]
  },
  {
   "cell_type": "code",
   "execution_count": null,
   "metadata": {},
   "outputs": [],
   "source": [
    "#Cell for measrung DiskLSH hash generation times for all methods in both datasets - using coordiante hashes\n",
    "import pandas as pd\n",
    "from itertools import chain\n",
    "\n",
    "output_folder = \"../code/schemes/experiments/runtimes/\"\n",
    "file_name = \"hashing_runtimes_disk_lsh.csv\"\n",
    "\n",
    "hashing_map = {\n",
    "    \"porto_naive\" : hashing.fun_wrapper_p_naive,\n",
    "    \"porto_quadrants\" : hashing.fun_wrapper_p_quadrants,\n",
    "    \"porto_kd_tree\" : hashing.fun_wrapper_p_KD_tree,\n",
    "}\n",
    "\n",
    "config = {\n",
    "    \"porto\" : [1000, 60, 4, 2.2]\n",
    "}\n",
    "\n",
    "runs = 10\n",
    "\n",
    "df = pd.DataFrame(columns=[f\"Run_{run+1}\" for run in range(runs)])\n",
    "\n",
    "for key in hashing_map.keys():\n",
    "    with Pool() as pool:\n",
    "        result = pool.map(hashing_map[key], [config[key.split(\"_\")[0]] for _ in range(runs)])\n",
    "        df.loc[key] = list(chain.from_iterable(result))\n",
    "\n",
    "df.to_csv(os.path.join(output_folder, file_name))"
   ]
  }
 ],
 "metadata": {
  "kernelspec": {
   "display_name": "Python 3",
   "language": "python",
   "name": "python3"
  },
  "language_info": {
   "codemirror_mode": {
    "name": "ipython",
    "version": 3
   },
   "file_extension": ".py",
   "mimetype": "text/x-python",
   "name": "python",
   "nbconvert_exporter": "python",
   "pygments_lexer": "ipython3",
   "version": "3.12.1"
  },
  "orig_nbformat": 4,
  "vscode": {
   "interpreter": {
    "hash": "6a8cebea5680a70624bfb085291ac11ac025ad85fe214511868677846ba38b53"
   }
  }
 },
 "nbformat": 4,
 "nbformat_minor": 2
}
