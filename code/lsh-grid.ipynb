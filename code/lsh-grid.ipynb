{
 "cells": [
  {
   "attachments": {},
   "cell_type": "markdown",
   "metadata": {},
   "source": [
    "# Notebook for the creation of the grid lsh hashes for Porto datasets\n",
    "\n",
    "Sheet that converts the extracted data from the data/chosen_data folder to hashes that will be stored in data/hashed_data/subset-'size'"
   ]
  },
  {
   "cell_type": "code",
   "execution_count": 1,
   "metadata": {},
   "outputs": [],
   "source": [
    "# Importing nescessary modules\n",
    "import os\n",
    "import shutil\n",
    "\n",
    "import global_variables\n",
    "\n",
    "from schemes.grid_lsh import GridLSH\n",
    "from utils import metafile_handler as mfh\n",
    "\n",
    "from schemes.experiments import hashing\n",
    "\n",
    "from multiprocessing import Pool"
   ]
  },
  {
   "cell_type": "code",
   "execution_count": 2,
   "metadata": {},
   "outputs": [],
   "source": [
    "# Declaring global variables:\n",
    "\n",
    "SHOULD_DELETE_OLD_FILES= True\n",
    "\n",
    "OUTPUT_FOLDER_PORTO = f\"../data/hashed_data/{global_variables.CHOSEN_SUBSET_NAME}/\"\n",
    "\n",
    "PORTO_DATA = f\"../data/chosen_data/{global_variables.CHOSEN_SUBSET_NAME}/\""
   ]
  },
  {
   "attachments": {},
   "cell_type": "markdown",
   "metadata": {},
   "source": [
    "---\n",
    "## LSH - grid"
   ]
  },
  {
   "cell_type": "code",
   "execution_count": 4,
   "metadata": {},
   "outputs": [],
   "source": [
    "# Run this cell to clear the chosen files in the PORTO folder\n",
    "\n",
    "if SHOULD_DELETE_OLD_FILES:\n",
    "    for filename in os.listdir(OUTPUT_FOLDER_PORTO):\n",
    "        file_path = os.path.join(OUTPUT_FOLDER_PORTO, filename)\n",
    "        try:\n",
    "            if os.path.isfile(file_path) or os.path.islink(file_path):\n",
    "                os.unlink(file_path)\n",
    "            elif os.path.isdir(file_path):\n",
    "                shutil.rmtree(file_path)\n",
    "        except Exception as e:\n",
    "            print(\"Failed to remove %s. Reason: %s\" % (file_path, e))"
   ]
  },
  {
   "cell_type": "code",
   "execution_count": 5,
   "metadata": {},
   "outputs": [],
   "source": [
    "# Create Grid LSH objec for Porto\n",
    "\n",
    "resolution = 1.6 # km\n",
    "layers = 5\n",
    "meta_file = f\"../data/chosen_data/{global_variables.CHOSEN_SUBSET_NAME}/META.txt\"\n",
    "\n",
    "\n",
    "GridPorto = GridLSH(\"Porto G1\", global_variables.P_MIN_LAT, global_variables.P_MAX_LAT, global_variables.P_MIN_LON, global_variables.P_MAX_LON, resolution, layers, meta_file, PORTO_DATA )\n",
    "\n"
   ]
  },
  {
   "cell_type": "markdown",
   "metadata": {},
   "source": [
    "29.04: The code below used 2m 35.9s"
   ]
  },
  {
   "cell_type": "code",
   "execution_count": 6,
   "metadata": {},
   "outputs": [],
   "source": [
    "# Creating the hashes and saving them to output folder\n",
    "\n",
    "hashes = GridPorto.compute_dataset_hashes()\n",
    "\n",
    "# Saving the hashes to files\n",
    "for key in hashes:\n",
    "    with open(f'{OUTPUT_FOLDER_PORTO}{key}.txt','w') as file:\n",
    "        for hash in hashes[key]:\n",
    "            file.write(\"%s\\n\" % hash)\n",
    "        file.close()\n",
    "\n",
    "# Copying the meta_files\n",
    "meta_files = mfh.get_meta_file(PORTO_DATA)\n",
    "\n",
    "for filename in meta_files:\n",
    "    shutil.copy(PORTO_DATA + filename, OUTPUT_FOLDER_PORTO)"
   ]
  },
  {
   "cell_type": "markdown",
   "metadata": {},
   "source": [
    "### Calculate similarity of hashes"
   ]
  },
  {
   "cell_type": "code",
   "execution_count": null,
   "metadata": {},
   "outputs": [],
   "source": [
    "from utils.similarity_measures.distance import py_edit_distance_penalty_parallell as py_edp_parallell\n",
    "\n",
    "similarities = py_edp_parallell(hashes)\n",
    "output_path = f\"../code/experiments/similarities/grid_porto-{global_variables.CHOSEN_SUBSET_NAME}.csv\"\n",
    "similarities.to_csv(os.path.abspath(output_path))\n",
    "\n",
    "print(f\"Check ../code/experiments/similarities/, it should be a file here named grid_porto-{global_variables.CHOSEN_SUBSET_NAME}.csv which contains the similarities in the dataset.\")\n"
   ]
  }
 ],
 "metadata": {
  "kernelspec": {
   "display_name": "Python 3",
   "language": "python",
   "name": "python3"
  },
  "language_info": {
   "codemirror_mode": {
    "name": "ipython",
    "version": 3
   },
   "file_extension": ".py",
   "mimetype": "text/x-python",
   "name": "python",
   "nbconvert_exporter": "python",
   "pygments_lexer": "ipython3",
   "version": "3.12.1"
  },
  "orig_nbformat": 4,
  "vscode": {
   "interpreter": {
    "hash": "6a8cebea5680a70624bfb085291ac11ac025ad85fe214511868677846ba38b53"
   }
  }
 },
 "nbformat": 4,
 "nbformat_minor": 2
}
