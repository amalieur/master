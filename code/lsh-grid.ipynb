{
 "cells": [
  {
   "attachments": {},
   "cell_type": "markdown",
   "metadata": {},
   "source": [
    "# Notebook for the creation of the grid lsh hashes for both datasets\n",
    "\n",
    "Sheet that converts the extracted data from the data/chosen_data folder to hashes that will be stored in data/hashed_data/grid"
   ]
  },
  {
   "cell_type": "code",
   "execution_count": 1,
   "metadata": {},
   "outputs": [],
   "source": [
    "# Importing nescessary modules\n",
    "import os\n",
    "import shutil\n",
    "\n",
    "from schemes.grid_lsh import GridLSH\n",
    "from utils import metafile_handler as mfh\n",
    "\n",
    "from schemes.experiments import hashing\n",
    "\n",
    "from multiprocessing import Pool"
   ]
  },
  {
   "cell_type": "code",
   "execution_count": 2,
   "metadata": {},
   "outputs": [],
   "source": [
    "# Declaring global variables:\n",
    "\n",
    "SHOULD_DELETE_OLD_FILES= False\n",
    "\n",
    "OUTPUT_FOLDER_PORTO = \"../data/hashed_data/grid/porto/\"\n",
    "\n",
    "PORTO_DATA = \"../data/chosen_data/porto/\"\n",
    "\n",
    "P_MAX_LON = -8.57\n",
    "P_MIN_LON = -8.66\n",
    "P_MAX_LAT = 41.19\n",
    "P_MIN_LAT = 41.14"
   ]
  },
  {
   "attachments": {},
   "cell_type": "markdown",
   "metadata": {},
   "source": [
    "---\n",
    "## Porto LSH\n",
    "\n",
    "Beginning with the porto set"
   ]
  },
  {
   "cell_type": "code",
   "execution_count": 3,
   "metadata": {},
   "outputs": [],
   "source": [
    "# Run this cell to clear the chosen files in the PORTO folder\n",
    "\n",
    "if SHOULD_DELETE_OLD_FILES:\n",
    "    for filename in os.listdir(OUTPUT_FOLDER_PORTO):\n",
    "        file_path = os.path.join(OUTPUT_FOLDER_PORTO, filename)\n",
    "        try:\n",
    "            if os.path.isfile(file_path) or os.path.islink(file_path):\n",
    "                os.unlink(file_path)\n",
    "            elif os.path.isdir(file_path):\n",
    "                shutil.rmtree(file_path)\n",
    "        except Exception as e:\n",
    "            print(\"Failed to remove %s. Reason: %s\" % (file_path, e))"
   ]
  },
  {
   "cell_type": "code",
   "execution_count": 4,
   "metadata": {},
   "outputs": [],
   "source": [
    "# Create Grid LSH objec for Porto\n",
    "\n",
    "resolution = 1.6 # km\n",
    "layers = 5\n",
    "meta_file = \"../data/chosen_data/porto/META-1000.txt\"\n",
    "\n",
    "\n",
    "GridPorto = GridLSH(\"Porto G1\", P_MIN_LAT, P_MAX_LAT, P_MIN_LON, P_MAX_LON, resolution, layers, meta_file, PORTO_DATA )\n",
    "\n"
   ]
  },
  {
   "cell_type": "code",
   "execution_count": 5,
   "metadata": {},
   "outputs": [],
   "source": [
    "# Creating the hashes and saving them to output folder\n",
    "\n",
    "hashes = GridPorto.compute_dataset_hashes()\n",
    "\n",
    "# Saving the hashes to files\n",
    "for key in hashes:\n",
    "    with open(f'{OUTPUT_FOLDER_PORTO}{key}.txt','w') as file:\n",
    "        for hash in hashes[key]:\n",
    "            file.write(\"%s\\n\" % hash)\n",
    "        file.close()\n",
    "\n",
    "# Copying the meta_files\n",
    "meta_files = mfh.get_meta_files(PORTO_DATA)\n",
    "\n",
    "for filename in meta_files:\n",
    "    shutil.copy(PORTO_DATA + filename, OUTPUT_FOLDER_PORTO)"
   ]
  },
  {
   "attachments": {},
   "cell_type": "markdown",
   "metadata": {},
   "source": [
    "# Measuring run-times of hash generation\n",
    "The cells below are created to measure the time-efficiency of the hash computation\n",
    "The time measured is the computation time only. I.E. does not include read/write to files, only the computationof the values from in-memory structures.\n"
   ]
  },
  {
   "cell_type": "code",
   "execution_count": 6,
   "metadata": {},
   "outputs": [],
   "source": [
    "#Cell for measrung GridLSH hash generation times for both datasets \n",
    "import pandas as pd\n",
    "from itertools import chain\n",
    "\n",
    "output_folder = \"../code/schemes/experiments/runtimes/\"\n",
    "file_name = \"hashing_runtimes_grid_lsh.csv\"\n",
    "\n",
    "hashing_map = {\n",
    "    \"porto\" : hashing.fun_wrapper_p_grid\n",
    "}\n",
    "\n",
    "config = {\n",
    "    \"porto\" : [1000, 1.6, 5]\n",
    "\n",
    "}\n",
    "\n",
    "runs = 10\n",
    "\n",
    "df = pd.DataFrame(columns=[f\"Run_{run+1}\" for run in range(runs)])\n",
    "\n",
    "for key in hashing_map.keys():\n",
    "    with Pool() as pool:\n",
    "        result = pool.map(hashing_map[key], [config[key] for _ in range(runs)])\n",
    "        df.loc[key] = list(chain.from_iterable(result))\n",
    "\n",
    "df.to_csv(os.path.join(output_folder, file_name))"
   ]
  },
  {
   "cell_type": "code",
   "execution_count": 7,
   "metadata": {},
   "outputs": [
    {
     "name": "stdout",
     "output_type": "stream",
     "text": [
      "       Average runtime  Minimum runtime  Maximum runtime\n",
      "porto         0.309964         0.299888         0.322494\n",
      "                 Average runtime  Minimum runtime  Maximum runtime\n",
      "porto_naive             4.461135         4.403904         4.526089\n",
      "porto_quadrants         2.224874         2.034192         2.348749\n",
      "porto_kd_tree           2.239396         2.179610         2.320007\n"
     ]
    }
   ],
   "source": [
    "# Cell for Hash generation times analysis\n",
    "\n",
    "import pandas as pd\n",
    "import os\n",
    "\n",
    "folder = \"../code/schemes/experiments/runtimes/\"\n",
    "grid_name = \"hashing_runtimes_grid_lsh.csv\"\n",
    "disk_name = \"hashing_runtimes_disk_lsh.csv\"\n",
    "\n",
    "GRID = pd.DataFrame()\n",
    "DISK = pd.DataFrame()\n",
    "\n",
    "grid = pd.read_csv(os.path.join(folder, grid_name), index_col=0)\n",
    "disk = pd.read_csv(os.path.join(folder, disk_name), index_col=0) \n",
    "\n",
    "GRID[\"Average runtime\"] = grid.mean(axis=1)\n",
    "GRID[\"Minimum runtime\"] = grid.min(axis=1)\n",
    "GRID[\"Maximum runtime\"] = grid.max(axis=1)\n",
    "\n",
    "DISK[\"Average runtime\"] = disk.mean(axis=1)\n",
    "DISK[\"Minimum runtime\"] = disk.min(axis=1)\n",
    "DISK[\"Maximum runtime\"] = disk.max(axis=1)\n",
    "print(GRID)\n",
    "print(DISK)"
   ]
  }
 ],
 "metadata": {
  "kernelspec": {
   "display_name": "Python 3",
   "language": "python",
   "name": "python3"
  },
  "language_info": {
   "codemirror_mode": {
    "name": "ipython",
    "version": 3
   },
   "file_extension": ".py",
   "mimetype": "text/x-python",
   "name": "python",
   "nbconvert_exporter": "python",
   "pygments_lexer": "ipython3",
   "version": "3.12.1"
  },
  "orig_nbformat": 4,
  "vscode": {
   "interpreter": {
    "hash": "6a8cebea5680a70624bfb085291ac11ac025ad85fe214511868677846ba38b53"
   }
  }
 },
 "nbformat": 4,
 "nbformat_minor": 2
}
