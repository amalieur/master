{
 "cells": [
  {
   "attachments": {},
   "cell_type": "markdown",
   "metadata": {},
   "source": [
    "# Notebook for the creation of the grid lsh hashes for both datasets\n",
    "\n",
    "Sheet that converts the extracted data from the data/chosen_data folder to hashes that will be stored in data/hashed_data/grid"
   ]
  },
  {
   "cell_type": "code",
   "execution_count": 1,
   "metadata": {},
   "outputs": [],
   "source": [
    "# Importing nescessary modules\n",
    "import os\n",
    "import shutil\n",
    "\n",
    "from schemes.grid_lsh import GridLSH\n",
    "from utils import metafile_handler as mfh\n",
    "\n",
    "import timeit as ti\n",
    "from tqdm import tqdm \n",
    "\n"
   ]
  },
  {
   "cell_type": "code",
   "execution_count": 2,
   "metadata": {},
   "outputs": [],
   "source": [
    "# Declaring global variables:\n",
    "\n",
    "SHOULD_DELETE_OLD_FILES= True\n",
    "\n",
    "OUTPUT_FOLDER_PORTO = \"../data/hashed_data/grid/porto/\"\n",
    "OUTPUT_FOLDER_ROME = \"../data/hashed_data/grid/rome/\"\n",
    "\n",
    "PORTO_DATA = \"../data/chosen_data/porto/\"\n",
    "ROME_DATA = \"../data/chosen_data/rome/\"\n",
    "\n",
    "P_MAX_LON = -8.57\n",
    "P_MIN_LON = -8.66\n",
    "P_MAX_LAT = 41.19\n",
    "P_MIN_LAT = 41.14\n",
    "\n",
    "R_MAX_LON = 12.53\n",
    "R_MIN_LON = 12.44\n",
    "R_MAX_LAT = 41.93\n",
    "R_MIN_LAT = 41.88"
   ]
  },
  {
   "attachments": {},
   "cell_type": "markdown",
   "metadata": {},
   "source": [
    "---\n",
    "## Porto LSH\n",
    "\n",
    "Beginning with the porto set"
   ]
  },
  {
   "cell_type": "code",
   "execution_count": 3,
   "metadata": {},
   "outputs": [],
   "source": [
    "# Run this cell to clear the chosen files in the PORTO folder\n",
    "\n",
    "if SHOULD_DELETE_OLD_FILES:\n",
    "    for filename in os.listdir(OUTPUT_FOLDER_PORTO):\n",
    "        file_path = os.path.join(OUTPUT_FOLDER_PORTO, filename)\n",
    "        try:\n",
    "            if os.path.isfile(file_path) or os.path.islink(file_path):\n",
    "                os.unlink(file_path)\n",
    "            elif os.path.isdir(file_path):\n",
    "                shutil.rmtree(file_path)\n",
    "        except Exception as e:\n",
    "            print(\"Failed to remove %s. Reason: %s\" % (file_path, e))"
   ]
  },
  {
   "cell_type": "code",
   "execution_count": 4,
   "metadata": {},
   "outputs": [],
   "source": [
    "# Create Grid LSH objec for Porto\n",
    "\n",
    "resolution = 0.25 # km\n",
    "layers = 4\n",
    "meta_file = \"../data/chosen_data/porto/META-1000.TXT\"\n",
    "\n",
    "GridPorto = GridLSH(\"Porto G1\", P_MIN_LAT, P_MAX_LAT, P_MIN_LON, P_MAX_LON, resolution, layers, meta_file, PORTO_DATA )\n",
    "\n"
   ]
  },
  {
   "cell_type": "code",
   "execution_count": 5,
   "metadata": {},
   "outputs": [],
   "source": [
    "# Creating the hashes and saving them to output folder\n",
    "\n",
    "hashes = GridPorto.compute_dataset_hashes()\n",
    "\n",
    "# Saving the hashes to files\n",
    "for key in hashes:\n",
    "    with open(f'{OUTPUT_FOLDER_PORTO}/{key}.txt','w') as file:\n",
    "        for hash in hashes[key]:\n",
    "            file.write(\"%s\\n\" % hash)\n",
    "        file.close()\n",
    "\n",
    "# Copying the meta_files\n",
    "meta_files = mfh.get_meta_files(PORTO_DATA)\n",
    "\n",
    "for filename in meta_files:\n",
    "    shutil.copy(PORTO_DATA + filename, OUTPUT_FOLDER_PORTO)"
   ]
  },
  {
   "cell_type": "code",
   "execution_count": 6,
   "metadata": {},
   "outputs": [
    {
     "name": "stdout",
     "output_type": "stream",
     "text": [
      "[0.2734697999985656, 0.27407850000599865, 0.28004120000696275, 0.27589330000046175, 0.2772757000057027, 0.2835670999920694, 0.27879710000706837, 0.2727778999978909, 0.3143601000047056, 0.34022929999628104]\n",
      "Ran the hash computation 10 times. Fastest runtime: 0.2727778999978909s for 1000 hashes\n"
     ]
    }
   ],
   "source": [
    "# Cell for measuring the time needed to generete the hashes. \n",
    "\n",
    "runtimes, number = GridPorto.measure_hash_computation(repeat=10, number=1)\n",
    "print(runtimes)\n",
    "print(f\"Ran the hash computation {len(runtimes)} times. Fastest runtime: {min(runtimes)}s for {number} hashes\")\n"
   ]
  },
  {
   "attachments": {},
   "cell_type": "markdown",
   "metadata": {},
   "source": [
    "---\n",
    "## Rome LSH\n",
    "\n",
    "Continuing with the rome set"
   ]
  },
  {
   "cell_type": "code",
   "execution_count": 7,
   "metadata": {},
   "outputs": [],
   "source": [
    "# Run this cell to clear the chosen files in the ROME folder\n",
    "\n",
    "if SHOULD_DELETE_OLD_FILES:\n",
    "    for filename in os.listdir(OUTPUT_FOLDER_ROME):\n",
    "        file_path = os.path.join(OUTPUT_FOLDER_ROME, filename)\n",
    "        try:\n",
    "            if os.path.isfile(file_path) or os.path.islink(file_path):\n",
    "                os.unlink(file_path)\n",
    "            elif os.path.isdir(file_path):\n",
    "                shutil.rmtree(file_path)\n",
    "        except Exception as e:\n",
    "            print(\"Failed to remove %s. Reason: %s\" % (file_path, e))"
   ]
  },
  {
   "cell_type": "code",
   "execution_count": 8,
   "metadata": {},
   "outputs": [],
   "source": [
    "# Create Grid hash object for Rome and saves them to output folder. Also copies the metafiles denoting the different datasets\n",
    "\n",
    "resolution = 0.25 # km\n",
    "layers = 4\n",
    "meta_file = \"../data/chosen_data/rome/META-1000.TXT\"\n",
    "\n",
    "GridRome = GridLSH(\"Rome G1\", R_MIN_LAT, R_MAX_LAT, R_MIN_LON, R_MAX_LON, resolution, layers, meta_file, ROME_DATA)\n"
   ]
  },
  {
   "cell_type": "code",
   "execution_count": 9,
   "metadata": {},
   "outputs": [],
   "source": [
    "# Generate the hashes and save them to output folder\n",
    "\n",
    "hashes = GridRome.compute_dataset_hashes()\n",
    "\n",
    "# Saving the hashes to files\n",
    "for key in hashes:\n",
    "    with open(f\"{OUTPUT_FOLDER_ROME}/{key}.txt\", \"w\") as file:\n",
    "        for hash in hashes[key]:\n",
    "            file.write(\"%s\\n\" % hash)\n",
    "        file.close()\n",
    "\n",
    "# Copying the meta_files:\n",
    "meta_files = mfh.get_meta_files(ROME_DATA)\n",
    "\n",
    "for filename in meta_files:\n",
    "    shutil.copy(ROME_DATA + filename, OUTPUT_FOLDER_ROME)"
   ]
  },
  {
   "cell_type": "code",
   "execution_count": 10,
   "metadata": {},
   "outputs": [
    {
     "name": "stdout",
     "output_type": "stream",
     "text": [
      "[0.5369671999942511, 0.5320334999996703, 0.5285268000006909, 0.5288125999941258, 0.554998900013743, 0.5491621000110172, 0.6291765000059968, 0.5757102999923518, 0.6177523999940604, 0.6490723000024445]\n",
      "Ran the hash computation 10 times. Fastest runtime: 0.5285268000006909s for 1000 hashes\n"
     ]
    }
   ],
   "source": [
    "\n",
    "runtimes, number = GridRome.measure_hash_computation(repeat=10, number=1)\n",
    "print(runtimes)\n",
    "print(f\"Ran the hash computation {len(runtimes)} times. Fastest runtime: {min(runtimes)}s for {number} hashes\")"
   ]
  },
  {
   "cell_type": "code",
   "execution_count": null,
   "metadata": {},
   "outputs": [],
   "source": []
  }
 ],
 "metadata": {
  "kernelspec": {
   "display_name": "Python 3",
   "language": "python",
   "name": "python3"
  },
  "language_info": {
   "codemirror_mode": {
    "name": "ipython",
    "version": 3
   },
   "file_extension": ".py",
   "mimetype": "text/x-python",
   "name": "python",
   "nbconvert_exporter": "python",
   "pygments_lexer": "ipython3",
   "version": "3.10.7"
  },
  "orig_nbformat": 4,
  "vscode": {
   "interpreter": {
    "hash": "6a8cebea5680a70624bfb085291ac11ac025ad85fe214511868677846ba38b53"
   }
  }
 },
 "nbformat": 4,
 "nbformat_minor": 2
}
