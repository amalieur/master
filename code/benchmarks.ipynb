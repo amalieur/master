{
 "cells": [
  {
   "attachments": {},
   "cell_type": "markdown",
   "metadata": {},
   "source": [
    "# Sheet for computing the benchmarks and true similarities for the project"
   ]
  },
  {
   "cell_type": "code",
   "execution_count": 4,
   "metadata": {},
   "outputs": [],
   "source": [
    "# Importing nescessary modules\n",
    "import os\n",
    "import re\n",
    "import shutil\n",
    "import numpy as np\n",
    "import pandas as pd\n",
    "\n",
    "from utils import metafile_handler as mfh\n",
    "from utils import file_handler as fh\n",
    "\n",
    "from benchmarks import dtw\n",
    "from benchmarks import frechet\n",
    "\n"
   ]
  },
  {
   "cell_type": "code",
   "execution_count": 5,
   "metadata": {},
   "outputs": [],
   "source": [
    "DATA_PORTO = \"../data/chosen_data/porto/\"\n",
    "SIM_OUT_FOLDER = \"../code/benchmarks/similarities/\"\n",
    "\n",
    "PORTO_FULL_SET = \"../data/chosen_data/porto/META-1000.txt\"\n",
    "\n",
    "TEST_SET_PORTO = \"../data/chosen_data/porto/META-50.txt\"\n",
    "\n",
    "PORTO_DTW_FILE = \"porto-dtw.csv\"\n",
    "PORTO_FRECHET_FILE = \"porto-frechet.csv\"\n",
    "\n",
    "PORTO_DTW_FILE_TEST = \"porto-dtw-test.csv\"\n",
    "PORTO_FRECHET_FILE_TEST = \"porto-frechet-test.csv\""
   ]
  },
  {
   "cell_type": "code",
   "execution_count": 6,
   "metadata": {},
   "outputs": [],
   "source": [
    "def deleteFile(file_name: str) -> None:\n",
    "    file_path = os.path.join(SIM_OUT_FOLDER, file_name)\n",
    "    try:\n",
    "        if os.path.isfile(file_path) or os.path.islink(file_path):\n",
    "            os.unlink(file_path)\n",
    "        elif os.path.isdir(file_path):\n",
    "            shutil.rmtree(file_path)\n",
    "    except Exception as e:\n",
    "        print(\"Failed to remove %s. Reason: %s\" % (file_path, e))\n",
    "\n",
    "\n",
    "def portoSet(file_size: int) -> str:\n",
    "    return f\"../data/chosen_data/porto/META-{file_size}.txt\""
   ]
  },
  {
   "attachments": {},
   "cell_type": "markdown",
   "metadata": {},
   "source": [
    "---"
   ]
  },
  {
   "attachments": {},
   "cell_type": "markdown",
   "metadata": {},
   "source": [
    "## DTW distance compuation\n",
    "\n",
    "Cells for generating and storing the similarities using dtw"
   ]
  },
  {
   "cell_type": "code",
   "execution_count": 7,
   "metadata": {},
   "outputs": [],
   "source": [
    "## Using Cython DTW, to speed things up\n",
    "\n",
    "def generate_dtw_similarities(data_folder: str, meta_file: str, file_name: str):\n",
    "    deleteFile(file_name)\n",
    "\n",
    "    files = mfh.read_meta_file(meta_file)\n",
    "    trajectories = fh.load_trajectory_files(files, data_folder)\n",
    "\n",
    "    df = dtw.cy_dtw(trajectories)\n",
    "    df.to_csv(os.path.join(SIM_OUT_FOLDER, file_name))\n",
    "\n",
    "\n",
    "def generate_parallell_dtw_similarities(data_folder: str, meta_file: str, file_name: str):\n",
    "    deleteFile(file_name)\n",
    "\n",
    "    files = mfh.read_meta_file(meta_file)\n",
    "    trajectories = fh.load_trajectory_files(files, data_folder)\n",
    "\n",
    "    df = dtw.cy_dtw_pool(trajectories)\n",
    "    df.to_csv(os.path.join(SIM_OUT_FOLDER, file_name))"
   ]
  },
  {
   "cell_type": "code",
   "execution_count": 8,
   "metadata": {},
   "outputs": [],
   "source": [
    "# DTW over PORTO\n",
    "# generate_dtw_similarities(DATA_PORTO, TEST_SET_PORTO, PORTO_DTW_FILE)"
   ]
  },
  {
   "cell_type": "code",
   "execution_count": 9,
   "metadata": {},
   "outputs": [],
   "source": [
    "# Parallell Porto DTW\n",
    "generate_parallell_dtw_similarities(DATA_PORTO, PORTO_FULL_SET, PORTO_DTW_FILE)\n"
   ]
  },
  {
   "cell_type": "code",
   "execution_count": 10,
   "metadata": {},
   "outputs": [],
   "source": [
    "# TEST SET OVER PORTO DTW\n",
    "generate_parallell_dtw_similarities(DATA_PORTO, TEST_SET_PORTO, PORTO_DTW_FILE_TEST)"
   ]
  },
  {
   "attachments": {},
   "cell_type": "markdown",
   "metadata": {},
   "source": [
    "---"
   ]
  },
  {
   "attachments": {},
   "cell_type": "markdown",
   "metadata": {},
   "source": [
    "## Frechet distance computation\n",
    "\n",
    "Cells for generating and storing the similarities using frechet distance"
   ]
  },
  {
   "cell_type": "code",
   "execution_count": 11,
   "metadata": {},
   "outputs": [],
   "source": [
    "## Python frechet\n",
    "def generate_frechet_similarities(data_folder: str, meta_file: str, file_name: str):\n",
    "    deleteFile(file_name)\n",
    "\n",
    "    files = mfh.read_meta_file(meta_file)\n",
    "    trajectories = fh.load_trajectory_files(files, data_folder)\n",
    "\n",
    "    df = frechet.cy_frechet(trajectories)\n",
    "    df.to_csv(os.path.join(SIM_OUT_FOLDER, file_name))\n",
    "\n",
    "\n",
    "def compute_parallell_frechet_similarities(data_folder: str, meta_file: str, file_name: str):\n",
    "    deleteFile(file_name)\n",
    "    files = mfh.read_meta_file(meta_file)\n",
    "    trajectories = fh.load_trajectory_files(files, data_folder)\n",
    "\n",
    "    df = frechet.cy_frechet_pool(trajectories)\n",
    "    df.to_csv(os.path.join(SIM_OUT_FOLDER, file_name))"
   ]
  },
  {
   "cell_type": "code",
   "execution_count": 12,
   "metadata": {},
   "outputs": [],
   "source": [
    "# Frechet over Porto # SLOW METHOD\n",
    "generate_frechet_similarities(DATA_PORTO, TEST_SET_PORTO, PORTO_FRECHET_FILE)"
   ]
  },
  {
   "cell_type": "code",
   "execution_count": 13,
   "metadata": {},
   "outputs": [
    {
     "name": "stdout",
     "output_type": "stream",
     "text": [
      "Cy Pool Frehet: 0/1000\n",
      "Cy Pool Frehet: 1/1000\n",
      "Cy Pool Frehet: 2/1000\n",
      "Cy Pool Frehet: 3/1000\n",
      "Cy Pool Frehet: 4/1000\n",
      "Cy Pool Frehet: 5/1000\n",
      "Cy Pool Frehet: 6/1000\n",
      "Cy Pool Frehet: 7/1000\n",
      "Cy Pool Frehet: 8/1000\n",
      "Cy Pool Frehet: 9/1000\n",
      "Cy Pool Frehet: 10/1000\n",
      "Cy Pool Frehet: 11/1000\n",
      "Cy Pool Frehet: 12/1000\n",
      "Cy Pool Frehet: 13/1000\n",
      "Cy Pool Frehet: 14/1000\n",
      "Cy Pool Frehet: 15/1000\n",
      "Cy Pool Frehet: 16/1000\n",
      "Cy Pool Frehet: 17/1000\n",
      "Cy Pool Frehet: 18/1000\n",
      "Cy Pool Frehet: 19/1000\n",
      "Cy Pool Frehet: 20/1000\n",
      "Cy Pool Frehet: 21/1000\n",
      "Cy Pool Frehet: 22/1000\n",
      "Cy Pool Frehet: 23/1000\n",
      "Cy Pool Frehet: 24/1000\n",
      "Cy Pool Frehet: 25/1000\n",
      "Cy Pool Frehet: 26/1000\n",
      "Cy Pool Frehet: 27/1000\n",
      "Cy Pool Frehet: 28/1000\n",
      "Cy Pool Frehet: 29/1000\n",
      "Cy Pool Frehet: 30/1000\n",
      "Cy Pool Frehet: 31/1000\n",
      "Cy Pool Frehet: 32/1000\n",
      "Cy Pool Frehet: 33/1000\n",
      "Cy Pool Frehet: 34/1000\n",
      "Cy Pool Frehet: 35/1000\n",
      "Cy Pool Frehet: 36/1000\n",
      "Cy Pool Frehet: 37/1000\n",
      "Cy Pool Frehet: 38/1000\n",
      "Cy Pool Frehet: 39/1000\n",
      "Cy Pool Frehet: 40/1000\n",
      "Cy Pool Frehet: 41/1000\n",
      "Cy Pool Frehet: 42/1000\n",
      "Cy Pool Frehet: 43/1000\n",
      "Cy Pool Frehet: 44/1000\n",
      "Cy Pool Frehet: 45/1000\n",
      "Cy Pool Frehet: 46/1000\n",
      "Cy Pool Frehet: 47/1000\n",
      "Cy Pool Frehet: 48/1000\n",
      "Cy Pool Frehet: 49/1000\n",
      "Cy Pool Frehet: 50/1000\n",
      "Cy Pool Frehet: 51/1000\n",
      "Cy Pool Frehet: 52/1000\n",
      "Cy Pool Frehet: 53/1000\n",
      "Cy Pool Frehet: 54/1000\n",
      "Cy Pool Frehet: 55/1000\n",
      "Cy Pool Frehet: 56/1000\n",
      "Cy Pool Frehet: 57/1000\n",
      "Cy Pool Frehet: 58/1000\n",
      "Cy Pool Frehet: 59/1000\n",
      "Cy Pool Frehet: 60/1000\n",
      "Cy Pool Frehet: 61/1000\n",
      "Cy Pool Frehet: 62/1000\n",
      "Cy Pool Frehet: 63/1000\n",
      "Cy Pool Frehet: 64/1000\n",
      "Cy Pool Frehet: 65/1000\n",
      "Cy Pool Frehet: 66/1000\n",
      "Cy Pool Frehet: 67/1000\n",
      "Cy Pool Frehet: 68/1000\n",
      "Cy Pool Frehet: 69/1000\n",
      "Cy Pool Frehet: 70/1000\n",
      "Cy Pool Frehet: 71/1000\n",
      "Cy Pool Frehet: 72/1000\n",
      "Cy Pool Frehet: 73/1000\n",
      "Cy Pool Frehet: 74/1000\n",
      "Cy Pool Frehet: 75/1000\n",
      "Cy Pool Frehet: 76/1000\n",
      "Cy Pool Frehet: 77/1000\n",
      "Cy Pool Frehet: 78/1000\n",
      "Cy Pool Frehet: 79/1000\n",
      "Cy Pool Frehet: 80/1000\n",
      "Cy Pool Frehet: 81/1000\n",
      "Cy Pool Frehet: 82/1000\n",
      "Cy Pool Frehet: 83/1000\n",
      "Cy Pool Frehet: 84/1000\n",
      "Cy Pool Frehet: 85/1000\n",
      "Cy Pool Frehet: 86/1000\n",
      "Cy Pool Frehet: 87/1000\n",
      "Cy Pool Frehet: 88/1000\n",
      "Cy Pool Frehet: 89/1000\n",
      "Cy Pool Frehet: 90/1000\n",
      "Cy Pool Frehet: 91/1000\n",
      "Cy Pool Frehet: 92/1000\n",
      "Cy Pool Frehet: 93/1000\n",
      "Cy Pool Frehet: 94/1000\n",
      "Cy Pool Frehet: 95/1000\n"
     ]
    },
    {
     "ename": "KeyboardInterrupt",
     "evalue": "",
     "output_type": "error",
     "traceback": [
      "\u001b[0;31m---------------------------------------------------------------------------\u001b[0m",
      "\u001b[0;31mKeyboardInterrupt\u001b[0m                         Traceback (most recent call last)",
      "Cell \u001b[0;32mIn[13], line 2\u001b[0m\n\u001b[1;32m      1\u001b[0m \u001b[39m# Paralell Porto Frechet // Took 429 minutes // 357\u001b[39;00m\n\u001b[0;32m----> 2\u001b[0m compute_parallell_frechet_similarities(DATA_PORTO, portoSet(\u001b[39m1000\u001b[39;49m), PORTO_FRECHET_FILE)\n",
      "Cell \u001b[0;32mIn[11], line 17\u001b[0m, in \u001b[0;36mcompute_parallell_frechet_similarities\u001b[0;34m(data_folder, meta_file, file_name)\u001b[0m\n\u001b[1;32m     14\u001b[0m files \u001b[39m=\u001b[39m mfh\u001b[39m.\u001b[39mread_meta_file(meta_file)\n\u001b[1;32m     15\u001b[0m trajectories \u001b[39m=\u001b[39m fh\u001b[39m.\u001b[39mload_trajectory_files(files, data_folder)\n\u001b[0;32m---> 17\u001b[0m df \u001b[39m=\u001b[39m frechet\u001b[39m.\u001b[39;49mcy_frechet_pool(trajectories)\n\u001b[1;32m     18\u001b[0m df\u001b[39m.\u001b[39mto_csv(os\u001b[39m.\u001b[39mpath\u001b[39m.\u001b[39mjoin(SIM_OUT_FOLDER, file_name))\n",
      "File \u001b[0;32m~/master/code/benchmarks/frechet.py:117\u001b[0m, in \u001b[0;36mcy_frechet_pool\u001b[0;34m(trajectories)\u001b[0m\n\u001b[1;32m    115\u001b[0m \u001b[39mfor\u001b[39;00m i, traj_i \u001b[39min\u001b[39;00m \u001b[39menumerate\u001b[39m(sorted_trajectories\u001b[39m.\u001b[39mkeys()):\n\u001b[1;32m    116\u001b[0m     \u001b[39mprint\u001b[39m(\u001b[39mf\u001b[39m\u001b[39m\"\u001b[39m\u001b[39mCy Pool Frehet: \u001b[39m\u001b[39m{\u001b[39;00mi\u001b[39m}\u001b[39;00m\u001b[39m/1000\u001b[39m\u001b[39m\"\u001b[39m)\n\u001b[0;32m--> 117\u001b[0m     frech_elements \u001b[39m=\u001b[39m pool\u001b[39m.\u001b[39;49mmap(_fun_wrapper, [(np\u001b[39m.\u001b[39;49marray(sorted_trajectories[traj_i]), np\u001b[39m.\u001b[39;49marray(sorted_trajectories[traj_j]), j) \u001b[39mfor\u001b[39;49;00m j, traj_j \u001b[39min\u001b[39;49;00m \u001b[39menumerate\u001b[39;49m(sorted_trajectories\u001b[39m.\u001b[39;49mkeys()) \u001b[39mif\u001b[39;49;00m i \u001b[39m>\u001b[39;49m\u001b[39m=\u001b[39;49m j])\n\u001b[1;32m    119\u001b[0m     \u001b[39mfor\u001b[39;00m element \u001b[39min\u001b[39;00m frech_elements:\n\u001b[1;32m    120\u001b[0m         M[i,element[\u001b[39m1\u001b[39m]] \u001b[39m=\u001b[39m element[\u001b[39m0\u001b[39m]\n",
      "File \u001b[0;32m~/.conda/envs/masteroppgave/lib/python3.12/multiprocessing/pool.py:367\u001b[0m, in \u001b[0;36mPool.map\u001b[0;34m(self, func, iterable, chunksize)\u001b[0m\n\u001b[1;32m    362\u001b[0m \u001b[39mdef\u001b[39;00m \u001b[39mmap\u001b[39m(\u001b[39mself\u001b[39m, func, iterable, chunksize\u001b[39m=\u001b[39m\u001b[39mNone\u001b[39;00m):\n\u001b[1;32m    363\u001b[0m \u001b[39m    \u001b[39m\u001b[39m'''\u001b[39;00m\n\u001b[1;32m    364\u001b[0m \u001b[39m    Apply `func` to each element in `iterable`, collecting the results\u001b[39;00m\n\u001b[1;32m    365\u001b[0m \u001b[39m    in a list that is returned.\u001b[39;00m\n\u001b[1;32m    366\u001b[0m \u001b[39m    '''\u001b[39;00m\n\u001b[0;32m--> 367\u001b[0m     \u001b[39mreturn\u001b[39;00m \u001b[39mself\u001b[39;49m\u001b[39m.\u001b[39;49m_map_async(func, iterable, mapstar, chunksize)\u001b[39m.\u001b[39;49mget()\n",
      "File \u001b[0;32m~/.conda/envs/masteroppgave/lib/python3.12/multiprocessing/pool.py:768\u001b[0m, in \u001b[0;36mApplyResult.get\u001b[0;34m(self, timeout)\u001b[0m\n\u001b[1;32m    767\u001b[0m \u001b[39mdef\u001b[39;00m \u001b[39mget\u001b[39m(\u001b[39mself\u001b[39m, timeout\u001b[39m=\u001b[39m\u001b[39mNone\u001b[39;00m):\n\u001b[0;32m--> 768\u001b[0m     \u001b[39mself\u001b[39;49m\u001b[39m.\u001b[39;49mwait(timeout)\n\u001b[1;32m    769\u001b[0m     \u001b[39mif\u001b[39;00m \u001b[39mnot\u001b[39;00m \u001b[39mself\u001b[39m\u001b[39m.\u001b[39mready():\n\u001b[1;32m    770\u001b[0m         \u001b[39mraise\u001b[39;00m \u001b[39mTimeoutError\u001b[39;00m\n",
      "File \u001b[0;32m~/.conda/envs/masteroppgave/lib/python3.12/multiprocessing/pool.py:765\u001b[0m, in \u001b[0;36mApplyResult.wait\u001b[0;34m(self, timeout)\u001b[0m\n\u001b[1;32m    764\u001b[0m \u001b[39mdef\u001b[39;00m \u001b[39mwait\u001b[39m(\u001b[39mself\u001b[39m, timeout\u001b[39m=\u001b[39m\u001b[39mNone\u001b[39;00m):\n\u001b[0;32m--> 765\u001b[0m     \u001b[39mself\u001b[39;49m\u001b[39m.\u001b[39;49m_event\u001b[39m.\u001b[39;49mwait(timeout)\n",
      "File \u001b[0;32m~/.conda/envs/masteroppgave/lib/python3.12/threading.py:655\u001b[0m, in \u001b[0;36mEvent.wait\u001b[0;34m(self, timeout)\u001b[0m\n\u001b[1;32m    653\u001b[0m signaled \u001b[39m=\u001b[39m \u001b[39mself\u001b[39m\u001b[39m.\u001b[39m_flag\n\u001b[1;32m    654\u001b[0m \u001b[39mif\u001b[39;00m \u001b[39mnot\u001b[39;00m signaled:\n\u001b[0;32m--> 655\u001b[0m     signaled \u001b[39m=\u001b[39m \u001b[39mself\u001b[39;49m\u001b[39m.\u001b[39;49m_cond\u001b[39m.\u001b[39;49mwait(timeout)\n\u001b[1;32m    656\u001b[0m \u001b[39mreturn\u001b[39;00m signaled\n",
      "File \u001b[0;32m~/.conda/envs/masteroppgave/lib/python3.12/threading.py:355\u001b[0m, in \u001b[0;36mCondition.wait\u001b[0;34m(self, timeout)\u001b[0m\n\u001b[1;32m    353\u001b[0m \u001b[39mtry\u001b[39;00m:    \u001b[39m# restore state no matter what (e.g., KeyboardInterrupt)\u001b[39;00m\n\u001b[1;32m    354\u001b[0m     \u001b[39mif\u001b[39;00m timeout \u001b[39mis\u001b[39;00m \u001b[39mNone\u001b[39;00m:\n\u001b[0;32m--> 355\u001b[0m         waiter\u001b[39m.\u001b[39;49macquire()\n\u001b[1;32m    356\u001b[0m         gotit \u001b[39m=\u001b[39m \u001b[39mTrue\u001b[39;00m\n\u001b[1;32m    357\u001b[0m     \u001b[39melse\u001b[39;00m:\n",
      "\u001b[0;31mKeyboardInterrupt\u001b[0m: "
     ]
    }
   ],
   "source": [
    "# Paralell Porto Frechet // Took 429 minutes //\n",
    "compute_parallell_frechet_similarities(DATA_PORTO, portoSet(1000), PORTO_FRECHET_FILE)"
   ]
  },
  {
   "cell_type": "code",
   "execution_count": null,
   "metadata": {},
   "outputs": [],
   "source": [
    "# TEST SET PORTO FRECHET\n",
    "compute_parallell_frechet_similarities(DATA_PORTO, TEST_SET_PORTO, PORTO_FRECHET_FILE_TEST)\n"
   ]
  },
  {
   "attachments": {},
   "cell_type": "markdown",
   "metadata": {},
   "source": [
    "---"
   ]
  },
  {
   "attachments": {},
   "cell_type": "markdown",
   "metadata": {},
   "source": [
    "## Time efficiency measuring\n",
    "\n",
    "Cells below are used for computing the time efficiency of DTW and Frechet"
   ]
  },
  {
   "cell_type": "code",
   "execution_count": null,
   "metadata": {},
   "outputs": [],
   "source": [
    "from multiprocessing import Pool"
   ]
  },
  {
   "cell_type": "code",
   "execution_count": null,
   "metadata": {},
   "outputs": [],
   "source": [
    "\n",
    "# Using Python, for measuring computation time fairly against the hash computations\n",
    "\n",
    "sim = {\n",
    "    \"dtw_py\" : dtw.measure_py_dtw,\n",
    "    \"frechet_py\" : frechet.measure_py_frechet,\n",
    "    \"dtw_cy\" : dtw.measure_cy_dtw,\n",
    "    \"frechet_cy\" : frechet.measure_cy_frechet\n",
    "}\n",
    "\n",
    "def measure_similarities(measure: str, data_folder: str, meta_file: str, parallell_jobs: int = 10):\n",
    "    \"\"\" Common method for measuring the efficiency of the similarity algorithms \"\"\"\n",
    "    files = mfh.read_meta_file(meta_file)\n",
    "    trajectories = fh.load_trajectory_files(files, data_folder)\n",
    "\n",
    "    with Pool() as pool:\n",
    "        result = pool.map(sim[measure], [[trajectories, 1, 1] for _ in range(10)])\n",
    "    return result\n"
   ]
  },
  {
   "cell_type": "code",
   "execution_count": null,
   "metadata": {},
   "outputs": [
    {
     "data": {
      "text/plain": [
       "[[53.640625],\n",
       " [54.921875],\n",
       " [54.953125],\n",
       " [55.046875],\n",
       " [54.515625],\n",
       " [54.625],\n",
       " [53.0],\n",
       " [54.921875],\n",
       " [8.140625],\n",
       " [8.15625]]"
      ]
     },
     "execution_count": 13,
     "metadata": {},
     "output_type": "execute_result"
    }
   ],
   "source": [
    "# test\n",
    "\n",
    "measure_similarities(\"dtw_py\", DATA_PORTO, portoSet(50))\n"
   ]
  },
  {
   "cell_type": "code",
   "execution_count": null,
   "metadata": {},
   "outputs": [],
   "source": [
    "measure_similarities(\"dtw_cy\", DATA_PORTO, portoSet(200))"
   ]
  },
  {
   "cell_type": "code",
   "execution_count": null,
   "metadata": {},
   "outputs": [
    {
     "name": "stdout",
     "output_type": "stream",
     "text": [
      "../data/chosen_data/porto/META-50.txt\n",
      "[[211.71875], [209.15625], [211.453125], [210.890625], [208.453125], [207.828125], [210.703125], [208.859375], [211.359375], [210.40625]]\n"
     ]
    }
   ],
   "source": [
    "# Takes a long time, more than five minutes for portoset-50\n",
    "measure_similarities(\"frechet_cy\", DATA_PORTO, portoSet(50))"
   ]
  },
  {
   "cell_type": "code",
   "execution_count": null,
   "metadata": {},
   "outputs": [],
   "source": [
    "# Something strange with this one -> Resulting in some strange error\n",
    "measure_similarities(\"frechet_py\", DATA_PORTO, portoSet(50))"
   ]
  }
 ],
 "metadata": {
  "kernelspec": {
   "display_name": "Python 3",
   "language": "python",
   "name": "python3"
  },
  "language_info": {
   "codemirror_mode": {
    "name": "ipython",
    "version": 3
   },
   "file_extension": ".py",
   "mimetype": "text/x-python",
   "name": "python",
   "nbconvert_exporter": "python",
   "pygments_lexer": "ipython3",
   "version": "3.12.1"
  },
  "orig_nbformat": 4,
  "vscode": {
   "interpreter": {
    "hash": "6a8cebea5680a70624bfb085291ac11ac025ad85fe214511868677846ba38b53"
   }
  }
 },
 "nbformat": 4,
 "nbformat_minor": 2
}
