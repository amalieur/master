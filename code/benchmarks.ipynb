{
 "cells": [
  {
   "attachments": {},
   "cell_type": "markdown",
   "metadata": {},
   "source": [
    "# Sheet for computing the benchmarks and true similarities for the project"
   ]
  },
  {
   "cell_type": "code",
   "execution_count": 1,
   "metadata": {},
   "outputs": [],
   "source": [
    "# Importing nescessary modules\n",
    "import os\n",
    "import re\n",
    "import shutil\n",
    "import numpy as np\n",
    "import pandas as pd\n",
    "\n",
    "\n",
    "from utils import metafile_handler as mfh\n",
    "from utils import file_handler as fh\n",
    "\n",
    "from benchmarks import dtw\n",
    "from benchmarks import frechet\n"
   ]
  },
  {
   "cell_type": "code",
   "execution_count": 2,
   "metadata": {},
   "outputs": [],
   "source": [
    "DATA_PORTO = \"../data/chosen_data/porto/\"\n",
    "DATA_ROME = \"../data/chosen_data/rome/\"\n",
    "SIM_OUT_FOLDER = \"../code/benchmarks/similarities/\"\n",
    "\n",
    "PORTO_FULL_SET = \"../data/chosen_data/porto/META-1000.txt\"\n",
    "ROME_FULL_SET = \"../data/chosen_data/rome/META-1000.txt\"\n",
    "\n",
    "TEST_SET_PORTO = \"../data/chosen_data/porto/META-1000.txt\"\n",
    "TEST_SET_ROME = \"../data/chosen_data/rome/META-1000.txt\"\n",
    "\n",
    "PORTO_DTW_FILE = \"porto-dtw.csv\"\n",
    "PORTO_FRECHET_FILE = \"porto-frechet.csv\"\n",
    "ROME_DTW_FILE = \"rome-dtw.csv\"\n",
    "ROME_FRECHET_FILE = \"rome-frechet.csv\"\n"
   ]
  },
  {
   "cell_type": "code",
   "execution_count": 3,
   "metadata": {},
   "outputs": [],
   "source": [
    "def deleteFile(file_name: str) -> None:\n",
    "    file_path = os.path.join(SIM_OUT_FOLDER, file_name)\n",
    "    try:\n",
    "        if os.path.isfile(file_path) or os.path.islink(file_path):\n",
    "            os.unlink(file_path)\n",
    "        elif os.path.isdir(file_path):\n",
    "            shutil.rmtree(file_path)\n",
    "    except Exception as e:\n",
    "        print(\"Failed to remove %s. Reason: %s\" % (file_path, e))"
   ]
  },
  {
   "attachments": {},
   "cell_type": "markdown",
   "metadata": {},
   "source": [
    "## DTW distance compuation\n",
    "\n",
    "Cells for generating and storing the similarities using dtw"
   ]
  },
  {
   "cell_type": "code",
   "execution_count": 4,
   "metadata": {},
   "outputs": [],
   "source": [
    "## Using Cython DTW, to speed things up\n",
    "\n",
    "def generate_dtw_similarities(data_folder: str, meta_file: str, file_name: str):\n",
    "    deleteFile(file_name)\n",
    "\n",
    "    files = mfh.read_meta_file(meta_file)\n",
    "    trajectories = fh.load_trajectory_files(files, data_folder)\n",
    "\n",
    "    df = dtw.cy_dtw(trajectories)\n",
    "    df.to_csv(os.path.join(SIM_OUT_FOLDER, file_name))\n",
    "\n",
    "\n",
    "def generate_frechet_similarities(data_folder: str, meta_file: str, file_name: str):\n",
    "    deleteFile(file_name)\n",
    "\n",
    "    files = mfh.read_meta_file(meta_file)\n",
    "    trajectories = fh.load_trajectory_files(files, data_folder)\n",
    "\n",
    "    df = frechet.cy_frechet(trajectories)\n",
    "    df.to_csv(os.path.join(SIM_OUT_FOLDER, file_name))\n",
    "\n",
    "\n",
    "def compute_parallell_dtw_similarities(data_folder: str, meta_file: str, file_name: str):\n",
    "    deleteFile(file_name)\n",
    "\n",
    "    files = mfh.read_meta_file(meta_file)\n",
    "    trajectories = fh.load_trajectory_files(files, data_folder)\n",
    "\n",
    "    df = dtw.cy_dtw_pool(trajectories)\n",
    "    df.to_csv(os.path.join(SIM_OUT_FOLDER, file_name))\n",
    "    \n"
   ]
  },
  {
   "cell_type": "code",
   "execution_count": null,
   "metadata": {},
   "outputs": [],
   "source": [
    "# DTW over PORTO\n",
    "generate_dtw_similarities(DATA_PORTO, TEST_SET_PORTO, PORTO_DTW_FILE)"
   ]
  },
  {
   "cell_type": "code",
   "execution_count": 39,
   "metadata": {},
   "outputs": [],
   "source": [
    "# DTW over ROME\n",
    "generate_dtw_similarities(DATA_ROME, TEST_SET_ROME, ROME_DTW_FILE)"
   ]
  },
  {
   "cell_type": "code",
   "execution_count": 40,
   "metadata": {},
   "outputs": [],
   "source": [
    "# Frechet over Porto\n",
    "generate_frechet_similarities(DATA_PORTO, TEST_SET_PORTO, PORTO_FRECHET_FILE)"
   ]
  },
  {
   "cell_type": "code",
   "execution_count": null,
   "metadata": {},
   "outputs": [],
   "source": [
    "# Frechet over rome\n",
    "generate_frechet_similarities(DATA_ROME, TEST_SET_ROME, ROME_FRECHET_FILE)"
   ]
  },
  {
   "cell_type": "code",
   "execution_count": 5,
   "metadata": {},
   "outputs": [],
   "source": [
    "# Test parallell Porto\n",
    "compute_parallell_dtw_similarities(DATA_PORTO, TEST_SET_PORTO, PORTO_DTW_FILE)\n"
   ]
  },
  {
   "cell_type": "code",
   "execution_count": 13,
   "metadata": {},
   "outputs": [],
   "source": [
    "# Test parallell Rome\n",
    "compute_parallell_dtw_similarities(DATA_ROME, TEST_SET_ROME, ROME_DTW_FILE)"
   ]
  },
  {
   "cell_type": "code",
   "execution_count": 17,
   "metadata": {},
   "outputs": [],
   "source": [
    "## Python DTW\n",
    "\n",
    "files = mfh.read_meta_file(TEST_SET_PORTO)\n",
    "trajectories = fh.load_trajectory_files(files, DATA_PORTO)\n",
    "\n",
    "#df = dtw.py_dtw(trajectories)\n",
    "\n"
   ]
  },
  {
   "attachments": {},
   "cell_type": "markdown",
   "metadata": {},
   "source": [
    "## Frechet distance computation"
   ]
  },
  {
   "cell_type": "code",
   "execution_count": null,
   "metadata": {},
   "outputs": [],
   "source": [
    "## Python frechet\n",
    "\n",
    "files = mfh.read_meta_file(TEST_SET)\n",
    "trajectories = fh.load_trajectory_files(files, DATA_PORTO)\n",
    "\n",
    "df = frechet.py_frechet(trajectories)\n"
   ]
  },
  {
   "cell_type": "code",
   "execution_count": null,
   "metadata": {},
   "outputs": [],
   "source": [
    "## Cython frechet \n",
    "\n",
    "files = mfh.read_meta_file(TEST_SET)\n",
    "trajectories = fh.load_trajectory_files(files, DATA_PORTO)\n",
    "\n",
    "df = frechet.cy_frechet(trajectories)"
   ]
  }
 ],
 "metadata": {
  "kernelspec": {
   "display_name": "Python 3",
   "language": "python",
   "name": "python3"
  },
  "language_info": {
   "codemirror_mode": {
    "name": "ipython",
    "version": 3
   },
   "file_extension": ".py",
   "mimetype": "text/x-python",
   "name": "python",
   "nbconvert_exporter": "python",
   "pygments_lexer": "ipython3",
   "version": "3.10.7"
  },
  "orig_nbformat": 4,
  "vscode": {
   "interpreter": {
    "hash": "6a8cebea5680a70624bfb085291ac11ac025ad85fe214511868677846ba38b53"
   }
  }
 },
 "nbformat": 4,
 "nbformat_minor": 2
}
