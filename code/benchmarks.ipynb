{
 "cells": [
  {
   "attachments": {},
   "cell_type": "markdown",
   "metadata": {},
   "source": [
    "# Sheet for computing the benchmarks and true similarities for the project"
   ]
  },
  {
   "cell_type": "code",
   "execution_count": 1,
   "metadata": {},
   "outputs": [],
   "source": [
    "# Importing nescessary modules\n",
    "import os\n",
    "import re\n",
    "import shutil\n",
    "import numpy as np\n",
    "import pandas as pd\n",
    "\n",
    "import global_variables\n",
    "\n",
    "from utils import metafile_handler as mfh\n",
    "from utils import file_handler as fh\n",
    "\n",
    "from benchmarks import dtw\n",
    "from benchmarks import frechet\n",
    "\n"
   ]
  },
  {
   "cell_type": "code",
   "execution_count": 2,
   "metadata": {},
   "outputs": [],
   "source": [
    "DATA_PORTO = f\"../data/chosen_data/{global_variables.CHOSEN_SUBSET_NAME}/\"\n",
    "SIM_OUT_FOLDER = \"../code/benchmarks/similarities/\"\n",
    "\n",
    "PORTO_FULL_SET = f\"../data/chosen_data/{global_variables.CHOSEN_SUBSET_NAME}/META.txt\"\n",
    "\n",
    "TEST_SET_PORTO = f\"../data/chosen_data/{global_variables.CHOSEN_SUBSET_NAME}/META.txt\"\n",
    "\n",
    "PORTO_DTW_FILE = \"porto-dtw.csv\"\n",
    "PORTO_FRECHET_FILE = \"porto-frechet.csv\"\n",
    "\n",
    "PORTO_DTW_FILE_TEST = \"porto-dtw-test.csv\"\n",
    "PORTO_FRECHET_FILE_TEST = \"porto-frechet-test.csv\""
   ]
  },
  {
   "cell_type": "code",
   "execution_count": 3,
   "metadata": {},
   "outputs": [],
   "source": [
    "def deleteFile(file_name: str) -> None:\n",
    "    file_path = os.path.join(SIM_OUT_FOLDER, file_name)\n",
    "    try:\n",
    "        if os.path.isfile(file_path) or os.path.islink(file_path):\n",
    "            os.unlink(file_path)\n",
    "        elif os.path.isdir(file_path):\n",
    "            shutil.rmtree(file_path)\n",
    "    except Exception as e:\n",
    "        print(\"Failed to remove %s. Reason: %s\" % (file_path, e))\n",
    "\n",
    "\n",
    "def portoSet(file_size: int) -> str:\n",
    "    return f\"../data/chosen_data/{global_variables.CHOSEN_SUBSET_NAME}/META.txt\""
   ]
  },
  {
   "attachments": {},
   "cell_type": "markdown",
   "metadata": {},
   "source": [
    "---"
   ]
  },
  {
   "attachments": {},
   "cell_type": "markdown",
   "metadata": {},
   "source": [
    "## DTW distance compuation\n",
    "\n",
    "Cells for generating and storing the similarities using dtw"
   ]
  },
  {
   "cell_type": "code",
   "execution_count": 4,
   "metadata": {},
   "outputs": [],
   "source": [
    "## Using Cython DTW, to speed things up\n",
    "\n",
    "def generate_dtw_similarities(data_folder: str, meta_file: str, file_name: str):\n",
    "    deleteFile(file_name)\n",
    "\n",
    "    files = mfh.read_meta_file(meta_file)\n",
    "    trajectories = fh.load_trajectory_files(files, data_folder)\n",
    "\n",
    "    df = dtw.cy_dtw(trajectories)\n",
    "    df.to_csv(os.path.join(SIM_OUT_FOLDER, file_name))\n",
    "\n",
    "\n",
    "def generate_parallell_dtw_similarities(data_folder: str, meta_file: str, file_name: str):\n",
    "    deleteFile(file_name)\n",
    "\n",
    "    files = mfh.read_meta_file(meta_file)\n",
    "    trajectories = fh.load_trajectory_files(files, data_folder)\n",
    "\n",
    "    df = dtw.cy_dtw_pool(trajectories)\n",
    "    df.to_csv(os.path.join(SIM_OUT_FOLDER, file_name))"
   ]
  },
  {
   "cell_type": "code",
   "execution_count": 5,
   "metadata": {},
   "outputs": [],
   "source": [
    "# DTW over PORTO\n",
    "generate_dtw_similarities(DATA_PORTO, TEST_SET_PORTO, PORTO_DTW_FILE)"
   ]
  },
  {
   "cell_type": "code",
   "execution_count": 6,
   "metadata": {},
   "outputs": [],
   "source": [
    "# Parallell Porto DTW\n",
    "generate_parallell_dtw_similarities(DATA_PORTO, PORTO_FULL_SET, PORTO_DTW_FILE)\n"
   ]
  },
  {
   "cell_type": "code",
   "execution_count": 7,
   "metadata": {},
   "outputs": [],
   "source": [
    "# TEST SET OVER PORTO DTW\n",
    "generate_parallell_dtw_similarities(DATA_PORTO, TEST_SET_PORTO, PORTO_DTW_FILE_TEST)"
   ]
  },
  {
   "attachments": {},
   "cell_type": "markdown",
   "metadata": {},
   "source": [
    "---"
   ]
  },
  {
   "attachments": {},
   "cell_type": "markdown",
   "metadata": {},
   "source": [
    "## Frechet distance computation\n",
    "\n",
    "Cells for generating and storing the similarities using frechet distance"
   ]
  },
  {
   "cell_type": "code",
   "execution_count": 8,
   "metadata": {},
   "outputs": [],
   "source": [
    "## Python frechet\n",
    "def generate_frechet_similarities(data_folder: str, meta_file: str, file_name: str):\n",
    "    deleteFile(file_name)\n",
    "\n",
    "    files = mfh.read_meta_file(meta_file)\n",
    "    trajectories = fh.load_trajectory_files(files, data_folder)\n",
    "\n",
    "    df = frechet.cy_frechet(trajectories)\n",
    "    df.to_csv(os.path.join(SIM_OUT_FOLDER, file_name))\n",
    "\n",
    "\n",
    "def compute_parallell_frechet_similarities(data_folder: str, meta_file: str, file_name: str):\n",
    "    deleteFile(file_name)\n",
    "    files = mfh.read_meta_file(meta_file)\n",
    "    trajectories = fh.load_trajectory_files(files, data_folder)\n",
    "\n",
    "    df = frechet.cy_frechet_pool(trajectories)\n",
    "    df.to_csv(os.path.join(SIM_OUT_FOLDER, file_name))"
   ]
  },
  {
   "cell_type": "code",
   "execution_count": 9,
   "metadata": {},
   "outputs": [],
   "source": [
    "# Frechet over Porto # SLOW METHOD // idun (1node, 6cores, 128GB): 3min\n",
    "generate_frechet_similarities(DATA_PORTO, TEST_SET_PORTO, PORTO_FRECHET_FILE)"
   ]
  },
  {
   "cell_type": "code",
   "execution_count": 10,
   "metadata": {},
   "outputs": [
    {
     "name": "stdout",
     "output_type": "stream",
     "text": [
      "Cy Pool Frehet: 0/1000\n",
      "Cy Pool Frehet: 1/1000\n",
      "Cy Pool Frehet: 2/1000\n",
      "Cy Pool Frehet: 3/1000\n",
      "Cy Pool Frehet: 4/1000\n",
      "Cy Pool Frehet: 5/1000\n",
      "Cy Pool Frehet: 6/1000\n",
      "Cy Pool Frehet: 7/1000\n",
      "Cy Pool Frehet: 8/1000\n",
      "Cy Pool Frehet: 9/1000\n",
      "Cy Pool Frehet: 10/1000\n",
      "Cy Pool Frehet: 11/1000\n",
      "Cy Pool Frehet: 12/1000\n",
      "Cy Pool Frehet: 13/1000\n",
      "Cy Pool Frehet: 14/1000\n",
      "Cy Pool Frehet: 15/1000\n",
      "Cy Pool Frehet: 16/1000\n",
      "Cy Pool Frehet: 17/1000\n",
      "Cy Pool Frehet: 18/1000\n",
      "Cy Pool Frehet: 19/1000\n",
      "Cy Pool Frehet: 20/1000\n",
      "Cy Pool Frehet: 21/1000\n",
      "Cy Pool Frehet: 22/1000\n",
      "Cy Pool Frehet: 23/1000\n",
      "Cy Pool Frehet: 24/1000\n",
      "Cy Pool Frehet: 25/1000\n",
      "Cy Pool Frehet: 26/1000\n",
      "Cy Pool Frehet: 27/1000\n",
      "Cy Pool Frehet: 28/1000\n",
      "Cy Pool Frehet: 29/1000\n",
      "Cy Pool Frehet: 30/1000\n",
      "Cy Pool Frehet: 31/1000\n",
      "Cy Pool Frehet: 32/1000\n",
      "Cy Pool Frehet: 33/1000\n",
      "Cy Pool Frehet: 34/1000\n",
      "Cy Pool Frehet: 35/1000\n",
      "Cy Pool Frehet: 36/1000\n",
      "Cy Pool Frehet: 37/1000\n",
      "Cy Pool Frehet: 38/1000\n",
      "Cy Pool Frehet: 39/1000\n",
      "Cy Pool Frehet: 40/1000\n",
      "Cy Pool Frehet: 41/1000\n",
      "Cy Pool Frehet: 42/1000\n",
      "Cy Pool Frehet: 43/1000\n",
      "Cy Pool Frehet: 44/1000\n",
      "Cy Pool Frehet: 45/1000\n",
      "Cy Pool Frehet: 46/1000\n",
      "Cy Pool Frehet: 47/1000\n",
      "Cy Pool Frehet: 48/1000\n",
      "Cy Pool Frehet: 49/1000\n",
      "Cy Pool Frehet: 50/1000\n",
      "Cy Pool Frehet: 51/1000\n",
      "Cy Pool Frehet: 52/1000\n",
      "Cy Pool Frehet: 53/1000\n",
      "Cy Pool Frehet: 54/1000\n",
      "Cy Pool Frehet: 55/1000\n",
      "Cy Pool Frehet: 56/1000\n",
      "Cy Pool Frehet: 57/1000\n",
      "Cy Pool Frehet: 58/1000\n",
      "Cy Pool Frehet: 59/1000\n",
      "Cy Pool Frehet: 60/1000\n",
      "Cy Pool Frehet: 61/1000\n",
      "Cy Pool Frehet: 62/1000\n",
      "Cy Pool Frehet: 63/1000\n",
      "Cy Pool Frehet: 64/1000\n",
      "Cy Pool Frehet: 65/1000\n",
      "Cy Pool Frehet: 66/1000\n",
      "Cy Pool Frehet: 67/1000\n",
      "Cy Pool Frehet: 68/1000\n",
      "Cy Pool Frehet: 69/1000\n",
      "Cy Pool Frehet: 70/1000\n",
      "Cy Pool Frehet: 71/1000\n",
      "Cy Pool Frehet: 72/1000\n",
      "Cy Pool Frehet: 73/1000\n",
      "Cy Pool Frehet: 74/1000\n",
      "Cy Pool Frehet: 75/1000\n",
      "Cy Pool Frehet: 76/1000\n",
      "Cy Pool Frehet: 77/1000\n",
      "Cy Pool Frehet: 78/1000\n",
      "Cy Pool Frehet: 79/1000\n",
      "Cy Pool Frehet: 80/1000\n",
      "Cy Pool Frehet: 81/1000\n",
      "Cy Pool Frehet: 82/1000\n",
      "Cy Pool Frehet: 83/1000\n",
      "Cy Pool Frehet: 84/1000\n",
      "Cy Pool Frehet: 85/1000\n",
      "Cy Pool Frehet: 86/1000\n",
      "Cy Pool Frehet: 87/1000\n",
      "Cy Pool Frehet: 88/1000\n",
      "Cy Pool Frehet: 89/1000\n",
      "Cy Pool Frehet: 90/1000\n",
      "Cy Pool Frehet: 91/1000\n",
      "Cy Pool Frehet: 92/1000\n",
      "Cy Pool Frehet: 93/1000\n",
      "Cy Pool Frehet: 94/1000\n",
      "Cy Pool Frehet: 95/1000\n",
      "Cy Pool Frehet: 96/1000\n",
      "Cy Pool Frehet: 97/1000\n",
      "Cy Pool Frehet: 98/1000\n",
      "Cy Pool Frehet: 99/1000\n"
     ]
    }
   ],
   "source": [
    "# Paralell Porto Frechet // Took 429 minutes // amalie: 357 // idun: \n",
    "compute_parallell_frechet_similarities(DATA_PORTO, portoSet(1000), PORTO_FRECHET_FILE)"
   ]
  },
  {
   "cell_type": "code",
   "execution_count": 11,
   "metadata": {},
   "outputs": [
    {
     "name": "stdout",
     "output_type": "stream",
     "text": [
      "Cy Pool Frehet: 0/1000\n",
      "Cy Pool Frehet: 1/1000\n",
      "Cy Pool Frehet: 2/1000\n",
      "Cy Pool Frehet: 3/1000\n",
      "Cy Pool Frehet: 4/1000\n",
      "Cy Pool Frehet: 5/1000\n",
      "Cy Pool Frehet: 6/1000\n",
      "Cy Pool Frehet: 7/1000\n",
      "Cy Pool Frehet: 8/1000\n",
      "Cy Pool Frehet: 9/1000\n",
      "Cy Pool Frehet: 10/1000\n",
      "Cy Pool Frehet: 11/1000\n",
      "Cy Pool Frehet: 12/1000\n",
      "Cy Pool Frehet: 13/1000\n",
      "Cy Pool Frehet: 14/1000\n",
      "Cy Pool Frehet: 15/1000\n",
      "Cy Pool Frehet: 16/1000\n",
      "Cy Pool Frehet: 17/1000\n",
      "Cy Pool Frehet: 18/1000\n",
      "Cy Pool Frehet: 19/1000\n",
      "Cy Pool Frehet: 20/1000\n",
      "Cy Pool Frehet: 21/1000\n",
      "Cy Pool Frehet: 22/1000\n",
      "Cy Pool Frehet: 23/1000\n",
      "Cy Pool Frehet: 24/1000\n",
      "Cy Pool Frehet: 25/1000\n",
      "Cy Pool Frehet: 26/1000\n",
      "Cy Pool Frehet: 27/1000\n",
      "Cy Pool Frehet: 28/1000\n",
      "Cy Pool Frehet: 29/1000\n",
      "Cy Pool Frehet: 30/1000\n",
      "Cy Pool Frehet: 31/1000\n",
      "Cy Pool Frehet: 32/1000\n",
      "Cy Pool Frehet: 33/1000\n",
      "Cy Pool Frehet: 34/1000\n",
      "Cy Pool Frehet: 35/1000\n",
      "Cy Pool Frehet: 36/1000\n",
      "Cy Pool Frehet: 37/1000\n",
      "Cy Pool Frehet: 38/1000\n",
      "Cy Pool Frehet: 39/1000\n",
      "Cy Pool Frehet: 40/1000\n",
      "Cy Pool Frehet: 41/1000\n",
      "Cy Pool Frehet: 42/1000\n",
      "Cy Pool Frehet: 43/1000\n",
      "Cy Pool Frehet: 44/1000\n",
      "Cy Pool Frehet: 45/1000\n",
      "Cy Pool Frehet: 46/1000\n",
      "Cy Pool Frehet: 47/1000\n",
      "Cy Pool Frehet: 48/1000\n",
      "Cy Pool Frehet: 49/1000\n",
      "Cy Pool Frehet: 50/1000\n",
      "Cy Pool Frehet: 51/1000\n",
      "Cy Pool Frehet: 52/1000\n",
      "Cy Pool Frehet: 53/1000\n",
      "Cy Pool Frehet: 54/1000\n",
      "Cy Pool Frehet: 55/1000\n",
      "Cy Pool Frehet: 56/1000\n",
      "Cy Pool Frehet: 57/1000\n",
      "Cy Pool Frehet: 58/1000\n",
      "Cy Pool Frehet: 59/1000\n",
      "Cy Pool Frehet: 60/1000\n",
      "Cy Pool Frehet: 61/1000\n",
      "Cy Pool Frehet: 62/1000\n",
      "Cy Pool Frehet: 63/1000\n",
      "Cy Pool Frehet: 64/1000\n",
      "Cy Pool Frehet: 65/1000\n",
      "Cy Pool Frehet: 66/1000\n",
      "Cy Pool Frehet: 67/1000\n",
      "Cy Pool Frehet: 68/1000\n",
      "Cy Pool Frehet: 69/1000\n",
      "Cy Pool Frehet: 70/1000\n",
      "Cy Pool Frehet: 71/1000\n",
      "Cy Pool Frehet: 72/1000\n",
      "Cy Pool Frehet: 73/1000\n",
      "Cy Pool Frehet: 74/1000\n",
      "Cy Pool Frehet: 75/1000\n",
      "Cy Pool Frehet: 76/1000\n",
      "Cy Pool Frehet: 77/1000\n",
      "Cy Pool Frehet: 78/1000\n",
      "Cy Pool Frehet: 79/1000\n",
      "Cy Pool Frehet: 80/1000\n",
      "Cy Pool Frehet: 81/1000\n",
      "Cy Pool Frehet: 82/1000\n",
      "Cy Pool Frehet: 83/1000\n",
      "Cy Pool Frehet: 84/1000\n",
      "Cy Pool Frehet: 85/1000\n",
      "Cy Pool Frehet: 86/1000\n",
      "Cy Pool Frehet: 87/1000\n",
      "Cy Pool Frehet: 88/1000\n",
      "Cy Pool Frehet: 89/1000\n",
      "Cy Pool Frehet: 90/1000\n",
      "Cy Pool Frehet: 91/1000\n",
      "Cy Pool Frehet: 92/1000\n",
      "Cy Pool Frehet: 93/1000\n",
      "Cy Pool Frehet: 94/1000\n",
      "Cy Pool Frehet: 95/1000\n",
      "Cy Pool Frehet: 96/1000\n",
      "Cy Pool Frehet: 97/1000\n",
      "Cy Pool Frehet: 98/1000\n",
      "Cy Pool Frehet: 99/1000\n"
     ]
    }
   ],
   "source": [
    "# TEST SET PORTO FRECHET\n",
    "compute_parallell_frechet_similarities(DATA_PORTO, TEST_SET_PORTO, PORTO_FRECHET_FILE_TEST)\n"
   ]
  },
  {
   "attachments": {},
   "cell_type": "markdown",
   "metadata": {},
   "source": [
    "---"
   ]
  },
  {
   "attachments": {},
   "cell_type": "markdown",
   "metadata": {},
   "source": [
    "## Time efficiency measuring\n",
    "\n",
    "Cells below are used for computing the time efficiency of DTW and Frechet"
   ]
  },
  {
   "cell_type": "code",
   "execution_count": 12,
   "metadata": {},
   "outputs": [],
   "source": [
    "from multiprocessing import Pool"
   ]
  },
  {
   "cell_type": "code",
   "execution_count": 13,
   "metadata": {},
   "outputs": [],
   "source": [
    "\n",
    "# Using Python, for measuring computation time fairly against the hash computations\n",
    "\n",
    "sim = {\n",
    "    \"dtw_py\" : dtw.measure_py_dtw,\n",
    "    \"frechet_py\" : frechet.measure_py_frechet,\n",
    "    \"dtw_cy\" : dtw.measure_cy_dtw,\n",
    "    \"frechet_cy\" : frechet.measure_cy_frechet\n",
    "}\n",
    "\n",
    "def measure_similarities(measure: str, data_folder: str, meta_file: str, parallell_jobs: int = 10):\n",
    "    \"\"\" Common method for measuring the efficiency of the similarity algorithms \"\"\"\n",
    "    files = mfh.read_meta_file(meta_file)\n",
    "    trajectories = fh.load_trajectory_files(files, data_folder)\n",
    "\n",
    "    with Pool() as pool:\n",
    "        result = pool.map(sim[measure], [[trajectories, int(1), int(1)] for _ in range(10)])\n",
    "    return result\n"
   ]
  },
  {
   "cell_type": "code",
   "execution_count": 14,
   "metadata": {},
   "outputs": [
    {
     "data": {
      "text/plain": [
       "[[42.227914704999996],\n",
       " [42.522271311999994],\n",
       " [42.483925167],\n",
       " [42.639473022999994],\n",
       " [42.679791492],\n",
       " [42.494469784],\n",
       " [42.53998628],\n",
       " [42.278257016],\n",
       " [42.234947197],\n",
       " [42.478467027]]"
      ]
     },
     "execution_count": 14,
     "metadata": {},
     "output_type": "execute_result"
    }
   ],
   "source": [
    "# test\n",
    "\n",
    "measure_similarities(\"dtw_py\", DATA_PORTO, portoSet(50))\n"
   ]
  },
  {
   "cell_type": "code",
   "execution_count": 15,
   "metadata": {},
   "outputs": [
    {
     "data": {
      "text/plain": [
       "[[0.8791096159999999],\n",
       " [0.8638929510000001],\n",
       " [0.862765316],\n",
       " [0.8630298249999999],\n",
       " [0.8625263989999999],\n",
       " [0.86246597],\n",
       " [0.863142078],\n",
       " [0.863656054],\n",
       " [0.864058023],\n",
       " [0.863349033]]"
      ]
     },
     "execution_count": 15,
     "metadata": {},
     "output_type": "execute_result"
    }
   ],
   "source": [
    "measure_similarities(\"dtw_cy\", DATA_PORTO, portoSet(200))"
   ]
  },
  {
   "cell_type": "code",
   "execution_count": 16,
   "metadata": {},
   "outputs": [
    {
     "data": {
      "text/plain": [
       "[[476.51264250099996],\n",
       " [477.633395681],\n",
       " [478.262947531],\n",
       " [476.82783837700003],\n",
       " [476.15145594700004],\n",
       " [477.576136606],\n",
       " [475.85093124300005],\n",
       " [476.54567448],\n",
       " [477.667118495],\n",
       " [477.670325414]]"
      ]
     },
     "execution_count": 16,
     "metadata": {},
     "output_type": "execute_result"
    }
   ],
   "source": [
    "# Takes a long time, more than five minutes for portoset-50\n",
    "measure_similarities(\"frechet_cy\", DATA_PORTO, portoSet(50))"
   ]
  },
  {
   "cell_type": "code",
   "execution_count": 17,
   "metadata": {},
   "outputs": [
    {
     "ename": "TypeError",
     "evalue": "list indices must be integers or slices, not float",
     "output_type": "error",
     "traceback": [
      "\u001b[0;31m---------------------------------------------------------------------------\u001b[0m",
      "\u001b[0;31mRemoteTraceback\u001b[0m                           Traceback (most recent call last)",
      "\u001b[0;31mRemoteTraceback\u001b[0m: \n\"\"\"\nTraceback (most recent call last):\n  File \"/cluster/home/andrehva/.conda/envs/masteroppgave/lib/python3.12/multiprocessing/pool.py\", line 125, in worker\n    result = (True, func(*args, **kwds))\n                    ^^^^^^^^^^^^^^^^^^^\n  File \"/cluster/home/andrehva/.conda/envs/masteroppgave/lib/python3.12/multiprocessing/pool.py\", line 48, in mapstar\n    return list(map(*args))\n           ^^^^^^^^^^^^^^^^\n  File \"/cluster/home/andrehva/master/code/benchmarks/frechet.py\", line 53, in measure_py_frechet\n    measures = ti.repeat(lambda: py_frechet(trajectories), number=number, repeat=repeat, timer=time.process_time)\n               ^^^^^^^^^^^^^^^^^^^^^^^^^^^^^^^^^^^^^^^^^^^^^^^^^^^^^^^^^^^^^^^^^^^^^^^^^^^^^^^^^^^^^^^^^^^^^^^^^^\n  File \"/cluster/home/andrehva/.conda/envs/masteroppgave/lib/python3.12/timeit.py\", line 243, in repeat\n    return Timer(stmt, setup, timer, globals).repeat(repeat, number)\n           ^^^^^^^^^^^^^^^^^^^^^^^^^^^^^^^^^^^^^^^^^^^^^^^^^^^^^^^^^\n  File \"/cluster/home/andrehva/.conda/envs/masteroppgave/lib/python3.12/timeit.py\", line 208, in repeat\n    t = self.timeit(number)\n        ^^^^^^^^^^^^^^^^^^^\n  File \"/cluster/home/andrehva/.conda/envs/masteroppgave/lib/python3.12/timeit.py\", line 180, in timeit\n    timing = self.inner(it, self.timer)\n             ^^^^^^^^^^^^^^^^^^^^^^^^^^\n  File \"<timeit-src>\", line 6, in inner\n  File \"/cluster/home/andrehva/master/code/benchmarks/frechet.py\", line 53, in <lambda>\n    measures = ti.repeat(lambda: py_frechet(trajectories), number=number, repeat=repeat, timer=time.process_time)\n                                 ^^^^^^^^^^^^^^^^^^^^^^^^\n  File \"/cluster/home/andrehva/master/code/benchmarks/frechet.py\", line 37, in py_frechet\n    frechet = p_frechet(X,Y)\n              ^^^^^^^^^^^^^^\n  File \"/cluster/home/andrehva/.conda/envs/masteroppgave/lib/python3.12/site-packages/traj_dist/pydist/frechet.py\", line 255, in frechet\n    eps = cc[m_i]\n          ~~^^^^^\nTypeError: list indices must be integers or slices, not float\n\"\"\"",
      "\nThe above exception was the direct cause of the following exception:\n",
      "\u001b[0;31mTypeError\u001b[0m                                 Traceback (most recent call last)",
      "Cell \u001b[0;32mIn[17], line 2\u001b[0m\n\u001b[1;32m      1\u001b[0m \u001b[39m# Something strange with this one -> Resulting in some strange error\u001b[39;00m\n\u001b[0;32m----> 2\u001b[0m measure_similarities(\u001b[39m\"\u001b[39m\u001b[39mfrechet_py\u001b[39m\u001b[39m\"\u001b[39m, DATA_PORTO, portoSet(\u001b[39m50\u001b[39m))\n",
      "Cell \u001b[0;32mIn[13], line 16\u001b[0m, in \u001b[0;36mmeasure_similarities\u001b[0;34m(measure, data_folder, meta_file, parallell_jobs)\u001b[0m\n\u001b[1;32m     13\u001b[0m trajectories \u001b[39m=\u001b[39m fh\u001b[39m.\u001b[39mload_trajectory_files(files, data_folder)\n\u001b[1;32m     15\u001b[0m \u001b[39mwith\u001b[39;00m Pool() \u001b[39mas\u001b[39;00m pool:\n\u001b[0;32m---> 16\u001b[0m     result \u001b[39m=\u001b[39m pool\u001b[39m.\u001b[39mmap(sim[measure], [[trajectories, \u001b[39mint\u001b[39m(\u001b[39m1\u001b[39m), \u001b[39mint\u001b[39m(\u001b[39m1\u001b[39m)] \u001b[39mfor\u001b[39;00m _ \u001b[39min\u001b[39;00m \u001b[39mrange\u001b[39m(\u001b[39m10\u001b[39m)])\n\u001b[1;32m     17\u001b[0m \u001b[39mreturn\u001b[39;00m result\n",
      "File \u001b[0;32m~/.conda/envs/masteroppgave/lib/python3.12/multiprocessing/pool.py:367\u001b[0m, in \u001b[0;36mPool.map\u001b[0;34m(self, func, iterable, chunksize)\u001b[0m\n\u001b[1;32m    362\u001b[0m \u001b[39mdef\u001b[39;00m \u001b[39mmap\u001b[39m(\u001b[39mself\u001b[39m, func, iterable, chunksize\u001b[39m=\u001b[39m\u001b[39mNone\u001b[39;00m):\n\u001b[1;32m    363\u001b[0m \u001b[39m    \u001b[39m\u001b[39m'''\u001b[39;00m\n\u001b[1;32m    364\u001b[0m \u001b[39m    Apply `func` to each element in `iterable`, collecting the results\u001b[39;00m\n\u001b[1;32m    365\u001b[0m \u001b[39m    in a list that is returned.\u001b[39;00m\n\u001b[1;32m    366\u001b[0m \u001b[39m    '''\u001b[39;00m\n\u001b[0;32m--> 367\u001b[0m     \u001b[39mreturn\u001b[39;00m \u001b[39mself\u001b[39m\u001b[39m.\u001b[39m_map_async(func, iterable, mapstar, chunksize)\u001b[39m.\u001b[39mget()\n",
      "File \u001b[0;32m~/.conda/envs/masteroppgave/lib/python3.12/multiprocessing/pool.py:774\u001b[0m, in \u001b[0;36mApplyResult.get\u001b[0;34m(self, timeout)\u001b[0m\n\u001b[1;32m    772\u001b[0m     \u001b[39mreturn\u001b[39;00m \u001b[39mself\u001b[39m\u001b[39m.\u001b[39m_value\n\u001b[1;32m    773\u001b[0m \u001b[39melse\u001b[39;00m:\n\u001b[0;32m--> 774\u001b[0m     \u001b[39mraise\u001b[39;00m \u001b[39mself\u001b[39m\u001b[39m.\u001b[39m_value\n",
      "\u001b[0;31mTypeError\u001b[0m: list indices must be integers or slices, not float"
     ]
    }
   ],
   "source": [
    "# Something strange with this one -> Resulting in some strange error\n",
    "measure_similarities(\"frechet_py\", DATA_PORTO, portoSet(50))"
   ]
  }
 ],
 "metadata": {
  "kernelspec": {
   "display_name": "Python 3",
   "language": "python",
   "name": "python3"
  },
  "language_info": {
   "codemirror_mode": {
    "name": "ipython",
    "version": 3
   },
   "file_extension": ".py",
   "mimetype": "text/x-python",
   "name": "python",
   "nbconvert_exporter": "python",
   "pygments_lexer": "ipython3",
   "version": "3.12.1"
  },
  "orig_nbformat": 4,
  "vscode": {
   "interpreter": {
    "hash": "6a8cebea5680a70624bfb085291ac11ac025ad85fe214511868677846ba38b53"
   }
  }
 },
 "nbformat": 4,
 "nbformat_minor": 2
}
