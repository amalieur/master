{
 "cells": [
  {
   "attachments": {},
   "cell_type": "markdown",
   "metadata": {},
   "source": [
    "# Sheet for computing the benchmarks and true similarities for the project"
   ]
  },
  {
   "cell_type": "code",
   "execution_count": 21,
   "metadata": {},
   "outputs": [],
   "source": [
    "# Importing nescessary modules\n",
    "import os\n",
    "import re\n",
    "import shutil\n",
    "import numpy as np\n",
    "import pandas as pd\n",
    "\n",
    "\n",
    "from utils import metafile_handler as mfh\n",
    "from utils import file_handler as fh\n",
    "\n",
    "from benchmarks import dtw\n",
    "from benchmarks import frechet\n"
   ]
  },
  {
   "cell_type": "code",
   "execution_count": 22,
   "metadata": {},
   "outputs": [],
   "source": [
    "DATA_PORTO = \"../data/chosen_data/porto/\"\n",
    "DATA_ROME = \"../data/chosen_data/rome/\"\n",
    "SIM_OUT_FOLDER = \"../code/benchmarks/similarities/\"\n",
    "\n",
    "PORTO_FULL_SET = \"../data/chosen_data/porto/META-1000.txt\"\n",
    "ROME_FULL_SET = \"../data/chosen_data/rome/META-1000.txt\"\n",
    "\n",
    "TEST_SET_PORTO = \"../data/chosen_data/porto/META-50.txt\"\n",
    "TEST_SET_ROME = \"../data/chosen_data/rome/META-50.txt\"\n",
    "\n",
    "PORTO_DTW_FILE = \"porto-dtw.csv\"\n",
    "PORTO_FRECHET_FILE = \"porto-frechet.csv\"\n",
    "ROME_DTW_FILE = \"rome-dtw.csv\"\n",
    "ROME_FRECHET_FILE = \"rome-frechet.csv\"\n",
    "\n",
    "PORTO_DTW_FILE_TEST = \"porto-dtw-test.csv\"\n",
    "PORTO_FRECHET_FILE_TEST = \"porto-frechet-test.csv\"\n",
    "ROME_DTW_FILE_TEST = \"rome-dtw-test.csv\"\n",
    "ROME_FRECHET_FILE_TEST = \"rome-frechet-test.csv\"\n",
    "\n"
   ]
  },
  {
   "cell_type": "code",
   "execution_count": 23,
   "metadata": {},
   "outputs": [],
   "source": [
    "def deleteFile(file_name: str) -> None:\n",
    "    file_path = os.path.join(SIM_OUT_FOLDER, file_name)\n",
    "    try:\n",
    "        if os.path.isfile(file_path) or os.path.islink(file_path):\n",
    "            os.unlink(file_path)\n",
    "        elif os.path.isdir(file_path):\n",
    "            shutil.rmtree(file_path)\n",
    "    except Exception as e:\n",
    "        print(\"Failed to remove %s. Reason: %s\" % (file_path, e))\n",
    "\n",
    "\n",
    "def portoSet(file_size: int) -> str:\n",
    "    return f\"../data/chosen_data/porto/META-{file_size}.txt\"\n",
    "\n",
    "\n",
    "def romeSet(file_size: int) -> str:\n",
    "    return f\"../data/chosen_data/rome/META-{file_size}.txt\""
   ]
  },
  {
   "attachments": {},
   "cell_type": "markdown",
   "metadata": {},
   "source": [
    "---"
   ]
  },
  {
   "attachments": {},
   "cell_type": "markdown",
   "metadata": {},
   "source": [
    "## DTW distance compuation\n",
    "\n",
    "Cells for generating and storing the similarities using dtw"
   ]
  },
  {
   "cell_type": "code",
   "execution_count": 3,
   "metadata": {},
   "outputs": [],
   "source": [
    "## Using Cython DTW, to speed things up\n",
    "\n",
    "def generate_dtw_similarities(data_folder: str, meta_file: str, file_name: str):\n",
    "    deleteFile(file_name)\n",
    "\n",
    "    files = mfh.read_meta_file(meta_file)\n",
    "    trajectories = fh.load_trajectory_files(files, data_folder)\n",
    "\n",
    "    df = dtw.cy_dtw(trajectories)\n",
    "    df.to_csv(os.path.join(SIM_OUT_FOLDER, file_name))\n",
    "\n",
    "\n",
    "def generate_parallell_dtw_similarities(data_folder: str, meta_file: str, file_name: str):\n",
    "    deleteFile(file_name)\n",
    "\n",
    "    files = mfh.read_meta_file(meta_file)\n",
    "    trajectories = fh.load_trajectory_files(files, data_folder)\n",
    "\n",
    "    df = dtw.cy_dtw_pool(trajectories)\n",
    "    df.to_csv(os.path.join(SIM_OUT_FOLDER, file_name))"
   ]
  },
  {
   "cell_type": "code",
   "execution_count": 17,
   "metadata": {},
   "outputs": [],
   "source": [
    "# DTW over PORTO\n",
    "# generate_dtw_similarities(DATA_PORTO, TEST_SET_PORTO, PORTO_DTW_FILE)"
   ]
  },
  {
   "cell_type": "code",
   "execution_count": 18,
   "metadata": {},
   "outputs": [],
   "source": [
    "# DTW over ROME\n",
    "# generate_dtw_similarities(DATA_ROME, TEST_SET_ROME, ROME_DTW_FILE)"
   ]
  },
  {
   "cell_type": "code",
   "execution_count": 5,
   "metadata": {},
   "outputs": [],
   "source": [
    "# Parallell Porto DTW\n",
    "generate_parallell_dtw_similarities(DATA_PORTO, PORTO_FULL_SET, PORTO_DTW_FILE)\n"
   ]
  },
  {
   "cell_type": "code",
   "execution_count": 6,
   "metadata": {},
   "outputs": [],
   "source": [
    "# parallell Rome DTW\n",
    "generate_parallell_dtw_similarities(DATA_ROME, ROME_FULL_SET, ROME_DTW_FILE)"
   ]
  },
  {
   "cell_type": "code",
   "execution_count": 6,
   "metadata": {},
   "outputs": [],
   "source": [
    "# TEST SET OVER PORTO and ROME DTW\n",
    "generate_parallell_dtw_similarities(DATA_PORTO, TEST_SET_PORTO, PORTO_DTW_FILE_TEST)\n",
    "generate_parallell_dtw_similarities(DATA_ROME, TEST_SET_ROME, ROME_DTW_FILE_TEST)"
   ]
  },
  {
   "attachments": {},
   "cell_type": "markdown",
   "metadata": {},
   "source": [
    "---"
   ]
  },
  {
   "attachments": {},
   "cell_type": "markdown",
   "metadata": {},
   "source": [
    "## Frechet distance computation\n",
    "\n",
    "Cells for generating and storing the similarities using frechet distance"
   ]
  },
  {
   "cell_type": "code",
   "execution_count": 4,
   "metadata": {},
   "outputs": [],
   "source": [
    "## Python frechet\n",
    "def generate_frechet_similarities(data_folder: str, meta_file: str, file_name: str):\n",
    "    deleteFile(file_name)\n",
    "\n",
    "    files = mfh.read_meta_file(meta_file)\n",
    "    trajectories = fh.load_trajectory_files(files, data_folder)\n",
    "\n",
    "    df = frechet.cy_frechet(trajectories)\n",
    "    df.to_csv(os.path.join(SIM_OUT_FOLDER, file_name))\n",
    "\n",
    "\n",
    "def compute_parallell_frechet_similarities(data_folder: str, meta_file: str, file_name: str):\n",
    "    deleteFile(file_name)\n",
    "    files = mfh.read_meta_file(meta_file)\n",
    "    trajectories = fh.load_trajectory_files(files, data_folder)\n",
    "\n",
    "    df = frechet.cy_frechet_pool(trajectories)\n",
    "    df.to_csv(os.path.join(SIM_OUT_FOLDER, file_name))"
   ]
  },
  {
   "cell_type": "code",
   "execution_count": null,
   "metadata": {},
   "outputs": [],
   "source": [
    "# Frechet over Porto # SLOW METHOD\n",
    "generate_frechet_similarities(DATA_PORTO, TEST_SET_PORTO, PORTO_FRECHET_FILE)"
   ]
  },
  {
   "cell_type": "code",
   "execution_count": null,
   "metadata": {},
   "outputs": [],
   "source": [
    "# Frechet over rome # SLOW METHOD\n",
    "generate_frechet_similarities(DATA_ROME, TEST_SET_ROME, ROME_FRECHET_FILE)"
   ]
  },
  {
   "cell_type": "code",
   "execution_count": null,
   "metadata": {},
   "outputs": [],
   "source": [
    "# Paralell Porto Frechet // Took 429 minutes\n",
    "compute_parallell_frechet_similarities(DATA_PORTO, portoSet(1000), PORTO_FRECHET_FILE)"
   ]
  },
  {
   "cell_type": "code",
   "execution_count": null,
   "metadata": {},
   "outputs": [],
   "source": [
    "# Parallell Rome Frechet // Took 635 minutes\n",
    "compute_parallell_frechet_similarities(DATA_ROME, romeSet(1000), ROME_FRECHET_FILE)"
   ]
  },
  {
   "cell_type": "code",
   "execution_count": 8,
   "metadata": {},
   "outputs": [],
   "source": [
    "# TEST SET PORTO FRECHET\n",
    "compute_parallell_frechet_similarities(DATA_PORTO, TEST_SET_PORTO, PORTO_FRECHET_FILE_TEST)\n",
    "compute_parallell_frechet_similarities(DATA_ROME, TEST_SET_ROME, ROME_FRECHET_FILE_TEST)\n"
   ]
  },
  {
   "attachments": {},
   "cell_type": "markdown",
   "metadata": {},
   "source": [
    "---"
   ]
  },
  {
   "attachments": {},
   "cell_type": "markdown",
   "metadata": {},
   "source": [
    "## Time efficiency measuring\n",
    "\n",
    "Cells below are used for computing the time efficiency of DTW and Frechet"
   ]
  },
  {
   "cell_type": "code",
   "execution_count": 25,
   "metadata": {},
   "outputs": [],
   "source": [
    "from multiprocessing import Pool"
   ]
  },
  {
   "cell_type": "code",
   "execution_count": 26,
   "metadata": {},
   "outputs": [],
   "source": [
    "\n",
    "# Using Python, for measuring computation time fairly against the hash computations\n",
    "\n",
    "sim = {\n",
    "    \"dtw_py\" : dtw.measure_py_dtw,\n",
    "    \"frechet_py\" : frechet.measure_py_frechet,\n",
    "    \"dtw_cy\" : dtw.measure_cy_dtw,\n",
    "    \"frechet_cy\" : frechet.measure_cy_frechet\n",
    "}\n",
    "\n",
    "def measure_similarities(measure: str, data_folder: str, meta_file: str, parallell_jobs: int = 10):\n",
    "    \"\"\" Common method for measuring the efficiency of the similarity algorithms \"\"\"\n",
    "    files = mfh.read_meta_file(meta_file)\n",
    "    trajectories = fh.load_trajectory_files(files, data_folder)\n",
    "\n",
    "    with Pool() as pool:\n",
    "        result = pool.map(sim[measure], [[trajectories, 1, 1] for _ in range(10)])\n",
    "    return result\n"
   ]
  },
  {
   "cell_type": "code",
   "execution_count": null,
   "metadata": {},
   "outputs": [
    {
     "name": "stdout",
     "output_type": "stream",
     "text": [
      "[[17.15625], [17.5], [17.953125], [17.671875], [17.265625], [17.390625], [18.28125], [17.90625], [18.328125], [17.34375]]\n"
     ]
    }
   ],
   "source": [
    "# test\n",
    "\n",
    "measure_similarities(\"dtw_py\", DATA_PORTO, portoSet(50))\n"
   ]
  },
  {
   "cell_type": "code",
   "execution_count": null,
   "metadata": {},
   "outputs": [
    {
     "name": "stdout",
     "output_type": "stream",
     "text": [
      "[[6.109375], [6.21875], [6.4375], [6.484375], [6.078125], [5.765625], [6.328125], [6.609375], [5.84375], [5.703125]]\n"
     ]
    }
   ],
   "source": [
    "measure_similarities(\"dtw_cy\", DATA_PORTO, portoSet(200))"
   ]
  },
  {
   "cell_type": "code",
   "execution_count": null,
   "metadata": {},
   "outputs": [
    {
     "name": "stdout",
     "output_type": "stream",
     "text": [
      "../data/chosen_data/porto/META-50.txt\n",
      "[[211.71875], [209.15625], [211.453125], [210.890625], [208.453125], [207.828125], [210.703125], [208.859375], [211.359375], [210.40625]]\n"
     ]
    }
   ],
   "source": [
    "# Takes a long time, more than five minutes for portoset-50\n",
    "measure_similarities(\"frechet_cy\", DATA_PORTO, portoSet(50))"
   ]
  },
  {
   "cell_type": "code",
   "execution_count": null,
   "metadata": {},
   "outputs": [],
   "source": [
    "# Something strange with this one -> Resulting in some strange error\n",
    "measure_similarities(\"frechet_py\", DATA_PORTO, portoSet(50))"
   ]
  },
  {
   "cell_type": "code",
   "execution_count": 27,
   "metadata": {},
   "outputs": [
    {
     "name": "stdout",
     "output_type": "stream",
     "text": [
      "Computing size 500\r"
     ]
    },
    {
     "data": {
      "text/html": [
       "<div>\n",
       "<style scoped>\n",
       "    .dataframe tbody tr th:only-of-type {\n",
       "        vertical-align: middle;\n",
       "    }\n",
       "\n",
       "    .dataframe tbody tr th {\n",
       "        vertical-align: top;\n",
       "    }\n",
       "\n",
       "    .dataframe thead th {\n",
       "        text-align: right;\n",
       "    }\n",
       "</style>\n",
       "<table border=\"1\" class=\"dataframe\">\n",
       "  <thead>\n",
       "    <tr style=\"text-align: right;\">\n",
       "      <th></th>\n",
       "      <th>500</th>\n",
       "    </tr>\n",
       "  </thead>\n",
       "  <tbody>\n",
       "    <tr>\n",
       "      <th>run_1</th>\n",
       "      <td>5859.484375</td>\n",
       "    </tr>\n",
       "    <tr>\n",
       "      <th>run_2</th>\n",
       "      <td>5837.281250</td>\n",
       "    </tr>\n",
       "    <tr>\n",
       "      <th>run_3</th>\n",
       "      <td>5836.828125</td>\n",
       "    </tr>\n",
       "    <tr>\n",
       "      <th>run_4</th>\n",
       "      <td>5850.578125</td>\n",
       "    </tr>\n",
       "    <tr>\n",
       "      <th>run_5</th>\n",
       "      <td>5833.421875</td>\n",
       "    </tr>\n",
       "    <tr>\n",
       "      <th>run_6</th>\n",
       "      <td>5841.531250</td>\n",
       "    </tr>\n",
       "    <tr>\n",
       "      <th>run_7</th>\n",
       "      <td>5857.796875</td>\n",
       "    </tr>\n",
       "    <tr>\n",
       "      <th>run_8</th>\n",
       "      <td>5819.328125</td>\n",
       "    </tr>\n",
       "    <tr>\n",
       "      <th>run_9</th>\n",
       "      <td>5842.859375</td>\n",
       "    </tr>\n",
       "    <tr>\n",
       "      <th>run_10</th>\n",
       "      <td>5835.437500</td>\n",
       "    </tr>\n",
       "  </tbody>\n",
       "</table>\n",
       "</div>"
      ],
      "text/plain": [
       "                500\n",
       "run_1   5859.484375\n",
       "run_2   5837.281250\n",
       "run_3   5836.828125\n",
       "run_4   5850.578125\n",
       "run_5   5833.421875\n",
       "run_6   5841.531250\n",
       "run_7   5857.796875\n",
       "run_8   5819.328125\n",
       "run_9   5842.859375\n",
       "run_10  5835.437500"
      ]
     },
     "execution_count": 27,
     "metadata": {},
     "output_type": "execute_result"
    }
   ],
   "source": [
    "# Measuring the computation times of true similarities\n",
    "\n",
    "runs = 10\n",
    "data_sets = range(500,501,100)\n",
    "output_folder = \"../code/experiments/timing/\"\n",
    "file_name = \"similarity_runtimes_true_dtw_rome_500.csv\"\n",
    "\n",
    "df = pd.DataFrame( index=[f\"run_{x+1}\" for x in range(runs)], columns=[x for x in data_sets])\n",
    "\n",
    "for size in data_sets:\n",
    "    print(f\"Computing size {size}\", end=\"\\r\")\n",
    "    execution_times = measure_similarities(\"dtw_py\", DATA_ROME, romeSet(size), parallell_jobs=runs)\n",
    "    df[size] = [element[0] for element in execution_times]\n",
    "\n",
    "df.to_csv(os.path.join(output_folder, file_name))\n",
    "df"
   ]
  },
  {
   "cell_type": "code",
   "execution_count": 28,
   "metadata": {},
   "outputs": [
    {
     "data": {
      "text/plain": [
       "20"
      ]
     },
     "execution_count": 28,
     "metadata": {},
     "output_type": "execute_result"
    }
   ],
   "source": [
    "of = pd.read_csv(\"C:\\\\Users\\\\bafla\\\\Desktop\\\\Projects\\\\master\\\\code\\\\experiments\\\\timing\\\\similarity_runtimes_true_dtw_rome.csv\", index_col=0)\n",
    "f1 = pd.read_csv(\"C:\\\\Users\\\\bafla\\\\Desktop\\\\Projects\\\\master\\\\code\\\\experiments\\\\timing\\\\similarity_runtimes_true_dtw_rome_500.csv\", index_col=0)\n",
    "\n",
    "of[\"500\"] = f1[\"500\"]\n",
    "#of[\"700\"] = f1[\"700\"]\n",
    "\n",
    "of.to_csv(\"C:\\\\Users\\\\bafla\\\\Desktop\\\\Projects\\\\master\\\\code\\\\experiments\\\\timing\\\\similarity_runtimes_true_dtw_rome.csv\")\n",
    "20\n"
   ]
  }
 ],
 "metadata": {
  "kernelspec": {
   "display_name": "Python 3",
   "language": "python",
   "name": "python3"
  },
  "language_info": {
   "codemirror_mode": {
    "name": "ipython",
    "version": 3
   },
   "file_extension": ".py",
   "mimetype": "text/x-python",
   "name": "python",
   "nbconvert_exporter": "python",
   "pygments_lexer": "ipython3",
   "version": "3.10.7"
  },
  "orig_nbformat": 4,
  "vscode": {
   "interpreter": {
    "hash": "6a8cebea5680a70624bfb085291ac11ac025ad85fe214511868677846ba38b53"
   }
  }
 },
 "nbformat": 4,
 "nbformat_minor": 2
}
