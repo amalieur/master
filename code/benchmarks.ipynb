{
 "cells": [
  {
   "attachments": {},
   "cell_type": "markdown",
   "metadata": {},
   "source": [
    "# Sheet for computing the benchmarks and true similarities for the project"
   ]
  },
  {
   "cell_type": "code",
   "execution_count": 1,
   "metadata": {},
   "outputs": [],
   "source": [
    "# Importing nescessary modules\n",
    "import os\n",
    "import re\n",
    "import shutil\n",
    "import numpy as np\n",
    "import pandas as pd\n",
    "\n",
    "\n",
    "from utils import metafile_handler as mfh\n",
    "from utils import file_handler as fh\n",
    "\n",
    "from benchmarks import dtw\n",
    "from benchmarks import frechet\n"
   ]
  },
  {
   "cell_type": "code",
   "execution_count": 11,
   "metadata": {},
   "outputs": [],
   "source": [
    "DATA_PORTO = \"../data/chosen_data/porto/\"\n",
    "DATA_ROME = \"../data/chosen_data/rome/\"\n",
    "SIM_OUT_FOLDER = \"../code/benchmarks/similarities/\"\n",
    "\n",
    "PORTO_FULL_SET = \"../data/chosen_data/porto/META-1000.txt\"\n",
    "ROME_FULL_SET = \"../data/chosen_data/rome/META-1000.txt\"\n",
    "\n",
    "TEST_SET_PORTO = \"../data/chosen_data/porto/META-1000.txt\"\n",
    "TEST_SET_ROME = \"../data/chosen_data/rome/META-1000.txt\"\n",
    "\n",
    "PORTO_DTW_FILE = \"porto-dtw.csv\"\n",
    "PORTO_FRECHET_FILE = \"porto-frechet.csv\"\n",
    "ROME_DTW_FILE = \"rome-dtw.csv\"\n",
    "ROME_FRECHET_FILE = \"rome-frechet.csv\"\n"
   ]
  },
  {
   "cell_type": "code",
   "execution_count": 3,
   "metadata": {},
   "outputs": [],
   "source": [
    "def deleteFile(file_name: str) -> None:\n",
    "    file_path = os.path.join(SIM_OUT_FOLDER, file_name)\n",
    "    try:\n",
    "        if os.path.isfile(file_path) or os.path.islink(file_path):\n",
    "            os.unlink(file_path)\n",
    "        elif os.path.isdir(file_path):\n",
    "            shutil.rmtree(file_path)\n",
    "    except Exception as e:\n",
    "        print(\"Failed to remove %s. Reason: %s\" % (file_path, e))"
   ]
  },
  {
   "attachments": {},
   "cell_type": "markdown",
   "metadata": {},
   "source": [
    "## DTW distance compuation\n",
    "\n",
    "Cells for generating and storing the similarities using dtw"
   ]
  },
  {
   "cell_type": "code",
   "execution_count": 12,
   "metadata": {},
   "outputs": [],
   "source": [
    "## Using Cython DTW, to speed things up\n",
    "\n",
    "def generate_dtw_similarities(data_folder: str, meta_file: str, file_name: str):\n",
    "    deleteFile(file_name)\n",
    "\n",
    "    files = mfh.read_meta_file(meta_file)\n",
    "    trajectories = fh.load_trajectory_files(files, data_folder)\n",
    "\n",
    "    df = dtw.cy_dtw(trajectories)\n",
    "    df.to_csv(os.path.join(SIM_OUT_FOLDER, file_name))\n",
    "\n",
    "\n",
    "def generate_frechet_similarities(data_folder: str, meta_file: str, file_name: str):\n",
    "    deleteFile(file_name)\n",
    "\n",
    "    files = mfh.read_meta_file(meta_file)\n",
    "    trajectories = fh.load_trajectory_files(files, data_folder)\n",
    "\n",
    "    df = frechet.cy_frechet(trajectories)\n",
    "    df.to_csv(os.path.join(SIM_OUT_FOLDER, file_name))\n",
    "\n",
    "\n",
    "def compute_parallell_dtw_similarities(data_folder: str, meta_file: str, file_name: str):\n",
    "    deleteFile(file_name)\n",
    "\n",
    "    files = mfh.read_meta_file(meta_file)\n",
    "    trajectories = fh.load_trajectory_files(files, data_folder)\n",
    "\n",
    "    df = dtw.cy_dtw_pool(trajectories)\n",
    "    df.to_csv(os.path.join(SIM_OUT_FOLDER, file_name))\n",
    "    \n"
   ]
  },
  {
   "cell_type": "code",
   "execution_count": null,
   "metadata": {},
   "outputs": [],
   "source": [
    "# DTW over PORTO\n",
    "generate_dtw_similarities(DATA_PORTO, TEST_SET_PORTO, PORTO_DTW_FILE)"
   ]
  },
  {
   "cell_type": "code",
   "execution_count": 39,
   "metadata": {},
   "outputs": [],
   "source": [
    "# DTW over ROME\n",
    "generate_dtw_similarities(DATA_ROME, TEST_SET_ROME, ROME_DTW_FILE)"
   ]
  },
  {
   "cell_type": "code",
   "execution_count": 40,
   "metadata": {},
   "outputs": [],
   "source": [
    "# Frechet over Porto\n",
    "generate_frechet_similarities(DATA_PORTO, TEST_SET_PORTO, PORTO_FRECHET_FILE)"
   ]
  },
  {
   "cell_type": "code",
   "execution_count": null,
   "metadata": {},
   "outputs": [],
   "source": [
    "# Frechet over rome\n",
    "generate_frechet_similarities(DATA_ROME, TEST_SET_ROME, ROME_FRECHET_FILE)"
   ]
  },
  {
   "cell_type": "code",
   "execution_count": 10,
   "metadata": {},
   "outputs": [
    {
     "name": "stdout",
     "output_type": "stream",
     "text": [
      "          P_AAA     P_AAB     P_AAC     P_AAD     P_AAE     P_AAF     P_AAG  \\\n",
      "P_AAA  0.000000  0.000000  0.000000  0.000000  0.000000  0.000000  0.000000   \n",
      "P_AAB  0.876957  0.000000  0.000000  0.000000  0.000000  0.000000  0.000000   \n",
      "P_AAC  0.403381  1.097134  0.000000  0.000000  0.000000  0.000000  0.000000   \n",
      "P_AAD  0.439374  0.477311  0.725498  0.000000  0.000000  0.000000  0.000000   \n",
      "P_AAE  0.786296  1.138453  0.904284  0.853663  0.000000  0.000000  0.000000   \n",
      "...         ...       ...       ...       ...       ...       ...       ...   \n",
      "P_BMH  0.858050  0.130539  1.107160  0.371797  1.066198  0.783858  1.387092   \n",
      "P_BMI  0.664774  1.005566  0.631517  0.685607  0.975457  0.916853  1.288154   \n",
      "P_BMJ  1.541740  1.001138  1.435010  1.084834  1.672779  0.780296  0.689485   \n",
      "P_BMK  0.980992  0.658459  1.148353  0.335771  1.093989  0.849177  1.173449   \n",
      "P_BML  0.999934  0.654211  1.228376  0.825437  0.953296  0.379451  1.300827   \n",
      "\n",
      "          P_AAH     P_AAI     P_AAJ  ...     P_BMC     P_BMD     P_BME  \\\n",
      "P_AAA  0.000000  0.000000  0.000000  ...  0.000000  0.000000  0.000000   \n",
      "P_AAB  0.000000  0.000000  0.000000  ...  0.000000  0.000000  0.000000   \n",
      "P_AAC  0.000000  0.000000  0.000000  ...  0.000000  0.000000  0.000000   \n",
      "P_AAD  0.000000  0.000000  0.000000  ...  0.000000  0.000000  0.000000   \n",
      "P_AAE  0.000000  0.000000  0.000000  ...  0.000000  0.000000  0.000000   \n",
      "...         ...       ...       ...  ...       ...       ...       ...   \n",
      "P_BMH  0.696768  1.347705  0.430225  ...  0.643920  1.468978  0.597459   \n",
      "P_BMI  0.493015  0.834668  1.140136  ...  0.477147  2.428338  0.865383   \n",
      "P_BMJ  0.738435  1.395241  1.373666  ...  0.690447  1.594902  0.980189   \n",
      "P_BMK  0.442969  1.271045  0.837498  ...  0.413710  1.987623  0.899821   \n",
      "P_BML  0.859030  1.341700  0.963980  ...  0.797705  1.427191  0.087420   \n",
      "\n",
      "          P_BMF     P_BMG     P_BMH     P_BMI     P_BMJ     P_BMK  P_BML  \n",
      "P_AAA  0.000000  0.000000  0.000000  0.000000  0.000000  0.000000    0.0  \n",
      "P_AAB  0.000000  0.000000  0.000000  0.000000  0.000000  0.000000    0.0  \n",
      "P_AAC  0.000000  0.000000  0.000000  0.000000  0.000000  0.000000    0.0  \n",
      "P_AAD  0.000000  0.000000  0.000000  0.000000  0.000000  0.000000    0.0  \n",
      "P_AAE  0.000000  0.000000  0.000000  0.000000  0.000000  0.000000    0.0  \n",
      "...         ...       ...       ...       ...       ...       ...    ...  \n",
      "P_BMH  0.196762  1.048574  0.000000  0.000000  0.000000  0.000000    0.0  \n",
      "P_BMI  0.874234  1.233564  1.012599  0.000000  0.000000  0.000000    0.0  \n",
      "P_BMJ  1.245162  1.019120  1.025102  1.369711  0.000000  0.000000    0.0  \n",
      "P_BMK  0.575782  0.578297  0.515261  0.856569  0.845115  0.000000    0.0  \n",
      "P_BML  0.828418  1.366376  0.669970  0.844405  0.856355  0.941626    0.0  \n",
      "\n",
      "[1000 rows x 1000 columns]\n"
     ]
    }
   ],
   "source": [
    "# Test parallell Porto\n",
    "compute_parallell_dtw_similarities(DATA_PORTO, TEST_SET_PORTO, PORTO_DTW_FILE)\n"
   ]
  },
  {
   "cell_type": "code",
   "execution_count": 13,
   "metadata": {},
   "outputs": [],
   "source": [
    "# Test parallell Rome\n",
    "compute_parallell_dtw_similarities(DATA_ROME, TEST_SET_ROME, ROME_DTW_FILE)"
   ]
  },
  {
   "cell_type": "code",
   "execution_count": 17,
   "metadata": {},
   "outputs": [],
   "source": [
    "## Python DTW\n",
    "\n",
    "files = mfh.read_meta_file(TEST_SET_PORTO)\n",
    "trajectories = fh.load_trajectory_files(files, DATA_PORTO)\n",
    "\n",
    "#df = dtw.py_dtw(trajectories)\n",
    "\n"
   ]
  },
  {
   "attachments": {},
   "cell_type": "markdown",
   "metadata": {},
   "source": [
    "## Frechet distance computation"
   ]
  },
  {
   "cell_type": "code",
   "execution_count": null,
   "metadata": {},
   "outputs": [],
   "source": [
    "## Python frechet\n",
    "\n",
    "files = mfh.read_meta_file(TEST_SET)\n",
    "trajectories = fh.load_trajectory_files(files, DATA_PORTO)\n",
    "\n",
    "df = frechet.py_frechet(trajectories)\n"
   ]
  },
  {
   "cell_type": "code",
   "execution_count": null,
   "metadata": {},
   "outputs": [],
   "source": [
    "## Cython frechet \n",
    "\n",
    "files = mfh.read_meta_file(TEST_SET)\n",
    "trajectories = fh.load_trajectory_files(files, DATA_PORTO)\n",
    "\n",
    "df = frechet.cy_frechet(trajectories)"
   ]
  }
 ],
 "metadata": {
  "kernelspec": {
   "display_name": "Python 3",
   "language": "python",
   "name": "python3"
  },
  "language_info": {
   "codemirror_mode": {
    "name": "ipython",
    "version": 3
   },
   "file_extension": ".py",
   "mimetype": "text/x-python",
   "name": "python",
   "nbconvert_exporter": "python",
   "pygments_lexer": "ipython3",
   "version": "3.10.7"
  },
  "orig_nbformat": 4,
  "vscode": {
   "interpreter": {
    "hash": "6a8cebea5680a70624bfb085291ac11ac025ad85fe214511868677846ba38b53"
   }
  }
 },
 "nbformat": 4,
 "nbformat_minor": 2
}
