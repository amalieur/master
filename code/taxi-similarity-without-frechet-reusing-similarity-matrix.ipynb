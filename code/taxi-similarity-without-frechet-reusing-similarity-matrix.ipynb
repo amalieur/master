{
 "cells": [
  {
   "cell_type": "markdown",
   "metadata": {},
   "source": [
    "# File to do Porto Taxi Trajectory Similiarity"
   ]
  },
  {
   "cell_type": "markdown",
   "metadata": {},
   "source": [
    "### Step 1\n",
    "\n",
    "Open the code/global_variables.py file, [or just click here](global_variables.py). And edit the values to fit the given experiment, the name of the chosen subset (\"subset-*size*) and the size of the subset. As well as the coordinates of the geographical area.\n"
   ]
  },
  {
   "cell_type": "markdown",
   "metadata": {},
   "source": [
    "### Step 2\n",
    "\n",
    "Make sure you have the needed files/folders for the chosen subset.\n",
    " - in data/raw_data there must be a .csv file with the subset of the chosen size. If not, it must be uploaded.\n",
    " - in data/raw_data there must be a .csv file with the busroutes to be used. If not, this must be uploaded.\n",
    "\n",
    " - in data/chosen_data there must be a folder with the same name as global_variables.CHOSEN_SUBSET_NAME. If not, create this empty folder.\n",
    " - in data/hashed_data there must be a folder with the same name as global_variables.CHOSEN_SUBSET_NAME. If not, create this empty folder.\n",
    " - in data there must be a folder called bus_data. If not, create this empty folder.\n",
    " - in code/experiments/results there must be a folder with the same name as global_variables.CHOSEN_SUBSET_NAME. If not create this folder.\n",
    "        - Inside this folder there must be a folder called lists, and a folder named plots. If not, create these empty folders."
   ]
  },
  {
   "cell_type": "markdown",
   "metadata": {},
   "source": [
    "### Step 3\n",
    "\n",
    "Run the cells in [code/porto-data.ipynb](porto-data.ipynb), or just run the cell below.\n",
    "This will load the data from the chosen subset into the folder data/chosen_data/subset-'size', each row in the dataset is written in its own text file. It also creates a META-file which contains the name of all the text files in the subset.\n",
    "\n",
    "(Might requires to install nbformat: \"pip install nbformat\")"
   ]
  },
  {
   "cell_type": "code",
   "execution_count": 1,
   "metadata": {},
   "outputs": [
    {
     "name": "stdout",
     "output_type": "stream",
     "text": [
      "Check the folder: data/chosen_data/subset-2500-without-frechet. Files should have been generated.\n"
     ]
    }
   ],
   "source": [
    "%run \"porto-data.ipynb\""
   ]
  },
  {
   "cell_type": "markdown",
   "metadata": {},
   "source": [
    "### Step 4\n",
    "\n",
    "Run the cells in [code/bus-data.ipynb](bus-data.ipynb), or just run the cell below. This will load the bus data into the folder data/bus_data, each bus-route is written in its own file. It also creted a META-file which containt the name of all the text files in the subset."
   ]
  },
  {
   "cell_type": "code",
   "execution_count": 2,
   "metadata": {},
   "outputs": [
    {
     "name": "stdout",
     "output_type": "stream",
     "text": [
      "Check the folder: data/bus_data/. Files should have been generated.\n"
     ]
    }
   ],
   "source": [
    "%run \"bus-data.ipynb\""
   ]
  },
  {
   "cell_type": "markdown",
   "metadata": {},
   "source": [
    "### Step 5\n",
    "\n",
    "Run the code below to see the clusters created. Reusing the Similarity Matrix (LSH) made by original subset-2500 run, to get the exact same clusters (\"samme utgangspunkt\")."
   ]
  },
  {
   "cell_type": "code",
   "execution_count": null,
   "metadata": {},
   "outputs": [],
   "source": [
    "from math import ceil\n",
    "from experiments.hierarchical_clustering import HCA\n",
    "from experiments.davies_bouldin import davies_bouldin\n",
    "\n",
    "import global_variables\n",
    "\n",
    "best_db_value = 100\n",
    "BestGrid = None\n",
    "\n",
    "highest_number_of_clusters = ceil(global_variables.CHOSEN_SUBSET_SIZE / global_variables.THRESHOLD_NUMBER_OF_TRAJECTORIES)\n",
    "for i in range (5,highest_number_of_clusters):\n",
    "    PortoGrid = HCA(\"Porto\", f\"../code/experiments/similarities/grid_porto-subset-2500-original.csv\", i )\n",
    "    result, _, _ = davies_bouldin(PortoGrid.distances, PortoGrid.clusters)\n",
    "    if result<best_db_value:\n",
    "        best_db_value = result\n",
    "        BestGrid = PortoGrid\n",
    "\n",
    "print(\"Best number of clusters is: \" + str(BestGrid.n_clusters))\n",
    "BestGrid.plot_clusters(\"Porto - Grid\")\n",
    "clusters_dict = BestGrid.get_cluster_dictionary()\n",
    "print(\"Here is the dictionary with the clusters:\")\n",
    "print(clusters_dict)"
   ]
  },
  {
   "cell_type": "markdown",
   "metadata": {},
   "source": [
    "### Step 6\n",
    "Run the cell below to run the Frechet algorithm(with a twist) ONLY to match the clusters with the buses. It uses the clusters already created from LSH, and compare them to the bus routes, to check for similarity. The clusters from LSH is immediately defined as a well-used taxi route, as long as it has enough trajectories."
   ]
  },
  {
   "cell_type": "code",
   "execution_count": null,
   "metadata": {},
   "outputs": [],
   "source": [
    "from experiments.frechet_for_taxi_case import do_whole_experiment_with_only_lsh_to_find_well_used_routes\n",
    "\n",
    "do_whole_experiment_with_only_lsh_to_find_well_used_routes(clusters_dict, raw_df, raw_df_bus)"
   ]
  },
  {
   "cell_type": "markdown",
   "metadata": {},
   "source": [
    "### Step 7\n",
    "Run the cells in [code/results-visualisation.ipynb](results-visualisation.ipynb), or just run the cell below. This will create visualisation of the results, and save them to the folder \"code/experiments/results/subset-'size'/plots\" as html pages, which can be opened in a web browser."
   ]
  },
  {
   "cell_type": "code",
   "execution_count": null,
   "metadata": {},
   "outputs": [],
   "source": [
    "%run \"results-visualisation.ipynb\""
   ]
  },
  {
   "cell_type": "markdown",
   "metadata": {},
   "source": [
    "### (Step 8)\n",
    "If you want to see the visualisations of the results in this notebook, run the cell below. Update the name of the result you want to see, check folder code/experiments/results/subset-'size'/lists to see all results which can be plotted."
   ]
  },
  {
   "cell_type": "code",
   "execution_count": null,
   "metadata": {},
   "outputs": [],
   "source": [
    "# Update this parameter depending on which result you want to view.\n",
    "# All files in folder code/experiments/results/subset-'size'/lists can be chosen. Eg. match-0.csv, not-match-0-csv.\n",
    "#name_of_file = \"match-0.csv\"\n",
    "\n",
    "#plot = plot_result(f\"experiments/results/{global_variables.CHOSEN_SUBSET_NAME}/lists/{name_of_file}\")\n",
    "#plot"
   ]
  }
 ],
 "metadata": {
  "kernelspec": {
   "display_name": "masteroppgave",
   "language": "python",
   "name": "python3"
  },
  "language_info": {
   "codemirror_mode": {
    "name": "ipython",
    "version": 3
   },
   "file_extension": ".py",
   "mimetype": "text/x-python",
   "name": "python",
   "nbconvert_exporter": "python",
   "pygments_lexer": "ipython3",
   "version": "3.12.1"
  },
  "orig_nbformat": 4
 },
 "nbformat": 4,
 "nbformat_minor": 2
}
