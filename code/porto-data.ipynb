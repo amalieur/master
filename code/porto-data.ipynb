{
 "cells": [
  {
   "attachments": {},
   "cell_type": "markdown",
   "metadata": {},
   "source": [
    "# Sheet for extracting raw-data from Porto dataset"
   ]
  },
  {
   "cell_type": "code",
   "execution_count": 1,
   "metadata": {},
   "outputs": [],
   "source": [
    "# Importing necessary modules\n",
    "\n",
    "import pandas as pd\n",
    "import os, shutil\n",
    "\n",
    "import global_variables\n",
    "\n",
    "\n",
    "# From utils\n",
    "from utils.alphabetical_number import increment_alphabetical\n",
    "from utils.trajectory_distance import calculate_trajectory_distance\n",
    "from utils.metafile_handler import create_meta_file, get_meta_file, delete_meta_file\n"
   ]
  },
  {
   "cell_type": "code",
   "execution_count": 2,
   "metadata": {},
   "outputs": [],
   "source": [
    "# Containning variables and constants for this spreadsheet\n",
    "SHOULD_DELETE_OLD_FILES= True\n",
    "OUTPUT_FOLDER = f\"../data/chosen_data/{global_variables.CHOSEN_SUBSET_NAME}/\"\n",
    "RAW_DATA_FILE = f\"../data/raw_data/{global_variables.CHOSEN_SUBSET_NAME}-6-percent.csv\"\n",
    "\n",
    "LOG = False # Set to true for printing during data extraction\n",
    "\n",
    "NUMBER_OF_TRACES = global_variables.CHOSEN_SUBSET_SIZE"
   ]
  },
  {
   "cell_type": "code",
   "execution_count": 3,
   "metadata": {},
   "outputs": [],
   "source": [
    "# Reading the original dataset into dataframe\n",
    "\n",
    "raw_df = pd.read_csv(RAW_DATA_FILE)"
   ]
  },
  {
   "cell_type": "code",
   "execution_count": 5,
   "metadata": {},
   "outputs": [],
   "source": [
    "# Run this cell to clear the chosen files in the PORTO folder\n",
    "\n",
    "if SHOULD_DELETE_OLD_FILES:\n",
    "    for filename in os.listdir(OUTPUT_FOLDER):\n",
    "        file_path = os.path.join(OUTPUT_FOLDER, filename)\n",
    "        try:\n",
    "            if os.path.isfile(file_path) or os.path.islink(file_path):\n",
    "                os.unlink(file_path)\n",
    "            elif os.path.isdir(file_path):\n",
    "                shutil.rmtree(file_path)\n",
    "        except Exception as e:\n",
    "            print(\"Failed to remove %s. Reason: %s\" % (file_path, e))"
   ]
  },
  {
   "cell_type": "code",
   "execution_count": null,
   "metadata": {},
   "outputs": [],
   "source": [
    "# This cell will read the data and generate a file for each trajectory in the given output directory\n",
    "# Will choose traces longer than n points that are within a given rectangle of the city\n",
    "\n",
    "name_counter = \"AAAA\"\n",
    "\n",
    "for index, row in raw_df.iterrows():\n",
    "    trace_id = row[\"TRIP_ID\"] \n",
    "    trace = row[\"POLYLINE\"][2:-2].split(\"],[\")\n",
    "\n",
    "    with open(f'{OUTPUT_FOLDER}/P_{name_counter}.txt','w') as file:\n",
    "        for coordinate in trace:\n",
    "            lon, lat = coordinate.split(\",\")\n",
    "            file.write(\"%s, %s\\n\" % (lat, lon))\n",
    "        file.close()\n",
    "\n",
    "    name_counter = increment_alphabetical(name_counter)\n"
   ]
  },
  {
   "cell_type": "code",
   "execution_count": null,
   "metadata": {},
   "outputs": [],
   "source": [
    "# Creating the metafiles that will function as index files for the datasets\n",
    "\n",
    "if get_meta_file(OUTPUT_FOLDER):\n",
    "    delete_meta_file(OUTPUT_FOLDER)\n",
    "\n",
    "create_meta_file(path_to_files=OUTPUT_FOLDER, data_prefix=\"P_\")"
   ]
  }
 ],
 "metadata": {
  "kernelspec": {
   "display_name": "Python 3",
   "language": "python",
   "name": "python3"
  },
  "language_info": {
   "codemirror_mode": {
    "name": "ipython",
    "version": 3
   },
   "file_extension": ".py",
   "mimetype": "text/x-python",
   "name": "python",
   "nbconvert_exporter": "python",
   "pygments_lexer": "ipython3",
   "version": "3.12.1"
  },
  "orig_nbformat": 4,
  "vscode": {
   "interpreter": {
    "hash": "6a8cebea5680a70624bfb085291ac11ac025ad85fe214511868677846ba38b53"
   }
  }
 },
 "nbformat": 4,
 "nbformat_minor": 2
}
