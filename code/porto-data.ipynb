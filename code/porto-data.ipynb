{
 "cells": [
  {
   "cell_type": "markdown",
   "metadata": {},
   "source": [
    "# Sheet for extracting raw-data from rome dataset"
   ]
  },
  {
   "cell_type": "code",
   "execution_count": 1,
   "metadata": {},
   "outputs": [],
   "source": [
    "# Importing necessary modules\n",
    "\n",
    "import pandas as pd\n",
    "import os, shutil\n",
    "\n",
    "# From utils\n",
    "from utils.alphabetical_number import increment_alphabetical\n",
    "from utils.trajectory_distance import calculate_trajectory_distance\n",
    "from utils.metafile_handler import create_meta_files, get_meta_files, delete_meta_files\n"
   ]
  },
  {
   "cell_type": "code",
   "execution_count": 2,
   "metadata": {},
   "outputs": [],
   "source": [
    "# Containning variables and constants for this spreadsheet\n",
    "\n",
    "SHOULD_DELETE_OLD_FILES= True\n",
    "\n",
    "OUTPUT_FOLDER = \"../data/chosen_data/porto/\"\n",
    "RAW_DATA_FILE = \"../data/raw_data/train.csv\"\n",
    "\n",
    "LOG = False # Set to true for printing during data extraction\n",
    "\n",
    "MAX_LON = -8.57\n",
    "MIN_LON = -8.66\n",
    "MAX_LAT = 41.19\n",
    "MIN_LAT = 41.14\n",
    "MIN_LEN = 40\n",
    "\n",
    "NUMBER_OF_TRACES = 1000\n",
    "MAX_DIST_BETWEEN_COORDINATES = 0.2 # Km"
   ]
  },
  {
   "cell_type": "code",
   "execution_count": 3,
   "metadata": {},
   "outputs": [
    {
     "name": "stdout",
     "output_type": "stream",
     "text": [
      "Bounded rectangle have sidelengths (X,Y): (5.559754011677007, 7.536733782089804) km\n"
     ]
    }
   ],
   "source": [
    "# Calculating the size of the minimum bounding rectangle\n",
    "\n",
    "X = calculate_trajectory_distance([ ( MIN_LAT, MIN_LON ) , ( MAX_LAT, MIN_LON ) ])\n",
    "Y = calculate_trajectory_distance([ ( MIN_LAT, MIN_LON ) , ( MIN_LAT, MAX_LON ) ])\n",
    "\n",
    "print(f\"Bounded rectangle have sidelengths (X,Y): {X, Y} km\")"
   ]
  },
  {
   "cell_type": "code",
   "execution_count": 4,
   "metadata": {},
   "outputs": [],
   "source": [
    "# Reading the dataset into dataframe\n",
    "\n",
    "raw_df = pd.read_csv(RAW_DATA_FILE)"
   ]
  },
  {
   "cell_type": "code",
   "execution_count": 10,
   "metadata": {},
   "outputs": [],
   "source": [
    "# Run this cell to clear the chosen files in the PORTO folder\n",
    "\n",
    "if SHOULD_DELETE_OLD_FILES:\n",
    "    for filename in os.listdir(OUTPUT_FOLDER):\n",
    "        file_path = os.path.join(OUTPUT_FOLDER, filename)\n",
    "        try:\n",
    "            if os.path.isfile(file_path) or os.path.islink(file_path):\n",
    "                os.unlink(file_path)\n",
    "            elif os.path.isdir(file_path):\n",
    "                shutil.rmtree(file_path)\n",
    "        except Exception as e:\n",
    "            print(\"Failed to remove %s. Reason: %s\" % (file_path, e))"
   ]
  },
  {
   "cell_type": "code",
   "execution_count": 11,
   "metadata": {},
   "outputs": [
    {
     "name": "stdout",
     "output_type": "stream",
     "text": [
      "Number of trajectories written to file: 1000\n"
     ]
    }
   ],
   "source": [
    "# This cell will read the data and generate a file for each trajectory in the given output directory\n",
    "# Will choose traces longer than n points that are within a given rectangle of the city\n",
    "\n",
    "counter = 0\n",
    "name_counter = \"AAA\"\n",
    "\n",
    "for index, row in raw_df.iterrows():\n",
    "    trace_id = row[\"TRIP_ID\"] \n",
    "\n",
    "    # If row is misssing data: ignore row\n",
    "    if row[\"MISSING_DATA\"] == True: \n",
    "        if LOG: print(trace_id, \"is missing data\") \n",
    "        continue\n",
    "\n",
    "    trace = row[\"POLYLINE\"][2:-2].split(\"],[\")\n",
    "\n",
    "    # If trace-length less than \"MIN_LEN\": ignore row\n",
    "    if len(trace) < MIN_LEN: \n",
    "        if LOG:  print(trace_id, \"is less than preferred length\")\n",
    "        continue\n",
    "\n",
    "\n",
    "    # If trace are outside bounded rectangle or noisy data: ignore row\n",
    "    \n",
    "    last_coordinate = trace[0]\n",
    "    for coordinate in trace:\n",
    "\n",
    "        lon, lat = list(map(float, coordinate.split(\",\")))\n",
    "\n",
    "        # Outside bounded rectangle\n",
    "        if ( not ( MIN_LAT <= lat <= MAX_LAT )) or ( not ( MIN_LON <= lon <= MAX_LON )):\n",
    "            if LOG: print(trace_id, \"is outside bounded rectangle\")\n",
    "            break\n",
    "\n",
    "        # Traces with noisy data:\n",
    "        if last_coordinate != coordinate:\n",
    "            last_lon, last_lat = list(map(float, last_coordinate.split(\",\")))\n",
    "            distance = calculate_trajectory_distance([(last_lat, last_lon), (lat, lon)])\n",
    "            \n",
    "            # If distance between two consecutive coordinates are too great:\n",
    "            if distance > MAX_DIST_BETWEEN_COORDINATES:\n",
    "                if LOG: print(\"Possibly noisy data - continuing with next trace\")\n",
    "                break \n",
    "            \n",
    "\n",
    "\n",
    "        last_coordinate = coordinate\n",
    "        # IMPLEMENT HERE, use distance function \n",
    "\n",
    "    # Else, everything is good so far --> Write trajectory to file\n",
    "    else:        \n",
    "        with open(f'{OUTPUT_FOLDER}/P_{name_counter}.txt','w') as file:\n",
    "            for coordinate in trace:\n",
    "                lon, lat = coordinate.split(\",\")\n",
    "                file.write(\"%s, %s\\n\" % (lat, lon))\n",
    "            file.close()\n",
    "\n",
    "        counter +=1\n",
    "        \n",
    "        name_counter = increment_alphabetical(name_counter)\n",
    "\n",
    "        if counter >= NUMBER_OF_TRACES: \n",
    "            break\n",
    "\n",
    "\n",
    "\n",
    "print(\"Number of trajectories written to file:\", counter)"
   ]
  },
  {
   "cell_type": "code",
   "execution_count": 12,
   "metadata": {},
   "outputs": [],
   "source": [
    "# Creating the metafiles that will function as index files for the datasets\n",
    "\n",
    "if get_meta_files(OUTPUT_FOLDER):\n",
    "    delete_meta_files(OUTPUT_FOLDER)\n",
    "\n",
    "create_meta_files(path_to_files=OUTPUT_FOLDER, data_prefix=\"P_\", create_test_set=True)"
   ]
  }
 ],
 "metadata": {
  "kernelspec": {
   "display_name": "Python 3",
   "language": "python",
   "name": "python3"
  },
  "language_info": {
   "codemirror_mode": {
    "name": "ipython",
    "version": 3
   },
   "file_extension": ".py",
   "mimetype": "text/x-python",
   "name": "python",
   "nbconvert_exporter": "python",
   "pygments_lexer": "ipython3",
   "version": "3.10.7"
  },
  "orig_nbformat": 4,
  "vscode": {
   "interpreter": {
    "hash": "6a8cebea5680a70624bfb085291ac11ac025ad85fe214511868677846ba38b53"
   }
  }
 },
 "nbformat": 4,
 "nbformat_minor": 2
}
