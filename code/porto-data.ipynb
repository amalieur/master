{
 "cells": [
  {
   "cell_type": "markdown",
   "metadata": {},
   "source": [
    "# Sheet for extracting raw-data from rome dataset"
   ]
  },
  {
   "cell_type": "code",
   "execution_count": 148,
   "metadata": {},
   "outputs": [],
   "source": [
    "# Importing necessary modules\n",
    "\n",
    "import pandas as pd\n",
    "from tqdm import tqdm\n",
    "import os, shutil"
   ]
  },
  {
   "cell_type": "code",
   "execution_count": 149,
   "metadata": {},
   "outputs": [],
   "source": [
    "# Containning variables and constants for this spreadsheet\n",
    "\n",
    "SHOULD_DELETE_OLD_FILES= True\n",
    "OUTPUT_FOLDER = \"../data/chosen_data/porto/\"\n",
    "RAW_DATA_FILE = \"../data/raw_data/train.csv\"\n",
    "\n",
    "LOG = False # Set to true for printing during data extraction\n",
    "\n",
    "MAX_LON = -8.57\n",
    "MIN_LON = -8.66\n",
    "MAX_LAT = 41.19\n",
    "MIN_LAT = 41.14\n",
    "MIN_LEN = 40\n",
    "\n",
    "NUMBER_OF_TRACES = 1000"
   ]
  },
  {
   "cell_type": "code",
   "execution_count": 150,
   "metadata": {},
   "outputs": [],
   "source": [
    "# Reading the dataset into dataframe\n",
    "\n",
    "raw_df = pd.read_csv(RAW_DATA_FILE)"
   ]
  },
  {
   "cell_type": "code",
   "execution_count": 151,
   "metadata": {},
   "outputs": [],
   "source": [
    "# Run this cell to clear the chosen files in the PORTO folder\n",
    "\n",
    "if SHOULD_DELETE_OLD_FILES:\n",
    "    for filename in os.listdir(OUTPUT_FOLDER):\n",
    "        file_path = os.path.join(OUTPUT_FOLDER, filename)\n",
    "        try:\n",
    "            if os.path.isfile(file_path) or os.path.islink(file_path):\n",
    "                os.unlink(file_path)\n",
    "            elif os.path.isdir(file_path):\n",
    "                shutil.rmtree(file_path)\n",
    "        except Exception as e:\n",
    "            print(\"Failed to remove %s. Reason: %s\" % (file_path, e))\n",
    "\n"
   ]
  },
  {
   "cell_type": "code",
   "execution_count": 152,
   "metadata": {},
   "outputs": [
    {
     "name": "stdout",
     "output_type": "stream",
     "text": [
      "Number of trajectories written to file: 1000\n"
     ]
    }
   ],
   "source": [
    "\n",
    "# This cell will read the data and generate a file for each trajectory in the given output directory\n",
    "# Will choose traces longer than n points that are within a given rectangle of the city\n",
    "\n",
    "counter = 0\n",
    "\n",
    "for index, row in raw_df.iterrows():\n",
    "    trace_id = row[\"TRIP_ID\"] \n",
    "\n",
    "    # If row is misssing data: ignore row\n",
    "    if row[\"MISSING_DATA\"] == True: \n",
    "        if LOG: print(trace_id, \"is missing data\") \n",
    "        continue\n",
    "\n",
    "    trace = row[\"POLYLINE\"][2:-2].split(\"],[\")\n",
    "\n",
    "    # If trace-length less than \"MIN_LEN\": ignore row\n",
    "    if len(trace) < MIN_LEN: \n",
    "        if LOG:  print(trace_id, \"is less than preferred length\")\n",
    "        continue\n",
    "\n",
    "\n",
    "    # If trace are outside bounded rectangle: ignore row\n",
    "    for coordinate in trace:\n",
    "        lon, lat = coordinate.split(\",\")\n",
    "        if not (MIN_LON <= float(lon) <= MAX_LON):\n",
    "            if LOG: print(trace_id, \"is outside bounded rectangle\")\n",
    "            break\n",
    "    \n",
    "\n",
    "\n",
    "    # Else, everything is good so far --> Write trajectory to file\n",
    "    else:\n",
    "        \n",
    "        with open(f'{OUTPUT_FOLDER}/{trace_id}.txt','w') as file:\n",
    "            for coordinate in trace:\n",
    "                lon, lat = coordinate.split(\",\")\n",
    "                file.write(\"%s, %s\\n\" % (lon, lat))\n",
    "            file.close()\n",
    "\n",
    "        counter += 1\n",
    "\n",
    "        if counter >= NUMBER_OF_TRACES: \n",
    "            break\n",
    "\n",
    "\n",
    "\n",
    "print(\"Number of trajectories written to file:\", counter)"
   ]
  }
 ],
 "metadata": {
  "kernelspec": {
   "display_name": "Python 3",
   "language": "python",
   "name": "python3"
  },
  "language_info": {
   "codemirror_mode": {
    "name": "ipython",
    "version": 3
   },
   "file_extension": ".py",
   "mimetype": "text/x-python",
   "name": "python",
   "nbconvert_exporter": "python",
   "pygments_lexer": "ipython3",
   "version": "3.10.7 (tags/v3.10.7:6cc6b13, Sep  5 2022, 14:08:36) [MSC v.1933 64 bit (AMD64)]"
  },
  "orig_nbformat": 4,
  "vscode": {
   "interpreter": {
    "hash": "6a8cebea5680a70624bfb085291ac11ac025ad85fe214511868677846ba38b53"
   }
  }
 },
 "nbformat": 4,
 "nbformat_minor": 2
}
