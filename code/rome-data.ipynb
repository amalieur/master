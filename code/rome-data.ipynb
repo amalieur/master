{
 "cells": [
  {
   "attachments": {},
   "cell_type": "markdown",
   "metadata": {},
   "source": [
    "# Sheet for extracting raw-data from rome dataset"
   ]
  },
  {
   "cell_type": "code",
   "execution_count": 43,
   "metadata": {},
   "outputs": [],
   "source": [
    "# Importing necessary modules\n",
    "\n",
    "import pandas as pd\n",
    "from tqdm import tqdm\n",
    "import math\n",
    "import re\n",
    "import numpy as np\n",
    "from haversine import haversine, Unit\n",
    "from datetime import datetime, timedelta\n",
    "import os, shutil\n"
   ]
  },
  {
   "cell_type": "code",
   "execution_count": 41,
   "metadata": {},
   "outputs": [],
   "source": [
    "# Declaring variables and constants for this sheet\n",
    "\n",
    "SHOULD_DELETE_OLD_FILES= True\n",
    "\n",
    "OUTPUT_FOLDER = \"../data/chosen_data/rome/\"\n",
    "RAW_DATA_FILE = \"../data/raw_data/taxi_february.txt\"\n",
    "\n",
    "LOG = False # Set to true for printing during data extraction\n",
    "\n",
    "MAX_LON = 12.53\n",
    "MIN_LON = 12.44\n",
    "MAX_LAT = 41.93\n",
    "MIN_LAT = 41.88\n",
    "MIN_LEN = 40 # Perhaps change this one\n",
    "\n",
    "MAX_TIME_DIFF_SECONDS = 60 # Maximum time difference between two consecutive trackpoints in a trajectory\n",
    "\n",
    "NUMBER_OF_TRACES = 1000\n"
   ]
  },
  {
   "cell_type": "code",
   "execution_count": 5,
   "metadata": {},
   "outputs": [],
   "source": [
    "# Reading the dataset into a dataframe\n",
    "\n",
    "raw_df = pd.read_csv(RAW_DATA_FILE, delimiter=\";\", names=[\"index\", \"timestamp\", \"location\"])"
   ]
  },
  {
   "cell_type": "code",
   "execution_count": 6,
   "metadata": {},
   "outputs": [],
   "source": [
    "# Helper function to compute distance between a list of coordinates (Trajectory distance)\n",
    "# Haversine distance used\n",
    "\n",
    "def calculate_trajectory_distance(positions: list[tuple[float]]) -> float:\n",
    "    distance = 0\n",
    "    for i in range(1, len(positions)):\n",
    "        from_location = positions[i-1]\n",
    "        to_location = positions[i]\n",
    "\n",
    "        distance += haversine(from_location, to_location, unit=Unit.KILOMETERS)\n",
    "    return distance\n",
    "\n",
    "#calculate_trajectory_distance([(63.40788858583628, 10.406207470471212),(59.92062511800243, 10.719254233646412),(62.48483421400412, 17.058008125391442)])"
   ]
  },
  {
   "cell_type": "code",
   "execution_count": 7,
   "metadata": {},
   "outputs": [
    {
     "name": "stdout",
     "output_type": "stream",
     "text": [
      "316\n"
     ]
    }
   ],
   "source": [
    "# Printing numner of unique drivers in set\n",
    "print(raw_df[\"index\"].unique().__len__())"
   ]
  },
  {
   "cell_type": "code",
   "execution_count": 8,
   "metadata": {},
   "outputs": [],
   "source": [
    "# Must sort the values according to their index and timestamp \n",
    "# Also copying the dataframe as we will touch the values in the \"location\" column\n",
    "\n",
    "raw_df.head(1000000).sort_values(by=[\"index\", \"timestamp\"]).loc[raw_df['index'] == 2]\n",
    "\n",
    "df = raw_df.copy()\n"
   ]
  },
  {
   "cell_type": "code",
   "execution_count": 9,
   "metadata": {},
   "outputs": [],
   "source": [
    "# Cell that translates the location column of the dataframe to only the locations\n",
    "\n",
    "df[\"location\"] = df[\"location\"].apply(lambda x: re.search(r'\\(.*?\\)', x).group(0)[1:-1].replace(\" \", \",\"))\n"
   ]
  },
  {
   "cell_type": "code",
   "execution_count": 10,
   "metadata": {},
   "outputs": [
    {
     "data": {
      "text/html": [
       "<div>\n",
       "<style scoped>\n",
       "    .dataframe tbody tr th:only-of-type {\n",
       "        vertical-align: middle;\n",
       "    }\n",
       "\n",
       "    .dataframe tbody tr th {\n",
       "        vertical-align: top;\n",
       "    }\n",
       "\n",
       "    .dataframe thead th {\n",
       "        text-align: right;\n",
       "    }\n",
       "</style>\n",
       "<table border=\"1\" class=\"dataframe\">\n",
       "  <thead>\n",
       "    <tr style=\"text-align: right;\">\n",
       "      <th></th>\n",
       "      <th>index</th>\n",
       "      <th>timestamp</th>\n",
       "      <th>location</th>\n",
       "    </tr>\n",
       "  </thead>\n",
       "  <tbody>\n",
       "    <tr>\n",
       "      <th>33</th>\n",
       "      <td>2</td>\n",
       "      <td>2014-02-01 00:00:10.168741+01</td>\n",
       "      <td>41.9081300994706,12.5043668987191</td>\n",
       "    </tr>\n",
       "    <tr>\n",
       "      <th>89</th>\n",
       "      <td>2</td>\n",
       "      <td>2014-02-01 00:00:25.774039+01</td>\n",
       "      <td>41.9086630527271,12.5066009228874</td>\n",
       "    </tr>\n",
       "    <tr>\n",
       "      <th>138</th>\n",
       "      <td>2</td>\n",
       "      <td>2014-02-01 00:00:40.26196+01</td>\n",
       "      <td>41.9090395026945,12.5079114632066</td>\n",
       "    </tr>\n",
       "    <tr>\n",
       "      <th>191</th>\n",
       "      <td>2</td>\n",
       "      <td>2014-02-01 00:00:56.451894+01</td>\n",
       "      <td>41.9090395026945,12.5079114632066</td>\n",
       "    </tr>\n",
       "    <tr>\n",
       "      <th>240</th>\n",
       "      <td>2</td>\n",
       "      <td>2014-02-01 00:01:09.895936+01</td>\n",
       "      <td>41.9090395026945,12.5079114632066</td>\n",
       "    </tr>\n",
       "    <tr>\n",
       "      <th>...</th>\n",
       "      <td>...</td>\n",
       "      <td>...</td>\n",
       "      <td>...</td>\n",
       "    </tr>\n",
       "    <tr>\n",
       "      <th>39913</th>\n",
       "      <td>2</td>\n",
       "      <td>2014-02-01 06:08:00.070977+01</td>\n",
       "      <td>41.8880515893667,12.3763677048198</td>\n",
       "    </tr>\n",
       "    <tr>\n",
       "      <th>39948</th>\n",
       "      <td>2</td>\n",
       "      <td>2014-02-01 06:08:14.330084+01</td>\n",
       "      <td>41.8879860192086,12.3763204528913</td>\n",
       "    </tr>\n",
       "    <tr>\n",
       "      <th>244650</th>\n",
       "      <td>2</td>\n",
       "      <td>2014-02-01 21:05:10.951712+01</td>\n",
       "      <td>41.8956181485921,12.4182874889476</td>\n",
       "    </tr>\n",
       "    <tr>\n",
       "      <th>244651</th>\n",
       "      <td>2</td>\n",
       "      <td>2014-02-01 21:05:10.952329+01</td>\n",
       "      <td>41.8956181485921,12.4182874889476</td>\n",
       "    </tr>\n",
       "    <tr>\n",
       "      <th>244681</th>\n",
       "      <td>2</td>\n",
       "      <td>2014-02-01 21:05:16.937915+01</td>\n",
       "      <td>41.8954556101762,12.417983885293</td>\n",
       "    </tr>\n",
       "  </tbody>\n",
       "</table>\n",
       "<p>1548 rows × 3 columns</p>\n",
       "</div>"
      ],
      "text/plain": [
       "        index                      timestamp  \\\n",
       "33          2  2014-02-01 00:00:10.168741+01   \n",
       "89          2  2014-02-01 00:00:25.774039+01   \n",
       "138         2   2014-02-01 00:00:40.26196+01   \n",
       "191         2  2014-02-01 00:00:56.451894+01   \n",
       "240         2  2014-02-01 00:01:09.895936+01   \n",
       "...       ...                            ...   \n",
       "39913       2  2014-02-01 06:08:00.070977+01   \n",
       "39948       2  2014-02-01 06:08:14.330084+01   \n",
       "244650      2  2014-02-01 21:05:10.951712+01   \n",
       "244651      2  2014-02-01 21:05:10.952329+01   \n",
       "244681      2  2014-02-01 21:05:16.937915+01   \n",
       "\n",
       "                                 location  \n",
       "33      41.9081300994706,12.5043668987191  \n",
       "89      41.9086630527271,12.5066009228874  \n",
       "138     41.9090395026945,12.5079114632066  \n",
       "191     41.9090395026945,12.5079114632066  \n",
       "240     41.9090395026945,12.5079114632066  \n",
       "...                                   ...  \n",
       "39913   41.8880515893667,12.3763677048198  \n",
       "39948   41.8879860192086,12.3763204528913  \n",
       "244650  41.8956181485921,12.4182874889476  \n",
       "244651  41.8956181485921,12.4182874889476  \n",
       "244681   41.8954556101762,12.417983885293  \n",
       "\n",
       "[1548 rows x 3 columns]"
      ]
     },
     "execution_count": 10,
     "metadata": {},
     "output_type": "execute_result"
    }
   ],
   "source": [
    "df.loc[df['index']==2].head(1548)"
   ]
  },
  {
   "cell_type": "code",
   "execution_count": 55,
   "metadata": {},
   "outputs": [],
   "source": [
    "# Run this cell to clear the chosen files in the PORTO folder\n",
    "\n",
    "if SHOULD_DELETE_OLD_FILES:\n",
    "    for filename in os.listdir(OUTPUT_FOLDER):\n",
    "        file_path = os.path.join(OUTPUT_FOLDER, filename)\n",
    "        try:\n",
    "            if os.path.isfile(file_path) or os.path.islink(file_path):\n",
    "                os.unlink(file_path)\n",
    "            elif os.path.isdir(file_path):\n",
    "                shutil.rmtree(file_path)\n",
    "        except Exception as e:\n",
    "            print(\"Failed to remove %s. Reason: %s\" % (file_path, e))"
   ]
  },
  {
   "cell_type": "code",
   "execution_count": 56,
   "metadata": {},
   "outputs": [],
   "source": [
    "# Some helper functions for controling and saving the trajectories\n",
    "\n",
    "#Save function\n",
    "def save_current_trajectory(driver_id, trajectory: list[tuple[float]]) -> None:\n",
    "    with open(f'{OUTPUT_FOLDER}/{str(trajectory[0][0])[3:]+driver_id}.txt', \"w\") as file:\n",
    "        for coordinate in trajectory:\n",
    "            lon, lat = coordinate\n",
    "            file.write(\"%s, %s\\n\" % (lon, lat))\n",
    "        file.close()\n",
    "        return\n",
    "\n",
    "\n",
    "# Control function:\n",
    "def control_current_trajectory(driver_id, trajectory: list[tuple[float]]) -> None:\n",
    "    pass\n",
    "    # TODO\n",
    "\n",
    "\n",
    "save_current_trajectory(\"12\", [(12.12223,22.12223),(13.1111,31.1111),(33.2345,33)])"
   ]
  },
  {
   "cell_type": "code",
   "execution_count": 46,
   "metadata": {},
   "outputs": [
    {
     "ename": "IndentationError",
     "evalue": "expected an indented block after 'for' statement on line 11 (1953614413.py, line 15)",
     "output_type": "error",
     "traceback": [
      "\u001b[1;36m  Cell \u001b[1;32mIn [46], line 15\u001b[1;36m\u001b[0m\n\u001b[1;33m    def control_current_trajectory(driver_id, trajectory: list[tuple[float]]) -> None:\u001b[0m\n\u001b[1;37m                                                                                      ^\u001b[0m\n\u001b[1;31mIndentationError\u001b[0m\u001b[1;31m:\u001b[0m expected an indented block after 'for' statement on line 11\n"
     ]
    }
   ],
   "source": [
    "# Cell to extract traces that are of a minimum length of N locations and within a given distance window\n",
    "# For each \"found\" trajectory that satisfies the requirements, a file containing the locations of the trajecotry should be genereated \n",
    "\n",
    "counter = 0\n",
    "last_driver_id = None\n",
    "last_timestamp = None\n",
    "trajectory = []\n",
    "\n",
    "for index, row in df.loc[df['index']==2].head(1548).head(3).iterrows():\n",
    "    current_driver_id = row[\"index\"]\n",
    "    current_timestamp = row[\"timestamp\"]\n",
    "    \n",
    "    print(current_timestamp) \n",
    "\n",
    "    if last_timestamp:\n",
    "\n",
    "        # Checking whether time between two consecutive points are greater than a given const \n",
    "            t_last = datetime.strptime(last_timestamp[0:last_timestamp.index(\"+\")], \"%Y-%m-%d %H:%M:%S.%f\")\n",
    "            t_current = datetime.strptime(current_timestamp[0:current_timestamp.index(\"+\")], \"%Y-%m-%d %H:%M:%S.%f\")\n",
    "            \n",
    "            # Case: Too big timedelta between points\n",
    "            if t_current - t_last > timedelta(seconds=MAX_TIME_DIFF_SECONDS):\n",
    "                if LOG: print(\"Timedelta is greater than treshold\")\n",
    "                # TODO\n",
    "\n",
    "    # If no other \n",
    "\n",
    "\n",
    "    # At end of each iteration: \n",
    "    last_timestamp = row[\"timestamp\"]\n",
    "    last_driver_id = current_driver_id"
   ]
  },
  {
   "cell_type": "code",
   "execution_count": null,
   "metadata": {},
   "outputs": [],
   "source": []
  }
 ],
 "metadata": {
  "kernelspec": {
   "display_name": "Python 3",
   "language": "python",
   "name": "python3"
  },
  "language_info": {
   "codemirror_mode": {
    "name": "ipython",
    "version": 3
   },
   "file_extension": ".py",
   "mimetype": "text/x-python",
   "name": "python",
   "nbconvert_exporter": "python",
   "pygments_lexer": "ipython3",
   "version": "3.10.7"
  },
  "orig_nbformat": 4,
  "vscode": {
   "interpreter": {
    "hash": "6a8cebea5680a70624bfb085291ac11ac025ad85fe214511868677846ba38b53"
   }
  }
 },
 "nbformat": 4,
 "nbformat_minor": 2
}
