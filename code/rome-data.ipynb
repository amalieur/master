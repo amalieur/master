{
 "cells": [
  {
   "attachments": {},
   "cell_type": "markdown",
   "metadata": {},
   "source": [
    "# Sheet for extracting raw-data from rome dataset"
   ]
  },
  {
   "attachments": {},
   "cell_type": "markdown",
   "metadata": {},
   "source": [
    "Itererer gjennom listen med datapunkter og oppretter trajectories.\n",
    "\n",
    "Det opprettes en trajectory, der alle påfølgende punkter legges inn, så lenge det er samme sjåfør, innenfor et tidsvindu og innenfor et bounding rectangle.\n",
    "\n",
    "Et trajectory blir lagret dersom det er minst MIN_LEN punkter langt, er innenfor MIN_DIST og MAX_DIST, samt at avstanden mellom start og sluttpunkt ikke er mer enn 2.5 ganger sporets reelle lengde.\n",
    "\n",
    "Sporene blir konstruert slik at siste punkt i et spor, kan ha sitt neste (naturlige) punkt i det neste genererte sporet, såfremt det tilfreddsstiller de andre kravene under generering. Dette bør ikke bli et problem, men er greit å opplyse om i oppgaven. De genererte sporene fra Roma-settet vil trolig ha mer komplisert data enn Porto, da det ikke er gitt om de genererte sporene er faktiske taxiturer, deler av taxiturer, snirkling - det kan være hva som helst, og mest sannsynlig en blanding av flere kategorier av kjøretyper."
   ]
  },
  {
   "cell_type": "code",
   "execution_count": 12,
   "metadata": {},
   "outputs": [],
   "source": [
    "# Importing necessary modules\n",
    "\n",
    "import pandas as pd\n",
    "from tqdm import tqdm\n",
    "import math\n",
    "import re\n",
    "import numpy as np\n",
    "\n",
    "from datetime import datetime, timedelta\n",
    "import os, shutil\n",
    "\n",
    "# From utils\n",
    "from utils.alphabetical_incrementer import increment_alphabetical\n",
    "from utils.trajectory_distance import calculate_trajectory_distance\n",
    "from utils.metafile_handler import create_meta_files, get_meta_files, delete_meta_files"
   ]
  },
  {
   "cell_type": "code",
   "execution_count": 2,
   "metadata": {},
   "outputs": [],
   "source": [
    "# Declaring variables and constants for this sheet\n",
    "\n",
    "SHOULD_DELETE_OLD_FILES= True\n",
    "\n",
    "OUTPUT_FOLDER = \"../data/chosen_data/rome/\"\n",
    "RAW_DATA_FILE = \"../data/raw_data/taxi_february.txt\"\n",
    "\n",
    "LOG = False # Set to true for printing/debug during data extraction\n",
    "\n",
    "MAX_LON = 12.53\n",
    "MIN_LON = 12.44\n",
    "MAX_LAT = 41.93\n",
    "MIN_LAT = 41.88\n",
    "\n",
    "MIN_LEN = 40 # Perhaps change this one\n",
    "MIN_DIST = 4 # In km\n",
    "MAX_DIST = 6 # In km\n",
    "\n",
    "MAX_TIME_DIFF_SECONDS = 32 # Maximum time difference between two consecutive trackpoints in a trajectory\n",
    "\n",
    "NUMBER_OF_TRACES = 1000\n"
   ]
  },
  {
   "cell_type": "code",
   "execution_count": 3,
   "metadata": {},
   "outputs": [
    {
     "name": "stdout",
     "output_type": "stream",
     "text": [
      "Bounded rectangle have sidelengths (X,Y): (5.559754011676299, 7.451072531046803) km\n"
     ]
    }
   ],
   "source": [
    "# Calculating the size of the minimum bounding rectangle\n",
    "\n",
    "X = calculate_trajectory_distance([ ( MIN_LAT, MIN_LON ) , ( MAX_LAT, MIN_LON ) ])\n",
    "Y = calculate_trajectory_distance([ ( MIN_LAT, MIN_LON ) , ( MIN_LAT, MAX_LON ) ])\n",
    "\n",
    "print(f\"Bounded rectangle have sidelengths (X,Y): {X, Y} km\")"
   ]
  },
  {
   "cell_type": "code",
   "execution_count": 4,
   "metadata": {},
   "outputs": [],
   "source": [
    "# Reading the dataset into a dataframe\n",
    "\n",
    "raw_df = pd.read_csv(RAW_DATA_FILE, delimiter=\";\", names=[\"index\", \"timestamp\", \"location\"])"
   ]
  },
  {
   "cell_type": "code",
   "execution_count": 5,
   "metadata": {},
   "outputs": [],
   "source": [
    "# Must sort the values according to their index and timestamp \n",
    "# Also copying the dataframe as we will touch the values in the \"location\" column\n",
    "# Will probably take some time\n",
    "\n",
    "df = raw_df.head(1500000).sort_values(by=[\"index\", \"timestamp\"]).copy()\n",
    "\n",
    "# Deleting raw_df for performance reasons\n",
    "del raw_df\n"
   ]
  },
  {
   "cell_type": "code",
   "execution_count": 6,
   "metadata": {},
   "outputs": [],
   "source": [
    "# Cell that translates the location column of the dataframe to only the locations\n",
    "# Will probably take some time to finish\n",
    "\n",
    "df[\"location\"] = df[\"location\"].apply(lambda x: re.search(r'\\(.*?\\)', x).group(0)[1:-1].replace(\" \", \",\"))\n"
   ]
  },
  {
   "cell_type": "code",
   "execution_count": 7,
   "metadata": {},
   "outputs": [],
   "source": [
    "# Run this cell to clear the chosen files in the PORTO folder\n",
    "\n",
    "if SHOULD_DELETE_OLD_FILES:\n",
    "    for filename in os.listdir(OUTPUT_FOLDER):\n",
    "        file_path = os.path.join(OUTPUT_FOLDER, filename)\n",
    "        try:\n",
    "            if os.path.isfile(file_path) or os.path.islink(file_path):\n",
    "                os.unlink(file_path)\n",
    "            elif os.path.isdir(file_path):\n",
    "                shutil.rmtree(file_path)\n",
    "        except Exception as e:\n",
    "            print(\"Failed to remove %s. Reason: %s\" % (file_path, e))"
   ]
  },
  {
   "cell_type": "code",
   "execution_count": 8,
   "metadata": {},
   "outputs": [],
   "source": [
    "# Some helper functions for controling and saving the trajectories\n",
    "\n",
    "#Save function\n",
    "def save_current_trajectory( file_name: str, trajectory: list[tuple[float]] ) -> None:\n",
    "    with open(f'{OUTPUT_FOLDER}/R_{file_name}.txt', \"w\") as file:\n",
    "        for coordinate in trajectory:\n",
    "            lat, lon = coordinate\n",
    "            file.write(\"%s, %s\\n\" % (lat, lon))\n",
    "        file.close()\n",
    "        return\n",
    "\n",
    "\n",
    "# Control function:\n",
    "def control_current_trajectory( trajectory: list[tuple[float]] ) -> None:\n",
    "    pass\n",
    "    # TODO\n",
    "\n"
   ]
  },
  {
   "cell_type": "code",
   "execution_count": 9,
   "metadata": {},
   "outputs": [
    {
     "name": "stdout",
     "output_type": "stream",
     "text": [
      "Created 1000 trajectories\n"
     ]
    }
   ],
   "source": [
    "# Cell to extract traces that are of a minimum length of N locations and within a given distance window\n",
    "counter = 0\n",
    "name_counter = \"AAA\"\n",
    "\n",
    "last_driver_id = None\n",
    "last_timestamp = None\n",
    "last_location = None\n",
    "trajectory = []\n",
    "\n",
    "for index, row in df.iterrows():\n",
    "\n",
    "    current_driver_id = row[\"index\"]\n",
    "    current_timestamp = row[\"timestamp\"]\n",
    "    \n",
    "    current_location = row[\"location\"].split(\",\")\n",
    "    lat, lon = current_location\n",
    "\n",
    "    # On first run or change in driver_id:\n",
    "    if (not last_timestamp) or (last_driver_id != current_driver_id):\n",
    "        last_timestamp = current_timestamp\n",
    "        last_location = current_location\n",
    "        last_driver_id = current_driver_id\n",
    "        trajectory.clear()\n",
    "        continue\n",
    "\n",
    "    # Location outside bounded rectangle, go to next row\n",
    "    if ( not ( MIN_LON <= float(lon) <= MAX_LON )) or ( not ( MIN_LAT <= float(lat) <= MAX_LAT )):\n",
    "        if LOG: print(\"Location outside bounded rectangle: \", name_counter, lat,lon)\n",
    "        continue\n",
    "    \n",
    "    try:\n",
    "\n",
    "        # Checking whether time between two consecutive points are greater than a given const \n",
    "        t_last = datetime.strptime(last_timestamp[0:last_timestamp.index(\".\")], \"%Y-%m-%d %H:%M:%S\")\n",
    "        t_current = datetime.strptime(current_timestamp[0:current_timestamp.index(\".\")], \"%Y-%m-%d %H:%M:%S\")\n",
    "\n",
    "    except:\n",
    "        last_timestamp = current_timestamp\n",
    "        last_location = current_location\n",
    "        last_driver_id = current_driver_id\n",
    "        trajectory.clear()\n",
    "        continue\n",
    "\n",
    "\n",
    "    # If timedelta small enough\n",
    "    if t_current - t_last <= timedelta(seconds=MAX_TIME_DIFF_SECONDS):\n",
    "        if LOG: print(\"Timedelta is small enough\")\n",
    "        \n",
    "        trajectory.append((float(lat), float(lon)))\n",
    "\n",
    "    if MIN_LEN <= len(trajectory):\n",
    "        trajectory_distance = calculate_trajectory_distance(trajectory)\n",
    "        shortest_distance = calculate_trajectory_distance([trajectory[0],trajectory[-1]])\n",
    "\n",
    "        if  MIN_DIST <= trajectory_distance <= MAX_DIST and trajectory_distance < shortest_distance * 2.5:\n",
    "            # TODO Ensure that all points in trajectory are valid\n",
    "\n",
    "\n",
    "            \n",
    "            # Saving trajectory and updating variables\n",
    "            save_current_trajectory(name_counter, trajectory=trajectory)\n",
    "            if LOG: print(f\"Total distance: {name_counter, trajectory_distance, shortest_distance, len(trajectory)}\")\n",
    "\n",
    "            counter +=1\n",
    "            name_counter = increment_alphabetical(name_counter)\n",
    "            trajectory.clear()\n",
    "\n",
    "        if trajectory_distance > MAX_DIST:\n",
    "            trajectory.clear()\n",
    "\n",
    "    \n",
    "    # If enough trajetories are generated: \n",
    "    if counter >= NUMBER_OF_TRACES: \n",
    "        break\n",
    "    \n",
    "    last_timestamp = current_timestamp\n",
    "    last_driver_id = last_driver_id\n",
    "    last_location = last_location\n",
    "\n",
    "print(f\"Created {counter} trajectories\")"
   ]
  },
  {
   "cell_type": "code",
   "execution_count": 13,
   "metadata": {},
   "outputs": [],
   "source": [
    "# Creating the metafiles that will function as index files for the datasets\n",
    "\n",
    "if get_meta_files(OUTPUT_FOLDER):\n",
    "    delete_meta_files(OUTPUT_FOLDER)\n",
    "\n",
    "create_meta_files(path_to_files=OUTPUT_FOLDER, data_prefix=\"R_\", create_test_set=True)"
   ]
  }
 ],
 "metadata": {
  "kernelspec": {
   "display_name": "Python 3",
   "language": "python",
   "name": "python3"
  },
  "language_info": {
   "codemirror_mode": {
    "name": "ipython",
    "version": 3
   },
   "file_extension": ".py",
   "mimetype": "text/x-python",
   "name": "python",
   "nbconvert_exporter": "python",
   "pygments_lexer": "ipython3",
   "version": "3.10.7"
  },
  "orig_nbformat": 4,
  "vscode": {
   "interpreter": {
    "hash": "6a8cebea5680a70624bfb085291ac11ac025ad85fe214511868677846ba38b53"
   }
  }
 },
 "nbformat": 4,
 "nbformat_minor": 2
}
