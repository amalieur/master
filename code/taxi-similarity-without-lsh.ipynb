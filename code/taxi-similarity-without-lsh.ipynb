{
 "cells": [
  {
   "cell_type": "markdown",
   "metadata": {},
   "source": [
    "# File to do Porto Taxi Trajectory Similiarity"
   ]
  },
  {
   "cell_type": "markdown",
   "metadata": {},
   "source": [
    "### Step 1\n",
    "\n",
    "Open the code/global_variables.py file, [or just click here](global_variables.py). And edit the values to fit the given experiment, the name of the chosen subset (\"subset-*size*) and the size of the subset. As well as the coordinates of the geographical area.\n"
   ]
  },
  {
   "cell_type": "markdown",
   "metadata": {},
   "source": [
    "### Step 2\n",
    "\n",
    "Make sure you have the needed files/folders for the chosen subset.\n",
    " - in data/raw_data there must be a .csv file with the subset of the chosen size. If not, it must be uploaded.\n",
    " - in data/raw_data there must be a .csv file with the busroutes to be used. If not, this must be uploaded.\n",
    "\n",
    " - in data/chosen_data there must be a folder with the same name as global_variables.CHOSEN_SUBSET_NAME. If not, create this empty folder.\n",
    " - in data there must be a folder called bus_data. If not, create this empty folder.\n",
    " - in code/experiments/results there must be a folder with the same name as global_variables.CHOSEN_SUBSET_NAME. If not create this folder.\n",
    "        - Inside this folder there must be a folder called lists, and a folder named plots. If not, create these empty folders."
   ]
  },
  {
   "cell_type": "markdown",
   "metadata": {},
   "source": [
    "### Step 3\n",
    "\n",
    "Run the cells in [code/porto-data.ipynb](porto-data.ipynb), or just run the cell below.\n",
    "This will load the data from the chosen subset into the folder data/chosen_data/subset-'size', each row in the dataset is written in its own text file. It also creates a META-file which contains the name of all the text files in the subset.\n",
    "\n",
    "(Might requires to install nbformat: \"pip install nbformat\")"
   ]
  },
  {
   "cell_type": "code",
   "execution_count": null,
   "metadata": {},
   "outputs": [],
   "source": [
    "%run \"porto-data.ipynb\""
   ]
  },
  {
   "cell_type": "markdown",
   "metadata": {},
   "source": [
    "### Step 4\n",
    "\n",
    "Run the cells in [code/bus-data.ipynb](bus-data.ipynb), or just run the cell below. This will load the bus data into the folder data/bus_data, each bus-route is written in its own file. It also creted a META-file which containt the name of all the text files in the subset."
   ]
  },
  {
   "cell_type": "code",
   "execution_count": null,
   "metadata": {},
   "outputs": [],
   "source": [
    "%run \"bus-data.ipynb\""
   ]
  },
  {
   "cell_type": "markdown",
   "metadata": {},
   "source": [
    "### Step 5\n",
    "Create dictionary of all trajectories in the same format as cluster_dict, but this time all of the trajectories is in the same cluster since we have not done lsh first."
   ]
  },
  {
   "cell_type": "code",
   "execution_count": null,
   "metadata": {},
   "outputs": [],
   "source": [
    "#Create dict\n",
    "from utils import metafile_handler as mfh\n",
    "from utils import file_handler as fh\n",
    "import global_variables\n",
    "\n",
    "DATA_FOLDER = f\"../data/chosen_data/{global_variables.CHOSEN_SUBSET_NAME}/\"\n",
    "META_FILE = f\"../data/chosen_data/{global_variables.CHOSEN_SUBSET_NAME}/META.txt\"\n",
    "\n",
    "files = mfh.read_meta_file(META_FILE)\n",
    "trajectories = fh.load_trajectory_files(files, DATA_FOLDER)\n",
    "        \n",
    "keys = sorted(trajectories.keys())\n",
    "\n",
    "taxi_data_dict = {0: keys}"
   ]
  },
  {
   "cell_type": "markdown",
   "metadata": {},
   "source": [
    "### Step 6\n",
    "Run the cell below to run the Frechet algorithm(with a twist). It uses the clusters already created from LSH, and checks the trajectories within the same cluster for \"real\" similarity to find the well used taxi routes. Then the well used taxi routes is compared to the bus routes, to check for similarity."
   ]
  },
  {
   "cell_type": "code",
   "execution_count": null,
   "metadata": {},
   "outputs": [],
   "source": [
    "from experiments.frechet_for_taxi_case import do_whole_experiment\n",
    "\n",
    "do_whole_experiment(taxi_data_dict, raw_df, raw_df_bus)"
   ]
  },
  {
   "cell_type": "markdown",
   "metadata": {},
   "source": [
    "### Step 7\n",
    "Run the cells in [code/results-visualisation.ipynb](results-visualisation.ipynb), or just run the cell below. This will create visualisation of the results, and save them to the folder \"code/experiments/results/subset-'size'/plots\" as html pages, which can be opened in a web browser."
   ]
  },
  {
   "cell_type": "code",
   "execution_count": null,
   "metadata": {},
   "outputs": [],
   "source": [
    "%run \"results-visualisation.ipynb\""
   ]
  },
  {
   "cell_type": "markdown",
   "metadata": {},
   "source": [
    "### (Step 8)\n",
    "If you want to see the visualisations of the results in this notebook, run the cell below. Update the name of the result you want to see, check folder code/experiments/results/subset-'size'/lists to see all results which can be plotted."
   ]
  },
  {
   "cell_type": "code",
   "execution_count": null,
   "metadata": {},
   "outputs": [],
   "source": [
    "# Update this parameter depending on which result you want to view.\n",
    "# All files in folder code/experiments/results/subset-'size'/lists can be chosen. Eg. match-0.csv, not-match-0-csv.\n",
    "#name_of_file = \"match-0.csv\"\n",
    "\n",
    "#plot = plot_result(f\"experiments/results/{global_variables.CHOSEN_SUBSET_NAME}/lists/{name_of_file}\")\n",
    "#plot"
   ]
  }
 ],
 "metadata": {
  "kernelspec": {
   "display_name": "masteroppgave",
   "language": "python",
   "name": "python3"
  },
  "language_info": {
   "codemirror_mode": {
    "name": "ipython",
    "version": 3
   },
   "file_extension": ".py",
   "mimetype": "text/x-python",
   "name": "python",
   "nbconvert_exporter": "python",
   "pygments_lexer": "ipython3",
   "version": "3.12.1"
  },
  "orig_nbformat": 4
 },
 "nbformat": 4,
 "nbformat_minor": 2
}
